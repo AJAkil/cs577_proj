{
  "cells": [
    {
      "cell_type": "code",
      "execution_count": 5,
      "metadata": {
        "colab": {
          "base_uri": "https://localhost:8080/"
        },
        "id": "N8SfhO4SVVWd",
        "outputId": "f6cd9f21-a5cc-4c49-d5f3-079faaa831a8"
      },
      "outputs": [
        {
          "output_type": "stream",
          "name": "stdout",
          "text": [
            "\u001b[2K     \u001b[90m━━━━━━━━━━━━━━━━━━━━━━━━━━━━━━━━━━━━━━━━\u001b[0m \u001b[32m81.4/81.4 kB\u001b[0m \u001b[31m718.6 kB/s\u001b[0m eta \u001b[36m0:00:00\u001b[0m\n",
            "\u001b[2K     \u001b[90m━━━━━━━━━━━━━━━━━━━━━━━━━━━━━━━━━━━━━━━━\u001b[0m \u001b[32m66.3/66.3 kB\u001b[0m \u001b[31m4.5 MB/s\u001b[0m eta \u001b[36m0:00:00\u001b[0m\n",
            "\u001b[?25h  Preparing metadata (setup.py) ... \u001b[?25l\u001b[?25hdone\n",
            "\u001b[2K     \u001b[90m━━━━━━━━━━━━━━━━━━━━━━━━━━━━━━━━━━━━━━━━\u001b[0m \u001b[32m72.9/72.9 kB\u001b[0m \u001b[31m3.5 MB/s\u001b[0m eta \u001b[36m0:00:00\u001b[0m\n",
            "\u001b[2K     \u001b[90m━━━━━━━━━━━━━━━━━━━━━━━━━━━━━━━━━━━━━━━━\u001b[0m \u001b[32m124.0/124.0 kB\u001b[0m \u001b[31m8.2 MB/s\u001b[0m eta \u001b[36m0:00:00\u001b[0m\n",
            "\u001b[2K     \u001b[90m━━━━━━━━━━━━━━━━━━━━━━━━━━━━━━━━━━━━━━━━\u001b[0m \u001b[32m542.0/542.0 kB\u001b[0m \u001b[31m21.6 MB/s\u001b[0m eta \u001b[36m0:00:00\u001b[0m\n",
            "\u001b[2K     \u001b[90m━━━━━━━━━━━━━━━━━━━━━━━━━━━━━━━━━━━━━━━━\u001b[0m \u001b[32m116.3/116.3 kB\u001b[0m \u001b[31m11.1 MB/s\u001b[0m eta \u001b[36m0:00:00\u001b[0m\n",
            "\u001b[2K     \u001b[90m━━━━━━━━━━━━━━━━━━━━━━━━━━━━━━━━━━━━━━━━\u001b[0m \u001b[32m194.1/194.1 kB\u001b[0m \u001b[31m16.7 MB/s\u001b[0m eta \u001b[36m0:00:00\u001b[0m\n",
            "\u001b[2K     \u001b[90m━━━━━━━━━━━━━━━━━━━━━━━━━━━━━━━━━━━━━━━━\u001b[0m \u001b[32m134.8/134.8 kB\u001b[0m \u001b[31m11.5 MB/s\u001b[0m eta \u001b[36m0:00:00\u001b[0m\n",
            "\u001b[2K     \u001b[90m━━━━━━━━━━━━━━━━━━━━━━━━━━━━━━━━━━━━━━━━\u001b[0m \u001b[32m2.1/2.1 MB\u001b[0m \u001b[31m38.6 MB/s\u001b[0m eta \u001b[36m0:00:00\u001b[0m\n",
            "\u001b[2K     \u001b[90m━━━━━━━━━━━━━━━━━━━━━━━━━━━━━━━━━━━━━━━━\u001b[0m \u001b[32m411.2/411.2 kB\u001b[0m \u001b[31m10.1 MB/s\u001b[0m eta \u001b[36m0:00:00\u001b[0m\n",
            "\u001b[2K     \u001b[90m━━━━━━━━━━━━━━━━━━━━━━━━━━━━━━━━━━━━━━━━\u001b[0m \u001b[32m138.8/138.8 kB\u001b[0m \u001b[31m13.1 MB/s\u001b[0m eta \u001b[36m0:00:00\u001b[0m\n",
            "\u001b[2K     \u001b[90m━━━━━━━━━━━━━━━━━━━━━━━━━━━━━━━━━━━━━━━━\u001b[0m \u001b[32m49.7/49.7 kB\u001b[0m \u001b[31m3.1 MB/s\u001b[0m eta \u001b[36m0:00:00\u001b[0m\n",
            "\u001b[2K     \u001b[90m━━━━━━━━━━━━━━━━━━━━━━━━━━━━━━━━━━━━━━━━\u001b[0m \u001b[32m3.0/3.0 MB\u001b[0m \u001b[31m49.3 MB/s\u001b[0m eta \u001b[36m0:00:00\u001b[0m\n",
            "\u001b[2K     \u001b[90m━━━━━━━━━━━━━━━━━━━━━━━━━━━━━━━━━━━━━━━━\u001b[0m \u001b[32m93.1/93.1 kB\u001b[0m \u001b[31m7.3 MB/s\u001b[0m eta \u001b[36m0:00:00\u001b[0m\n",
            "\u001b[2K     \u001b[90m━━━━━━━━━━━━━━━━━━━━━━━━━━━━━━━━━━━━━━━━\u001b[0m \u001b[32m297.6/297.6 kB\u001b[0m \u001b[31m22.6 MB/s\u001b[0m eta \u001b[36m0:00:00\u001b[0m\n",
            "\u001b[2K     \u001b[90m━━━━━━━━━━━━━━━━━━━━━━━━━━━━━━━━━━━━━━━━\u001b[0m \u001b[32m102.0/102.0 kB\u001b[0m \u001b[31m9.6 MB/s\u001b[0m eta \u001b[36m0:00:00\u001b[0m\n",
            "\u001b[2K     \u001b[90m━━━━━━━━━━━━━━━━━━━━━━━━━━━━━━━━━━━━━━━━\u001b[0m \u001b[32m388.9/388.9 kB\u001b[0m \u001b[31m28.7 MB/s\u001b[0m eta \u001b[36m0:00:00\u001b[0m\n",
            "\u001b[?25h  Building wheel for rouge_score (setup.py) ... \u001b[?25l\u001b[?25hdone\n",
            "\u001b[2K     \u001b[90m━━━━━━━━━━━━━━━━━━━━━━━━━━━━━━━━━━━━━━━━\u001b[0m \u001b[32m2.2/2.2 MB\u001b[0m \u001b[31m7.3 MB/s\u001b[0m eta \u001b[36m0:00:00\u001b[0m\n",
            "\u001b[2K     \u001b[90m━━━━━━━━━━━━━━━━━━━━━━━━━━━━━━━━━━━━━━━━\u001b[0m \u001b[32m119.8/119.8 MB\u001b[0m \u001b[31m5.9 MB/s\u001b[0m eta \u001b[36m0:00:00\u001b[0m\n",
            "\u001b[2K     \u001b[90m━━━━━━━━━━━━━━━━━━━━━━━━━━━━━━━━━━━━━━━━\u001b[0m \u001b[32m207.3/207.3 kB\u001b[0m \u001b[31m14.4 MB/s\u001b[0m eta \u001b[36m0:00:00\u001b[0m\n",
            "\u001b[2K     \u001b[90m━━━━━━━━━━━━━━━━━━━━━━━━━━━━━━━━━━━━━━━━\u001b[0m \u001b[32m267.1/267.1 kB\u001b[0m \u001b[31m18.3 MB/s\u001b[0m eta \u001b[36m0:00:00\u001b[0m\n",
            "\u001b[2K     \u001b[90m━━━━━━━━━━━━━━━━━━━━━━━━━━━━━━━━━━━━━━━━\u001b[0m \u001b[32m62.7/62.7 kB\u001b[0m \u001b[31m5.6 MB/s\u001b[0m eta \u001b[36m0:00:00\u001b[0m\n",
            "\u001b[?25h"
          ]
        }
      ],
      "source": [
        "%pip install -q --disable-pip-version-check \\\n",
        "    evaluate==0.4.0 \\\n",
        "    py7zr==0.20.4 \\\n",
        "    sentencepiece==0.1.99 \\\n",
        "    rouge_score==0.1.2 \\\n",
        "    loralib==0.1.1 \\\n",
        "    peft==0.4.0 \\\n",
        "    trl==0.7.2\n",
        "%pip install -q    wandb bitsandbytes accelerate"
      ]
    },
    {
      "cell_type": "code",
      "execution_count": 1,
      "metadata": {
        "colab": {
          "base_uri": "https://localhost:8080/"
        },
        "id": "dlbcgtSzVcJr",
        "outputId": "cef85923-ed5c-47e9-8018-ca9840dc9270"
      },
      "outputs": [
        {
          "output_type": "stream",
          "name": "stdout",
          "text": [
            "Mounted at /content/drive\n"
          ]
        }
      ],
      "source": [
        "from google.colab import drive\n",
        "drive.mount('/content/drive')"
      ]
    },
    {
      "cell_type": "code",
      "execution_count": 2,
      "metadata": {
        "id": "l8BrAkLgVedX"
      },
      "outputs": [],
      "source": [
        "from google.colab import output\n",
        "output.enable_custom_widget_manager()"
      ]
    },
    {
      "cell_type": "code",
      "execution_count": 3,
      "metadata": {
        "id": "rzvrKqZBVfyN"
      },
      "outputs": [],
      "source": [
        "PROJECT = \"FlanT5-Lora\"\n",
        "MODEL_NAME = 'google/flan-t5-base'\n",
        "DATASET = \"knkarthick/dialogsum\""
      ]
    },
    {
      "cell_type": "code",
      "execution_count": 6,
      "metadata": {
        "colab": {
          "base_uri": "https://localhost:8080/"
        },
        "id": "LoKc9VWEVg9O",
        "outputId": "40d3f3d6-8d0e-4d1e-e177-699ef7827289"
      },
      "outputs": [
        {
          "output_type": "stream",
          "name": "stderr",
          "text": [
            "WARNING:bitsandbytes.cextension:The installed version of bitsandbytes was compiled without GPU support. 8-bit optimizers, 8-bit multiplication, and GPU quantization are unavailable.\n"
          ]
        }
      ],
      "source": [
        "from datasets import load_dataset\n",
        "from transformers import AutoModelForSeq2SeqLM, AutoTokenizer, GenerationConfig, TrainingArguments, Trainer\n",
        "import torch\n",
        "import time\n",
        "import evaluate\n",
        "import pandas as pd\n",
        "import numpy as np\n",
        "\n",
        "# tqdm library makes the loops show a smart progress meter.\n",
        "from tqdm import tqdm\n",
        "tqdm.pandas()"
      ]
    },
    {
      "cell_type": "code",
      "execution_count": 7,
      "metadata": {
        "id": "w3LSqs12VisJ"
      },
      "outputs": [],
      "source": [
        "import locale\n",
        "locale.getpreferredencoding = lambda: \"UTF-8\""
      ]
    },
    {
      "cell_type": "code",
      "execution_count": 10,
      "metadata": {
        "colab": {
          "base_uri": "https://localhost:8080/"
        },
        "id": "YacR2vegVjmF",
        "outputId": "d7e27358-b0d7-42a6-d14c-6b2a22d62058"
      },
      "outputs": [
        {
          "output_type": "stream",
          "name": "stdout",
          "text": [
            "quantitative_results\t test_cooccur_old.csv\t   train.jsonl\n",
            "results_qualitative\t test.jsonl\t\t   validate.jsonl\n",
            "test_cooccur_new.csv\t train_cooccur_new.csv\t   validation_cooccur_new.csv\n",
            "test_cooccur_new.gsheet  train_cooccur_new.gsheet  validation_cooccur_new.gsheet\n"
          ]
        }
      ],
      "source": [
        "!ls"
      ]
    },
    {
      "cell_type": "code",
      "execution_count": 9,
      "metadata": {
        "id": "5FV2tCkeVlce"
      },
      "outputs": [],
      "source": [
        "import os\n",
        "os.chdir('drive/MyDrive/nlp_proj_dataset')"
      ]
    },
    {
      "cell_type": "code",
      "execution_count": 11,
      "metadata": {
        "colab": {
          "base_uri": "https://localhost:8080/",
          "height": 363,
          "referenced_widgets": [
            "80208bb22b2f4f68a08ee268ed1f11d4",
            "8abe4ccba7694582ac10e6c35e2f8e79",
            "8522aabc8f614b85876fe1513da2864a",
            "8444a13459ce4d8d8332c87bc80dea5f",
            "04aea9e660c2404da62ec4ceb535024a",
            "7f1118c689e24a5ea9a2408682b17e7b",
            "aa2902cef5d64bf6821f4a58b121d4e8",
            "9fe7842d6b01435380e242eeda767d46",
            "2c58dd13bb454a80973a77971d80ada1",
            "e625d761e25547a1a0ee2e5264f6fb6d",
            "a893b690aee94038a9fb8a80dcac42a1",
            "09b25be3e4c14a848cfc52c5a488bfcc",
            "e99e346946ec450b961cadf18285b70b",
            "62c8271865e64c1999a62f5201f67534",
            "da9e797022c44862a21a874101ecfd62",
            "7ed09835f355433fa4ae49ff09361e12",
            "b0984955c1174ed68b9a2d4b4a9d95fc",
            "ce0248ebd06e414084ac3f576d872664",
            "a3106de234c64337a85fa4b3045c30b5",
            "92427c98d40c44eab9654bff76062544",
            "be3231c4f3d947ae93a0c4188568d424",
            "ac24212f67a5440aa8856e81bb62fc26",
            "03f3f6f1fbbd413a9cb526a4638a21e0",
            "6f6bd0350154459eba1de1993a264335",
            "d06b9b0e49d141f180d55aeca7341d02",
            "b83d5d91dd2e43679af31c8471a37824",
            "6f498fb2104842809e08b7c1320ea80a",
            "88e4a478d97d46378d6efb256d459338",
            "114c3b8d8cf540279e3287f9eb83a4e5",
            "50d8549bd7c44def8bd1cf7ea37b9370",
            "4cfe080ace5246b78910b056b74a5e15",
            "2fb9e0da62c74254ba5a6afcbbc258d4",
            "6da0b53bb1004bfd81e424b2e7249c6a"
          ]
        },
        "id": "vP8h2M1XVm5R",
        "outputId": "ad23c5fc-5292-4a3a-ccb1-67b6379af9ec"
      },
      "outputs": [
        {
          "output_type": "display_data",
          "data": {
            "text/plain": [
              "Generating train split: 0 examples [00:00, ? examples/s]"
            ],
            "application/vnd.jupyter.widget-view+json": {
              "version_major": 2,
              "version_minor": 0,
              "model_id": "80208bb22b2f4f68a08ee268ed1f11d4"
            }
          },
          "metadata": {
            "application/vnd.jupyter.widget-view+json": {
              "colab": {
                "custom_widget_manager": {
                  "url": "https://ssl.gstatic.com/colaboratory-static/widgets/colab-cdn-widget-manager/2b70e893a8ba7c0f/manager.min.js"
                }
              }
            }
          }
        },
        {
          "output_type": "display_data",
          "data": {
            "text/plain": [
              "Generating test split: 0 examples [00:00, ? examples/s]"
            ],
            "application/vnd.jupyter.widget-view+json": {
              "version_major": 2,
              "version_minor": 0,
              "model_id": "ac24212f67a5440aa8856e81bb62fc26"
            }
          },
          "metadata": {
            "application/vnd.jupyter.widget-view+json": {
              "colab": {
                "custom_widget_manager": {
                  "url": "https://ssl.gstatic.com/colaboratory-static/widgets/colab-cdn-widget-manager/2b70e893a8ba7c0f/manager.min.js"
                }
              }
            }
          }
        },
        {
          "output_type": "display_data",
          "data": {
            "text/plain": [
              "Generating validation split: 0 examples [00:00, ? examples/s]"
            ],
            "application/vnd.jupyter.widget-view+json": {
              "version_major": 2,
              "version_minor": 0,
              "model_id": "6da0b53bb1004bfd81e424b2e7249c6a"
            }
          },
          "metadata": {
            "application/vnd.jupyter.widget-view+json": {
              "colab": {
                "custom_widget_manager": {
                  "url": "https://ssl.gstatic.com/colaboratory-static/widgets/colab-cdn-widget-manager/2b70e893a8ba7c0f/manager.min.js"
                }
              }
            }
          }
        },
        {
          "output_type": "stream",
          "name": "stdout",
          "text": [
            "DatasetDict({\n",
            "    train: Dataset({\n",
            "        features: ['idx', 'inputs', 'target'],\n",
            "        num_rows: 1000\n",
            "    })\n",
            "    test: Dataset({\n",
            "        features: ['idx', 'inputs', 'target'],\n",
            "        num_rows: 150\n",
            "    })\n",
            "    validation: Dataset({\n",
            "        features: ['idx', 'inputs', 'target'],\n",
            "        num_rows: 50\n",
            "    })\n",
            "})\n"
          ]
        }
      ],
      "source": [
        "from datasets import load_dataset\n",
        "\n",
        "# Define the paths to your files\n",
        "\n",
        "def create_hf_dataset():\n",
        "    data_files = {}\n",
        "    data_files[\"train\"] = 'train.jsonl'\n",
        "    data_files[\"test\"]  = 'test.jsonl'\n",
        "    data_files[\"validation\"] = 'validate.jsonl'\n",
        "\n",
        "    # Load the datasets\n",
        "    dataset = load_dataset('json', data_files=data_files)\n",
        "\n",
        "    # Print the first example of the training dataset\n",
        "    print(dataset)\n",
        "\n",
        "    return dataset\n",
        "\n",
        "# check the number of examples in each dataset\n",
        "\n",
        "dataset = create_hf_dataset()"
      ]
    },
    {
      "cell_type": "code",
      "execution_count": 12,
      "metadata": {
        "colab": {
          "base_uri": "https://localhost:8080/",
          "height": 424
        },
        "id": "xhxEj30PVo6l",
        "outputId": "831792b2-b619-46dd-9f40-f85e25e7675e"
      },
      "outputs": [
        {
          "output_type": "execute_result",
          "data": {
            "text/plain": [
              "     idx                                             inputs  \\\n",
              "0      0  SUBJECT: who and where to get cetirizine - D M...   \n",
              "1      1  who makes bromocriptine i am wondering what co...   \n",
              "2      2  SUBJECT: nulytely MESSAGE: Hello can you tell ...   \n",
              "3      3  Williams' syndrome I would like to have my dau...   \n",
              "4      4  ClinicalTrials.gov - Question - general inform...   \n",
              "..   ...                                                ...   \n",
              "995  995  SUBJECT: after surgery of ear drum still same ...   \n",
              "996  996  SUBJECT: ClinicalTrials.gov - Question - speci...   \n",
              "997  997  MESSAGE: I have numbness/tingling in my lower ...   \n",
              "998  998  SUBJECT: sleep apnea MESSAGE: I was diagnosed ...   \n",
              "999  999  SUBJECT: Home resources for AMD people MESSAGE...   \n",
              "\n",
              "                                                target  \n",
              "0                         Who manufactures cetirizine?  \n",
              "1                      Who manufactures bromocriptine?  \n",
              "2          Who makes nulytely, and where can I buy it?  \n",
              "3    Where can I get genetic testing for william's ...  \n",
              "4    Where can I get genetic testing for multiple m...  \n",
              "..                                                 ...  \n",
              "995    What are the treatments for perforated eardrum?  \n",
              "996  What are the treatments for Glycogen storage d...  \n",
              "997  Where can I find information and treatment for...  \n",
              "998  How long does swelling from sleep apnea take t...  \n",
              "999  What resources are available for elderly with ...  \n",
              "\n",
              "[1000 rows x 3 columns]"
            ],
            "text/html": [
              "\n",
              "  <div id=\"df-e55ed2e6-4bc3-4468-9501-da0e3cd3b566\" class=\"colab-df-container\">\n",
              "    <div>\n",
              "<style scoped>\n",
              "    .dataframe tbody tr th:only-of-type {\n",
              "        vertical-align: middle;\n",
              "    }\n",
              "\n",
              "    .dataframe tbody tr th {\n",
              "        vertical-align: top;\n",
              "    }\n",
              "\n",
              "    .dataframe thead th {\n",
              "        text-align: right;\n",
              "    }\n",
              "</style>\n",
              "<table border=\"1\" class=\"dataframe\">\n",
              "  <thead>\n",
              "    <tr style=\"text-align: right;\">\n",
              "      <th></th>\n",
              "      <th>idx</th>\n",
              "      <th>inputs</th>\n",
              "      <th>target</th>\n",
              "    </tr>\n",
              "  </thead>\n",
              "  <tbody>\n",
              "    <tr>\n",
              "      <th>0</th>\n",
              "      <td>0</td>\n",
              "      <td>SUBJECT: who and where to get cetirizine - D M...</td>\n",
              "      <td>Who manufactures cetirizine?</td>\n",
              "    </tr>\n",
              "    <tr>\n",
              "      <th>1</th>\n",
              "      <td>1</td>\n",
              "      <td>who makes bromocriptine i am wondering what co...</td>\n",
              "      <td>Who manufactures bromocriptine?</td>\n",
              "    </tr>\n",
              "    <tr>\n",
              "      <th>2</th>\n",
              "      <td>2</td>\n",
              "      <td>SUBJECT: nulytely MESSAGE: Hello can you tell ...</td>\n",
              "      <td>Who makes nulytely, and where can I buy it?</td>\n",
              "    </tr>\n",
              "    <tr>\n",
              "      <th>3</th>\n",
              "      <td>3</td>\n",
              "      <td>Williams' syndrome I would like to have my dau...</td>\n",
              "      <td>Where can I get genetic testing for william's ...</td>\n",
              "    </tr>\n",
              "    <tr>\n",
              "      <th>4</th>\n",
              "      <td>4</td>\n",
              "      <td>ClinicalTrials.gov - Question - general inform...</td>\n",
              "      <td>Where can I get genetic testing for multiple m...</td>\n",
              "    </tr>\n",
              "    <tr>\n",
              "      <th>...</th>\n",
              "      <td>...</td>\n",
              "      <td>...</td>\n",
              "      <td>...</td>\n",
              "    </tr>\n",
              "    <tr>\n",
              "      <th>995</th>\n",
              "      <td>995</td>\n",
              "      <td>SUBJECT: after surgery of ear drum still same ...</td>\n",
              "      <td>What are the treatments for perforated eardrum?</td>\n",
              "    </tr>\n",
              "    <tr>\n",
              "      <th>996</th>\n",
              "      <td>996</td>\n",
              "      <td>SUBJECT: ClinicalTrials.gov - Question - speci...</td>\n",
              "      <td>What are the treatments for Glycogen storage d...</td>\n",
              "    </tr>\n",
              "    <tr>\n",
              "      <th>997</th>\n",
              "      <td>997</td>\n",
              "      <td>MESSAGE: I have numbness/tingling in my lower ...</td>\n",
              "      <td>Where can I find information and treatment for...</td>\n",
              "    </tr>\n",
              "    <tr>\n",
              "      <th>998</th>\n",
              "      <td>998</td>\n",
              "      <td>SUBJECT: sleep apnea MESSAGE: I was diagnosed ...</td>\n",
              "      <td>How long does swelling from sleep apnea take t...</td>\n",
              "    </tr>\n",
              "    <tr>\n",
              "      <th>999</th>\n",
              "      <td>999</td>\n",
              "      <td>SUBJECT: Home resources for AMD people MESSAGE...</td>\n",
              "      <td>What resources are available for elderly with ...</td>\n",
              "    </tr>\n",
              "  </tbody>\n",
              "</table>\n",
              "<p>1000 rows × 3 columns</p>\n",
              "</div>\n",
              "    <div class=\"colab-df-buttons\">\n",
              "\n",
              "  <div class=\"colab-df-container\">\n",
              "    <button class=\"colab-df-convert\" onclick=\"convertToInteractive('df-e55ed2e6-4bc3-4468-9501-da0e3cd3b566')\"\n",
              "            title=\"Convert this dataframe to an interactive table.\"\n",
              "            style=\"display:none;\">\n",
              "\n",
              "  <svg xmlns=\"http://www.w3.org/2000/svg\" height=\"24px\" viewBox=\"0 -960 960 960\">\n",
              "    <path d=\"M120-120v-720h720v720H120Zm60-500h600v-160H180v160Zm220 220h160v-160H400v160Zm0 220h160v-160H400v160ZM180-400h160v-160H180v160Zm440 0h160v-160H620v160ZM180-180h160v-160H180v160Zm440 0h160v-160H620v160Z\"/>\n",
              "  </svg>\n",
              "    </button>\n",
              "\n",
              "  <style>\n",
              "    .colab-df-container {\n",
              "      display:flex;\n",
              "      gap: 12px;\n",
              "    }\n",
              "\n",
              "    .colab-df-convert {\n",
              "      background-color: #E8F0FE;\n",
              "      border: none;\n",
              "      border-radius: 50%;\n",
              "      cursor: pointer;\n",
              "      display: none;\n",
              "      fill: #1967D2;\n",
              "      height: 32px;\n",
              "      padding: 0 0 0 0;\n",
              "      width: 32px;\n",
              "    }\n",
              "\n",
              "    .colab-df-convert:hover {\n",
              "      background-color: #E2EBFA;\n",
              "      box-shadow: 0px 1px 2px rgba(60, 64, 67, 0.3), 0px 1px 3px 1px rgba(60, 64, 67, 0.15);\n",
              "      fill: #174EA6;\n",
              "    }\n",
              "\n",
              "    .colab-df-buttons div {\n",
              "      margin-bottom: 4px;\n",
              "    }\n",
              "\n",
              "    [theme=dark] .colab-df-convert {\n",
              "      background-color: #3B4455;\n",
              "      fill: #D2E3FC;\n",
              "    }\n",
              "\n",
              "    [theme=dark] .colab-df-convert:hover {\n",
              "      background-color: #434B5C;\n",
              "      box-shadow: 0px 1px 3px 1px rgba(0, 0, 0, 0.15);\n",
              "      filter: drop-shadow(0px 1px 2px rgba(0, 0, 0, 0.3));\n",
              "      fill: #FFFFFF;\n",
              "    }\n",
              "  </style>\n",
              "\n",
              "    <script>\n",
              "      const buttonEl =\n",
              "        document.querySelector('#df-e55ed2e6-4bc3-4468-9501-da0e3cd3b566 button.colab-df-convert');\n",
              "      buttonEl.style.display =\n",
              "        google.colab.kernel.accessAllowed ? 'block' : 'none';\n",
              "\n",
              "      async function convertToInteractive(key) {\n",
              "        const element = document.querySelector('#df-e55ed2e6-4bc3-4468-9501-da0e3cd3b566');\n",
              "        const dataTable =\n",
              "          await google.colab.kernel.invokeFunction('convertToInteractive',\n",
              "                                                    [key], {});\n",
              "        if (!dataTable) return;\n",
              "\n",
              "        const docLinkHtml = 'Like what you see? Visit the ' +\n",
              "          '<a target=\"_blank\" href=https://colab.research.google.com/notebooks/data_table.ipynb>data table notebook</a>'\n",
              "          + ' to learn more about interactive tables.';\n",
              "        element.innerHTML = '';\n",
              "        dataTable['output_type'] = 'display_data';\n",
              "        await google.colab.output.renderOutput(dataTable, element);\n",
              "        const docLink = document.createElement('div');\n",
              "        docLink.innerHTML = docLinkHtml;\n",
              "        element.appendChild(docLink);\n",
              "      }\n",
              "    </script>\n",
              "  </div>\n",
              "\n",
              "\n",
              "<div id=\"df-81c9621c-396b-4541-8d80-416180200c46\">\n",
              "  <button class=\"colab-df-quickchart\" onclick=\"quickchart('df-81c9621c-396b-4541-8d80-416180200c46')\"\n",
              "            title=\"Suggest charts\"\n",
              "            style=\"display:none;\">\n",
              "\n",
              "<svg xmlns=\"http://www.w3.org/2000/svg\" height=\"24px\"viewBox=\"0 0 24 24\"\n",
              "     width=\"24px\">\n",
              "    <g>\n",
              "        <path d=\"M19 3H5c-1.1 0-2 .9-2 2v14c0 1.1.9 2 2 2h14c1.1 0 2-.9 2-2V5c0-1.1-.9-2-2-2zM9 17H7v-7h2v7zm4 0h-2V7h2v10zm4 0h-2v-4h2v4z\"/>\n",
              "    </g>\n",
              "</svg>\n",
              "  </button>\n",
              "\n",
              "<style>\n",
              "  .colab-df-quickchart {\n",
              "      --bg-color: #E8F0FE;\n",
              "      --fill-color: #1967D2;\n",
              "      --hover-bg-color: #E2EBFA;\n",
              "      --hover-fill-color: #174EA6;\n",
              "      --disabled-fill-color: #AAA;\n",
              "      --disabled-bg-color: #DDD;\n",
              "  }\n",
              "\n",
              "  [theme=dark] .colab-df-quickchart {\n",
              "      --bg-color: #3B4455;\n",
              "      --fill-color: #D2E3FC;\n",
              "      --hover-bg-color: #434B5C;\n",
              "      --hover-fill-color: #FFFFFF;\n",
              "      --disabled-bg-color: #3B4455;\n",
              "      --disabled-fill-color: #666;\n",
              "  }\n",
              "\n",
              "  .colab-df-quickchart {\n",
              "    background-color: var(--bg-color);\n",
              "    border: none;\n",
              "    border-radius: 50%;\n",
              "    cursor: pointer;\n",
              "    display: none;\n",
              "    fill: var(--fill-color);\n",
              "    height: 32px;\n",
              "    padding: 0;\n",
              "    width: 32px;\n",
              "  }\n",
              "\n",
              "  .colab-df-quickchart:hover {\n",
              "    background-color: var(--hover-bg-color);\n",
              "    box-shadow: 0 1px 2px rgba(60, 64, 67, 0.3), 0 1px 3px 1px rgba(60, 64, 67, 0.15);\n",
              "    fill: var(--button-hover-fill-color);\n",
              "  }\n",
              "\n",
              "  .colab-df-quickchart-complete:disabled,\n",
              "  .colab-df-quickchart-complete:disabled:hover {\n",
              "    background-color: var(--disabled-bg-color);\n",
              "    fill: var(--disabled-fill-color);\n",
              "    box-shadow: none;\n",
              "  }\n",
              "\n",
              "  .colab-df-spinner {\n",
              "    border: 2px solid var(--fill-color);\n",
              "    border-color: transparent;\n",
              "    border-bottom-color: var(--fill-color);\n",
              "    animation:\n",
              "      spin 1s steps(1) infinite;\n",
              "  }\n",
              "\n",
              "  @keyframes spin {\n",
              "    0% {\n",
              "      border-color: transparent;\n",
              "      border-bottom-color: var(--fill-color);\n",
              "      border-left-color: var(--fill-color);\n",
              "    }\n",
              "    20% {\n",
              "      border-color: transparent;\n",
              "      border-left-color: var(--fill-color);\n",
              "      border-top-color: var(--fill-color);\n",
              "    }\n",
              "    30% {\n",
              "      border-color: transparent;\n",
              "      border-left-color: var(--fill-color);\n",
              "      border-top-color: var(--fill-color);\n",
              "      border-right-color: var(--fill-color);\n",
              "    }\n",
              "    40% {\n",
              "      border-color: transparent;\n",
              "      border-right-color: var(--fill-color);\n",
              "      border-top-color: var(--fill-color);\n",
              "    }\n",
              "    60% {\n",
              "      border-color: transparent;\n",
              "      border-right-color: var(--fill-color);\n",
              "    }\n",
              "    80% {\n",
              "      border-color: transparent;\n",
              "      border-right-color: var(--fill-color);\n",
              "      border-bottom-color: var(--fill-color);\n",
              "    }\n",
              "    90% {\n",
              "      border-color: transparent;\n",
              "      border-bottom-color: var(--fill-color);\n",
              "    }\n",
              "  }\n",
              "</style>\n",
              "\n",
              "  <script>\n",
              "    async function quickchart(key) {\n",
              "      const quickchartButtonEl =\n",
              "        document.querySelector('#' + key + ' button');\n",
              "      quickchartButtonEl.disabled = true;  // To prevent multiple clicks.\n",
              "      quickchartButtonEl.classList.add('colab-df-spinner');\n",
              "      try {\n",
              "        const charts = await google.colab.kernel.invokeFunction(\n",
              "            'suggestCharts', [key], {});\n",
              "      } catch (error) {\n",
              "        console.error('Error during call to suggestCharts:', error);\n",
              "      }\n",
              "      quickchartButtonEl.classList.remove('colab-df-spinner');\n",
              "      quickchartButtonEl.classList.add('colab-df-quickchart-complete');\n",
              "    }\n",
              "    (() => {\n",
              "      let quickchartButtonEl =\n",
              "        document.querySelector('#df-81c9621c-396b-4541-8d80-416180200c46 button');\n",
              "      quickchartButtonEl.style.display =\n",
              "        google.colab.kernel.accessAllowed ? 'block' : 'none';\n",
              "    })();\n",
              "  </script>\n",
              "</div>\n",
              "    </div>\n",
              "  </div>\n"
            ],
            "application/vnd.google.colaboratory.intrinsic+json": {
              "type": "dataframe",
              "summary": "{\n  \"name\": \"dataset['train']\",\n  \"rows\": 1000,\n  \"fields\": [\n    {\n      \"column\": \"idx\",\n      \"properties\": {\n        \"dtype\": \"number\",\n        \"std\": 288,\n        \"min\": 0,\n        \"max\": 999,\n        \"num_unique_values\": 1000,\n        \"samples\": [\n          521,\n          737,\n          740\n        ],\n        \"semantic_type\": \"\",\n        \"description\": \"\"\n      }\n    },\n    {\n      \"column\": \"inputs\",\n      \"properties\": {\n        \"dtype\": \"string\",\n        \"num_unique_values\": 1000,\n        \"samples\": [\n          \"SUBJECT: new treatment for lipoma of forearm MESSAGE: I have had two surgeries on my right forearm.  The last was 2 years ago.  The lipoma has returned.  Are there any new treatments or experimental procedures that might help me?\",\n          \"Beckwith-Wieddeman Syndrome. I would like to request further knowledge on this specific disorder.\",\n          \"SUBJECT: MedlinePlus Service Request MESSAGE: if A PERSON HAS BEEN USING MORPHINE FOR YEARS (10)FOR PAIN RELIEF,AND ARE EXHIBITING THE FLU-LIKE INABILITY TO THINK OR COMMUNICATE, AS A LOVING FRIEND , COULD YOU GUESS/ESTIMATE FOR ME HOW LONG THE HELL THEY'RE EXPERIENCING MAY LAST?1 WEEK, 1 YEAR?\"\n        ],\n        \"semantic_type\": \"\",\n        \"description\": \"\"\n      }\n    },\n    {\n      \"column\": \"target\",\n      \"properties\": {\n        \"dtype\": \"string\",\n        \"num_unique_values\": 994,\n        \"samples\": [\n          \"How is a differential diagnosis made between SLE and adult still's disease?\",\n          \"What are the causes of loss of ear pressure and can it heal itself?\",\n          \"What causes fetal diaphragmatic hernia, and what can be done to prevent it?\"\n        ],\n        \"semantic_type\": \"\",\n        \"description\": \"\"\n      }\n    }\n  ]\n}"
            }
          },
          "metadata": {},
          "execution_count": 12
        }
      ],
      "source": [
        "dataset['train'].to_pandas()"
      ]
    },
    {
      "cell_type": "markdown",
      "metadata": {
        "id": "NQ-GobbtVxgE"
      },
      "source": [
        "Modify dataset with co-occurrence"
      ]
    },
    {
      "cell_type": "code",
      "execution_count": 13,
      "metadata": {
        "colab": {
          "base_uri": "https://localhost:8080/"
        },
        "id": "edOU5XTaVzaN",
        "outputId": "5a50de2a-b152-4070-c74b-ebf1bb4d6be2"
      },
      "outputs": [
        {
          "output_type": "stream",
          "name": "stdout",
          "text": [
            "     idx                                             inputs  \\\n",
            "0      0  SUBJECT: who and where to get cetirizine - D M...   \n",
            "1      1  who makes bromocriptine i am wondering what co...   \n",
            "2      2  SUBJECT: nulytely MESSAGE: Hello can you tell ...   \n",
            "3      3  Williams' syndrome I would like to have my dau...   \n",
            "4      4  ClinicalTrials.gov - Question - general inform...   \n",
            "..   ...                                                ...   \n",
            "995  995  SUBJECT: after surgery of ear drum still same ...   \n",
            "996  996  SUBJECT: ClinicalTrials.gov - Question - speci...   \n",
            "997  997  MESSAGE: I have numbness/tingling in my lower ...   \n",
            "998  998  SUBJECT: sleep apnea MESSAGE: I was diagnosed ...   \n",
            "999  999  SUBJECT: Home resources for AMD people MESSAGE...   \n",
            "\n",
            "                                                target  \n",
            "0                         Who manufactures cetirizine?  \n",
            "1                      Who manufactures bromocriptine?  \n",
            "2          Who makes nulytely, and where can I buy it?  \n",
            "3    Where can I get genetic testing for william's ...  \n",
            "4    Where can I get genetic testing for multiple m...  \n",
            "..                                                 ...  \n",
            "995    What are the treatments for perforated eardrum?  \n",
            "996  What are the treatments for Glycogen storage d...  \n",
            "997  Where can I find information and treatment for...  \n",
            "998  How long does swelling from sleep apnea take t...  \n",
            "999  What resources are available for elderly with ...  \n",
            "\n",
            "[1000 rows x 3 columns]\n"
          ]
        },
        {
          "output_type": "stream",
          "name": "stderr",
          "text": [
            "[nltk_data] Downloading package punkt to /root/nltk_data...\n",
            "[nltk_data]   Unzipping tokenizers/punkt.zip.\n",
            "[nltk_data] Downloading package stopwords to /root/nltk_data...\n",
            "[nltk_data]   Unzipping corpora/stopwords.zip.\n"
          ]
        },
        {
          "output_type": "stream",
          "name": "stdout",
          "text": [
            "{'about', 'd', 'more', 'not', 'most', 'through', 'why', 'when', 'for', 'there', \"she's\", \"you'd\", 'the', 'wouldn', 'they', 'is', \"it's\", 't', 'yourself', \"hasn't\", 'if', 'your', 'y', 'has', 'here', 'them', 'of', 'over', 'with', 'out', 'shouldn', 'wasn', 'had', 'it', 'again', 'hers', 'above', 'than', \"mightn't\", 'doing', 'should', 'ours', \"shan't\", \"shouldn't\", 've', 'an', 'm', 'such', 'then', 'which', 'were', 'her', 'and', 'at', 'couldn', 'you', \"you're\", \"isn't\", 'any', 'to', 'ma', \"doesn't\", 'a', 'other', 'll', \"should've\", 'until', 'he', 'o', 'now', 'same', 'whom', 'those', 'into', 'as', 'up', \"needn't\", 'between', 'under', 's', 'ain', 'we', 'won', 'in', 'just', \"you've\", 'she', 'because', 'off', 'down', 'its', 'where', 'was', 'being', 'himself', \"mustn't\", 'how', 'all', 'his', 'that', 'these', 'own', 'be', 'so', 'been', 're', \"didn't\", 'yourselves', 'aren', 'before', 'i', 'didn', \"wouldn't\", 'only', 'having', 'against', \"aren't\", 'themselves', 'mustn', 'both', 'this', 'by', 'some', 'does', 'him', 'my', 'nor', 'from', \"hadn't\", 'haven', 'while', 'don', 'during', 'who', 'theirs', 'itself', \"won't\", 'have', 'weren', 'on', 'their', 'ourselves', 'doesn', 'further', 'did', 'very', 'each', 'will', \"don't\", 'what', 'needn', 'herself', 'hadn', 'am', 'but', \"wasn't\", \"you'll\", 'no', 'do', \"haven't\", 'myself', 'isn', 'few', 'are', 'our', \"weren't\", 'mightn', 'once', 'shan', 'below', 'after', 'me', 'or', 'too', \"that'll\", \"couldn't\", 'can', 'yours', 'hasn'}\n",
            "['subject', 'get', 'cetirizine', 'd', 'message', 'i', 'needwant', 'know', 'manufscturs', 'my', 'walmart', 'looking', 'new', 'supply', 'getting', 'recent', 'makes', 'bromocriptine', 'wondering', 'company', 'drug', 'need', 'mass', 'pituitary', 'gland', 'cost', 'keeps', 'raising', 'ever', 'buy', 'full', 'prescription', 'price', 'told', 'hold', 'maker', 'sometimes', 'offer', 'coupons', 'something', 'help', 'afford', 'medicine', '10', 'pills', 'take', '2', 'times', 'day', 'costs', '7800', 'thanks', 'nulytely', 'hello', 'tell', 'order', 'manufacture', 'phone', 'number', 'call', 'williams', 'syndrome', 'would', 'like', 'daughter', 'tested', 'could', 'please', 'go', 'area', 'thank', 'clinicaltrialsgov', 'question', 'general', 'information', 'both', 'parents', 'died', 'location', 'tx', 'multiple', 'myeloma', 'father', '70s', 'mother', '84', 'years', 'old', 'attending', 'oncologist', 'advised', 'every', 'unaware', 'genetic', 'test', 'mm', '63', 'yr', 'female', 'good', 'health', 'approx', 'testing', 'ihhs', 'heart', 'condition', 'is', 'commercial', 'family', 'suffers', 'heridity', 'susseptable', 'if', 'done', 'texas', 'friedreichs', 'ataxia', 'treatment', 'reverse', 'chromosome', '9', 'defective', 'possible', 'damage', 'able', 'cptii', 'deficiency', 'sister', 'diagnosed', 'today', 'we', 'yet', 'variant', 'year', 'ago', 'following', 'near', 'death', 'rhabdo', 'cks', '150000+', 'atn', 'rf', 'respiratory', 'compromise', 'fa', 'metabolic', 'error', 'until', 'really', 'idea', 'request', 'her', 'muscle', 'bx', 'performed', 'months', 'still', 'ill', 'last', 'another', 'recurrence', 'rhado', 'prompted', 'retired', 'military', 'dont', 'branch', 'contact', 'from', 'nih', 'website', 'definitive', 'also', 'found', 'genetics', 'rare', 'diseases', 'center', 'direction', 'trying', 'loss', '50', 'july', 'pounds', 'problem', 'work', '16', 'hours', 'time', 'anything', 'else', 'deit', 'shake', 'use', 'stomach', 'waist', 'butt', 'hip', 'specific', 'study', 'son', '17', 'omental', 'panniculitis', 'weber', 'cristian', 'disease', 'institute', 'suggest', 'disear', 'care', 'send', 'detail', 'vagual', 'nerve', 'stimulation', 'depression', 'suffered', 'many', 'complicated', 'frequent', 'migraines', 'little', 'meds', 'learn', 'pain', '13y', 'facing', 'upper', 'abdominal', 'siverly', 'mornig', 'slightly', 'eating', 'lunch', 'night', 'dinnerkindly', 'went', 'five', 'doctors', 'ultra', 'scan', 'resolvedpls', 'advaice', 'pregnancy', 'want', 'ask', 'ways', 'operation', 'pregnant', 'woman', 'tubal', 'ligation', '7yrs', 'thyroid', 'cancer', 'data', 'regarding', 'surgery', 'issues', 'outcomes', 'will', 'storing', 'medication', 'freezer', 'reduce', 'efficacy', 'related', 'questions', 'various', 'temperatures', 'lets', 'start', 'the', 'drugs', 'concerned', 'digoxin', 'lisinopril', 'as', 'far', 'dosage', 'lowest', 'prescribed', 'matters', 'hope', 'thought', 'individually', 'based', 'answer', 'broad', 'objective', 'way', 'much', 'advance', 'im', 'sorry', 'mom', 'black', 'mounth', 'neck', 'arms', 'skin', 'changed', 'color', 'diabetes', 'inyects', 'insuline', 'can', 'reccomend', 'sent', 'metropcs', '4g', 'android', 'device', 'name', 'student', 'composing', 'research', 'report', 'sids', 'hoping', 'particularly', 'interested', 'learning', 'weather', 'worried', 'cribs', 'direct', 'resources', 'even', 'allow', 'interview', 'might', 'appreciate', 'you', 'email', 'diagnose', 'sca3', 'medlineplus', 'may', 'journey', 'find', 'organization', 'association', 'calling', 'advice', 'crating', 'risperdoine', 'gain', 'experiences', 'and', 'creating', 'rectal', 'prolapse', 'rectum', 'stretched', 'mailed', 'surgical', 'options', 'address', 'prenatal', 'exams', 'leigh', 'anmnio', 'chorionic', 'villus', 'sampling', 'narp', 'hi', 'mixed', 'diagnosis', 'autoimmune', 'connective', 'tissue', 'submit', 'serious', 'rheumatologist', 'recommended', 'argentina', 'latin', 'america', 'already', 'customer', 'service', 'sisters', 'brother', 'age', '24', 'detected', 'catract', 'however', 'mild', 'required', 'but', 'doctor', 'said', 'chances', 'birth', 'past', '15years', 'blur', 'vision', 'entire', 'dad', 'one', 'big', 'grapa', '7', 'brothers', 'early', 'concern', 'children', 'issue', 'amd', 'got', 'eyes', 'checked', 'tensed', 'expecting', 'undergone', 'total', 'replacement', 'jonts', '1977', 'charnley', 'process', 'left', 'joint', 'completely', 'worn', 'outhow', 'safe', 'effective', 'revision', 'surgerycan', 'cementless', 'jointi', '66', 'oldan', 'repy', 'query', 'appreciated', 'hair', 'men', 'legsfeet', 'ages', 'observed', 'lower', 'extremities', 'males', 'poor', 'blood', 'circulation', 'any', 'ganglisidose', 'gm', '1', 'least', 'prolong', 'life', 'he', 'gets', 'miglusitat', 'week', 'us', 'grateful', 'mental', 'anxiety', 'someone', 'obtain', 'generalized', 'disorder', 'newsletter', 'project', 'abnormal', 'psychology', 'class', 'abouot', 'folgard', 'os', 'usa', 'wasnt', 'listed', 'choice', 'countries', 'normal', 'physical', 'traits', 'period', '40', 'infantile', 'reproductive', 'organs', 'never', 'experienced', 'mensus', 'look', 'say', 'when', 'try', 'answers', 'internet', 'all', 'girly', 'parts', 'matured', 'give', 'acute', 'constipation', 'sir', 'wish', 'severe', 'constipationnon', 'clearence', 'bowels', 'people', 'provide', 'medical', 'paper', 'associated', 'balsalazide', 'steroid', 'doe', 'close', 'states', '68', 'weeks', 'was', 'asacol', 'prier', '750mg', 'x9', 'per', 'seem', 'lose', 'weight', 'matter', 'exercise', '56', 'days', '30', 'minutes', 'watch', 'eat', 'autonomic', 'arthritis', 'disorders', 'combined', 'girlfriend', 'medications', 'effects', 'lungs', 'pressure', 'fatal', 'how', 'long', 'live', 'plate', 'steel', 'ankle', 'severely', 'broken', 'leg', 'bearing', 'they', 'away', 'hospital', 'crutches', 'etc', 'procedure', 'terrifies', 'going', 'back', 're', '16p1311', 'duplication', 'genes', 'dear', 'professional', 'recently', 'assessed', 'boy', 'caseload', 'whose', 'reported', 'come', 'across', 'looked', 'coherent', 'paediatrician', 'used', 'charge', 'child', 'unfortunately', 'term', 'sick', 'key', 'features', 'are', 'behavioural', 'coordination', 'sensory', 'difficulties', 'etcthat', 'gabapentin', 'room', 'temperature', 'lifespan', 'of', 'unopened', 'atorvastatin', 'container', 'stored', 'temp', 'roughly', '60degrees', 'results', 'smoking', 'what', 'illnesses', 'caused', 'effect', 'human', 'body', 'fırst', 'valuable', 'whıch', 'published', 'web', 'sıte', 'httpwwwcdcgovmeaslesaboutcomplicationshtml', 'couldnt', 'ınformatıon', 'ıs', '6', 'baby', 'measles', 'hadnt', 'vaccacine', 'saw', 'possıbılıty', 'sspe', '4', '20', '100000', 'casebut', 'ımportant', 'stıll', 'babywhat', 'risk', 'factsplease', 'write', 'worth', 'case', 'truth', 'best', 'regards', 'arimidex', 'pros', 'cons', 'taking', 'lumpectomy', 'radiation', 'breast', 'side', 'worrying', 'make', 'decisions', '47', 'down', 'syndrometrying', 'she', 'taken', 'anastrozole', 'epilepsy', '26', 'seizures', 'control', 'started', 'modified', 'atkins', 'diet', 'couple', 'tripled', 'does', 'lot', 'happen', 'everyone', 'afternoon', 'clarity', 'acl', 'repair', 'date', 'discharge', 'attend', 'physiotherapy', 'physio', 'swallow', 'stopped', 'progress', 'knee', 'stiff', 'change', 'colour', 'tells', 'see', 'advise', 'thoracic', 'outlet', 'tos', 'shoulder', 'therapy', 'tired', 'numbness', 'hand', 'stats', 'percentage', 'wise', 'drname', 'surgeon', 'this', 'suppose', 'removed', 'eye', 'duct', 'due', 'to', 'tear', 'tube', 'it', 'polymicrogyria', 'month', 'sit', 'crawl', 'improving', 'grabbing', 'things', 'have', 'read', 'cases', '10000', 'worse', 'its', 'post', 'brain', 'grown', 'grow', 'sometime', 'march', 'overdosed', 'benadryl', 'symptoms', 'survived', 'without', 'curious', 'happened', 'neurological', 'small', 'intestine', 'members', 'bowel', 'gangarin', 'accordingly', 'sodium', 'intake', '96', 'generally', 'keep', 'low', 'wonder', 'allowing', 'enough', 'amount', 'peridontitis', 'untreated', 'periodontitis', 'affect', 'travel', 'a', 'dentist', 'modadvanced', 'gum', 'pockets', '59mm', 'bone', '2050', 'restorations', 'caries', 'teeth', 'stage', 'loose', 'leave', 'likely', 'worsen', 'expect', 'on', 'seek', 'immediately', 'hear', 'kindly', 'endocrinologist', 'reshearch', 'type', 'diabetic', 'unique', 'suggested', 'vasectomy', 'text', 'says', 'vas', 'deferens', 'partner', 'so', 'turner', 'shes', 'beaten', 'odds', 'developed', 'identical', 'twins', 'chance', 'confirm', 'xo', 'mosaic', 'display', 'characteristics', 'again', 'questioning', 'safety', 'babies', 'abnormality', 'causes', 'lipoamide', 'dehydrogenase', 'e3', 'orgasm', 'vesectomy', 'orgasms', 'usual', 'guy', 'residual', 'treatments', 'actively', 'treat', 'delivered', 'approximately', '3', 'radiationwhich', 'followed', 'chemo', 'pt', 'aromatase', 'inhibitor', 'since', 'considered', 'reoccurrence', 'oncologists', 'locationmy', '10year', 'duchenne', 'muscular', 'dystrophy', 'patient', 'exon', 'skipping', 'dmd', 'bcg', 'urinary', 'bladder', 'begins', 'tumors', 'similiar', 'chemotherapy', 'g6pd', 'searching', 'detailed', 'conflicting', 'meaning', 'label', 'directions', 'asked', 'med', 'food', 'asnwer', 'supposed', 'nite', 'insulindependent', 'tailbone', 'trauma', 'aftercare', 'article', 'person', 'hasnt', 'falling', 'bumped', 'cause', 'xlinked', 'congenital', 'stationary', 'blindness', 'suffering', 'similar', 'deceasemy', 'mothers', 'alsowe', 'light', 'infact', 'cant', 'view', 'damp', 'conditions', 'myopia', 'object', 'claritylife', 'imprisonmentis', 'recovery', 'x', 'linked', 'deceasewill', 'onesplz', '38', '44address', 'response', 'well', 'hospitals', 'fight', 'wilsons', 'currently', 'phi', 'moment', 'therefore', 'somewhere', 'lack', 'financial', 'support', 'less', 'expense', 'sons', 'infected', 'recovered', 'spinal', 'cord', '58', 'legs', 'move', 'wheelchair', 'user', 'heavy', 'urinaire', 'infection', 'comes', 'positive', 'clear', 'main', 'baging', 'pls', 'guide', 'sirmadam', 'staying', 'coughing', 'coming', 'mouth', '2012', 'sputm', 'ct', 'didnt', 'indonesia', 'repot', 'progressive', 'diseaseactive', 'lung', 'tbinthe', 'right', 'b2', 'b4', 'segmensthe', 'exudative', 'lesions', 'increasing', 'with', 'cavity', 'contages', 'pople', 'u', 'sudden', 'happening', 'scared', 'tongue', 'speak', 'thing', 'mistake', 'word', 'rn', 'nt', 'speakthis', 'meplease', 'suggestion', 'complaint', 'cronic', 'shinglesthe', 'blisters', 'gone', 'severewhat', 'should', 'do', 'molar', 'painful', 'healing', 'swab', 'tooth', 'extraction', 'hole', 'revealed', 'serratia', 'marcescens', 'oral', 'ordered', 'levaquin', 'antibiotics', 'four', 'antibiotic', 'bad', 'taste', 'funny', 'colored', 'follow', 'dr', 'mondayplease', 'seborrheic', 'keratosis', 'african', 'american', 'women', 'face', 'site', 'products', 'sounding', 'ear', 'along', '20years', 'first', 'swimming', 'become', 'correct', 'sore', 'middle', 'rib', 'cage', 'swollen', 'suggestions', 'discomfort', 'auto', 'accident', 'wearing', 'seat', 'belt', 'retinitis', 'pigmentosa', 'rp', 'stem', 'cells', 'gene', '12', '27', 'willing', 'in', 'deteriorated', 'quite', 'dramatically', 'central', 'visual', 'acuity', '2080', 'field', '45', 'degrees', 'peripheral', 'began', 'deteriorate', 'stages', 'capable', 'activities', 'came', 'clinical', 'trials', 'recommend', 'forward', 'kind', 'pulmonary', 'tuberchlosis', 'respected', 'takeing', 'two', '2nd', 'xray', 'show', 'constant', 'figure', 'sputum', 'negative', 'hiv', 'sound', 'fluid', 'water', 'shows', 'shall', 'remaining', 'fluids', 'psoriasis', '78', 'scalp', 'nearly', 'polyurea', 'team', 'am', 'pharmacist', 'profession', 'some', 'informations', 'suggetions', 'above', 'mentioned', 'history', 'that', 'aged', '65', 'suffring', 'poly', 'urea', 'conditionshe', 'not', 'diabetesshe', 'faceing', 'excessive', 'urine', 'at', 'upno', 'cgange', 'changblood', 'urineburning', 'feverpainnot', 'diretics', 'altough', 'hypertensive', 'patientgive', 'me', 'sugetions', 'such', 'casetest', 'feeling', 'hammorhoide', 'mean', 'wellalthough', 'anus', 'outside', 'requesting', 'furnish', 'prevent', '35', 'id', 'ive', 'optic', 'atrophy', 'lost', '8', 'now', 'attachment', 'wishes', 'function', 'arm', 'great', 'servicei', 'writing', 'loving', 'access', 'finger', 'lift', 'handwe', 'consults', 'result', 'village', 'background', 'money', 'proper', 'save', 'details', 'feel', 'free', 'emailcontact', 'expectations', 'growth', 'remove', 'poisoned', 'fed', 'mercury', 'losing', 'among', 'turn', 'male', '51', 'enlarged', 'bird', 'chest', 'size', '36', 'b', 'wear', 'oversized', 'shirts', 'abused', 'abscess', 'curable', 'after', 'telling', 'syringe', 'nothing', 'there', 'bottle', 'attached', 'collecting', 'liquid', 'reply', 'yo', 'hdl', 'reports', '29', 'suggession', '43', 'manmy', 'suggestioni', 'seems', 'optimiseplease', 'appetite', 'situation', 'improvementthefore', 'pleading', 'problemif', 'cure', 'l', 'et', 'lichen', 'planus', 'reduces', 'red', 'sign', 'increases', 'spicy', 'hot', 'remedies', 'consulted', 'dermatologist', 'gave', 'ointment', 'named', 'clone', 'taxol', 'applying', 'towards', 'awaiting', 'behalf', 'ipad', 'soreness', 'sure', 'othermaleage', '62good', 'regularlyi', 'associate', 'overuse', 'using', 'quadsthighs', 'snow', 'skiing', 'continues', 'takes', 'chair', 'bed', 'continue', 'always', 'pilaties', 'bike', 'riding', 'walks', 'hilly', 'country', 'debilitating', 'annoying', 'statins', 'unusual', 'meany', 'thoughts', 'adema', 'anklesshins', 'lesson', 'severity', 'bp', 'w', 'diaretic', 'cramps', 'lupus', 'wife', 'systemic', 'potassium', 'chloride', '20meg', 'er', '1qd', '2448', 'ounces', 'gatoraid', 'stop', 'enquiry', 'stone', 'ureter', 'eag', 'ball', 'socket', 'respect', 'state', 'position', 'hard', 'huge', 'prescribe', 'meadicine', 'itiching', 'iam', 'deetol', 'soap', 'fathers', '85', 'hearing', 'tried', 'aids', 'helped', 'worst', 'lots', 'becoming', 'isolated', 'concerns', 'sad', 'afraid', 'hell', 'depress', 'los', 'angeles', 'spitting', 'double', 'evil', 'glossopharyngeal', 'neuralgia', 'success', 'rate', 'method', 'available', 'madam', 'heard', '2009', 'dna', 'respective', '22', 'asap', 'let', 'market', 'attaching', 'files', 'reference', 'anyone', 'feet', 'dailymed', 'feedback', 'overcome', 'incessant', 'flatulence', 'solutions', 'fibrodysplasia', 'ossificans', 'progressiva', 'received', 'spent', 'several', 'reasons', 'pediatricians', 'county', 'closest', 'pediatric', 'specialist', '15', 'specialists', 'ot', 'helpful', 'couse', 'likd', 'sand', 'solve', 'erectio', 'penis', 'erect', 'contect', 'nomber', 'errection', 'problemiam', '52', 'looses', 'intercoarse', 'pl', 'morocco', 'category', 'thats', 'why', 'touch', 'your', 'having', 'walking', 'put', 'properly', 'for', 'fingers', 'layed', 'floor', 'just', 'because', 'had', 'an', 'injury', 'head', 'around', 'three', 'short', 'height', '105', 'cm', 'kg', 'consult', 'overall', '75', 'cryptococcal', 'menimgtisneef', 'assisstance', 'desperate', 'strong', 'meningitis', 'cough', 'vomit', 'happens', 'doc', 'throat', 'home', 'remedy', 'úlcera', 'bucal', 'por', 'efectos', 'de', 'la', 'radio', 'terapia', 'cold', 'chronic', 'myeloid', 'leukemia', 'cml', 'waiting', 'therapeutic', 'granulomatous', 'mastitis', 'youto', 'note', 'tests', 'comment', 'carbon', 'monoxide', 'once', 'exposed', 'source', 'leak', 'resolved', 'ie', 'furnace', 'shut', 'gas', 'air', 'necessary', 'oxygen', 'andor', 'levels', 'afterwards', 'understand', 'exposure', 'consciousness', 'bloodwork', 'scans', 'heartlung', '48', 'weak', 'aspecially', 'morning', 'solution', 'joints', 'knees', '3yrs', 'bleach', 'laundry', 'suspect', 'swallowed', 'bit', 'bipolar', 'tms', 'has', 'ect', 'finally', 'acupuncture', 'mood', 'true', 'woundering', 'counter', 'deal', 'looming', 'attack', 'clonazepam', 'helps', 'rather', 'retrain', 'thinking', 'attach', 'hit', 'india', 'actually', 'accouding', 'anemia', 'pasent', 'bloodplz', 'anti', 'anemiaplzzzzzzzzzzzz', 'gastritis', 'ache', 'occasionally', 'checkup', 'endoscopic', 'ultrasonography', 'gist', '1cm', 'consider', 'develop', 'aml', 'half', 'girl', 'chemotheraphy', 'second', 'opinion', 'future', 'mobile', 'no', 'drank', 'alcohol', 'fruits', 'vegetables', 'gotten', 'strep', 'twice', 'throats', 'aches', 'different', 'kinds', 'alone', 'raspy', 'voice', 'swallowing', 'okay', 'insomnia', 'mistaking', 'stomache', 'problems', 'focusing', 'add', 'young', 'dumb', 'took', 'aderol', 'worked', 'focus', 'better', 'seeing', 'think', 'provided', 'believe', 'gad', 'talk', 'fo', 'foot', 'drop', 'numb', 'tingling', 'inflaming', 'cell', 'comments', 'canada', 'injured', 'august', 'worksome', 'neurologists', 'seen', 'complex', 'regional', 'gnarling', 'dismiss', 'repaired', 'welcome', 'sideeffects', 'tecfedera', 'april', 'dose', 'flushing', 'swelling', 'lips', 'nose', 'called', 'uncommon', 'aspirin', 'seemed', 'lessen', 'everyday', 'pill', 'increased', 'usually', 'flair', 'ups', 'multiplied', 'intolerable', 'level', 'tecfedra', 'maximum', 'percocet', 'oxycodone', 'relieve', 'sweating', 'cellulitis', 'thigh', 'abdomen', 'sincerely', 'methadone', 'causing', 'copd', 'concluded', 'info', 'letrozole', 'reactions', 'hydrocortisone', '32', 'counting', 'panhypopituitarism', 'tolerable', 'replacements', 'glucosamine', 'sulphate', 'kidney', 'increase', 'content', 'investigating', 'correlation', 'buproprion', 'wellbutrin', 'greater', 'incidence', 'rates', 'patients', 'opposed', 'group', 'bedlam', 'pesticide', 'rid', 'bugs', 'sprayed', 'areas', 'sleep', 'sofa', 'slept', 'applications', 'knowing', 'gout', 'attacks', '70', 'allopurinol', 'before', 'high', 'basal', 'acid', 'system', 'naturally', 'adhd', 'dupuytrens', 'contracture', 'natural', 'celiacdisease', 'andneedto', 'startcoumadin', 'warfarin', 'allergic', 'coloringdyes', 'manufacturer', 'gluten', 'dye', 'tomorrow', 'levothyroxin', 'tab', '005', 'mg', 'happy', 'dairy', 'including', 'lactose', 'casein', 'inquiry', 'allergies', 'klorcon', 'mfg', 'sandoz', 'm20', 'tabs', '20meq', 'contains', 'refill', 'processed', 'express', 'scripts', '03', 'starting', 'refilled', 'ingredients', 'kapvay', 'sufites', 'sulfates', 'sulfa', 'product', 'maltodextrin', 'unii', '7cvr7l4a2d', 'dextroamphetamine', 'sulfate', 'tablet', 'ndc', 'codes', '0555095202', '0555095302', 'wanted', 'sourced', 'corn', 'besides', 'wheat', 'drinking', 'wine', 'ok', 'glass', 'glasses', 'pneumococcal', 'polysaccharide', '23', 'pnuemoccoal', 'vaccine', '67', 'updated', '72', 'definitions', 'explaination', 'difference', 'myelogenous', 'lymphocytic', 'types', 'itching', 'sclera', 'glandhigh', 'vitamin', 'systemblood', 'connection', 'breastremoved', 'radiationcured', 'hellp', 'pregancey', 'viewed', 'frozen', '14', 'siblings', 'engulfing', 'fooda', 'passes', 'part', 'than', 'becomes', 'normalas', 'movements', 'whenever', 'within', '1015', 'slight', 'rush', 'bathroom', 'stool', 'firm', 'whats', 'restaurants', '53', '5', 'africanamerican', 'lbs', 'overweight', 'coronary', 'artery', 'spasms', 'pacemaker', 'bleeding', '2010', 'sharp', '2014', 'wrong', 'conquer', '66marriedmaleweight73kgsbp12080', 'tablets', 'bpno', 'sugar', 'fasting', '90', 'meals120', 'vegetariani', 'observing', 'gradual', 'shakiness', 'acquired', 'symptom', 'extreme', 'internal', 'shaking', 'canyon', 'pen', 'yesterday', 'end', 't4', 'confused', 'fibromyalgia', 'blamed', 'quary', 'psa', 'grand', 'examined', 'value', '0430', 'ngmlhis', '86', 'yearsmy', 'harmful', 'scoliosis', 'cries', 'common', 'born', 'wan', 'na', 'theres', '5050', 'survival', 'termendusly', 'whole', 'maybe', 'wich', 'worry', 'teen', 'carver', 'academy', 'south', 'chicago', 'fellow', 'classmates', 'conducting', 'social', 'affected', 'mine', 'teenager', 'lives', 'achievements', 'school', 'goals', 'futureall', 'fun', 'stopand', 'dreams', 'though', 'pregnancystatisticsfacts', 'assistance', 'greatly', 'soon', 'shingles', 'stress', 'qvar', 'clarify', 'whether', 'shaken', 'discrepancy', 'kaiser', 'box', 'instructions', 'chart', 'inhalers', 'office', 'proair', 'acetaminophen', 'inactive', 'titanium', 'dioxide', 'equate', 'tylenol', 'package', 'page', 'sources', 'claim', 'coat', 'easier', 'coated', 'ingredient', 'relationship', 'angelman', 'pancreatitis', 'relationships', 'recurrent', 'passed', '24yearold', 'illness', 'fit', 'finance', 'mongolia', 'physicians', 'nursing', 'pregabalin', 'neuropathy', 'numerous', 'determine', 'tysabri', 'als', '54', 'hands', 'soft', 'breath', 'injection', 'wifes', 'glucosmine', 'caplets', 'datelotf39460', 'exp', 'ja', '2013', 'real', 'harm', 'contining', 'calets', 'imitrex', 'prescriped', 'pancretitis', 'migraine', 'headache', 'toradol', 'imitex', 'older', 'plan', 'internist', 'decide', 'erythema', 'nodosum', 'form', 'honey', 'parkinsons', 'etanercept', 'assist', 'sufferers', 'successful', 'epi', '747', 'his', 'discovered', 'lived', 'confirmed', 'epi743', 'accept', 'mri', 'dalfampridine', 'musclar', 'possibility', 'meloxicam', 'needed', 'build', 'where', 'adult', 'aranduchenne', 'transderm', 'scop', 'patch', 'placement', 'reason', 'placed', 'hairless', 'behind', 'pacu', 'nurse', 'often', 'op', 'nausea', 'plastic', 'faceneck', 'outer', 'indeed', 'acceptable', 'sacral', 'search', 'instututionsdoctors', 'perform', 'procedures', 'fecal', 'incontinence', 'place', 'experiencefecal', 'rapid', 'withdrawl', 'anesthesia', 'clue', 'approximate', 'insurance', 'companies', 'pay', 'diagnosised', 'mucha', 'haberman', 'boston', 'massachusetts', 'thahlidomide', 'melanoma', 'ent', 'esophogeal', 'dc', 'east', 'coast', 'consideration', 'geriatric', 'psychiatrists', 'recommendations', 'psychiatrist', 'sun', 'city', 'west', 'az', 'evaluation', 'loved', 'experience', 'working', 'veterens', 'nonsense', 'scientific', 'approach', 'walgreens', 'noticed', 'listing', 'providone', 'trouble', 'breathing', 'binding', 'povidone', 'pemphigus', 'vulgaris', 'member', 'lady', '29yrs', 'steriods', 'mayonnaise', 'poisoning', 'researched', 'sites', 'myth', 'rap', 'combination', 'items', 'insist', 'onslaught', 'bacterial', 'thus', 'helping', 'ward', 'acidic', 'nature', 'apparently', 'made', 'eggs', 'badmayonnaise', 'carried', 'stigma', 'findings', 'drink', 'moderation', 'ampicillin', 'negates', 'atypical', 'pnuemonia', 'pneumonia', 'occurring', 'pruritic', 'rash', 'consistant', 'reaction', 'diltiazem', 'africian', 'americans', 'senior', 'december', 'furosemide', 'added', 'preparation', 'recurring', 'topical', 'creams', 'injections', 'itch', 'terrible', 'biopsies', 'seven', 'rresearch', 'curvature', 'spine', '1870s', 'ma', 'backs', 'accidental', 'fall', '76', 'jock', 'vengeance', 'ketoconazole', 'cream', 'appears', 'doomed', 'given', 'isare', 'studies', 'shown', 'superior', 'list', 'zeasorb', 'antifungal', 'powder', 'conducted', 'compared', 'cecum', 'adhered', 'vaginal', 'cuff', 'photograph', 'image', 'references', 'stuck', 'adhesions', 'previous', 'surgeries', 'searched', 'pubmed', 'luck', 'lists', 'encountered', 'surgeons', 'performing', 'transplant', 'donor', 'giving', 'stating', 'kidnewy', 'damaged', 'steps', 'fixing', 'cogan', 'yes', '18year', 'terribly', 'ms', 'experiencing', 'ss', '3rd', 'grade', 'records', 'by', '18', 'psychiatric', 'complain', '80', 'daughters', 'trisomie', '13', 'oldest', 'syndrom', 'greetings', 'fried', 'foods', 'failure', 'apply', 'oils', 'frying', 'cautions', 'against', 'concumption', 'caution', 'applies', 'oil', 'about', 'coconut', 'gingely', 'these', 'largely', 'consumed', 'southern', 'hail', 'mlc', 'reattachment', 'amniocentesis', 'broke', 'reattached', 'unable', 'aware', 'situations', 'ears', 'burn', 'cleaned', 'allot', 'wax', 'constantly', 'notice', 'evening', 'draining', 'drains', 'clartin', 'hate', 'ents', 'rining', 'pitch', 'bothersome', 'check', 'fine', 'supplement', 'nuisance', 'missed', 'wait', 'hour', 'ate', 'breakfast', 'remembered', 'law', 'istesting', 'comparing', 'husbands', 'mithers', 'none', 'smokers', 'husband', 'protect', 'himthank', 'youname', 'undisguised', 'sold', 'illicit', '19791989', 'large', 'quantitys', 'self', 'medicated', 'amphetamines', 'adolescent', 'brian', 'worsened', 'induced', 'psychotic', 'episodes', 'busted', 'trafficking', '1989', 'medicate', 'daily', 'basis', 'wrongly', 'schizophrenia', '9years', 'community', 'treated', 'forced', 'assets', 'ritalin', 'meth', 'improve', 'havent', 'prove', 'australia', 'who', 'sirs', 'posterior', 'stings', 'veins', 'prominent', 'cooperation', 'finasteride', 'yearsi', 'doctorsince', 'difficulty', 'sexual', 'desire', 'intercourseif', 'itshe', '071what', 'replay', 'recieved', 'reads', 'this2', 'lm', 'nocturnal', 'wexertioni', 'wexertion', 'means', 'saying', 'o2', 'exerting', 'crps', 'ones', 'bones', 'breakfracture', 'example', 'fracturebreak', 'mmr', 'covers', 'mumps', 'rubella', 'isnt', '3day', 'measleswas', 'german', 'binge', 'drinker', 'thiamin', '100mg', 'compound', 'senna', 'keen', 'bioengineering', 'technology', 'regrow', 'complete', 'root', 'expected', 'releasing', 'availability', 'reading', 'articles', 'outcome', 'clinic', 'avoid', 'cmt', 'periphical', 'intermittent', 'steroids', 'correctly', 'roommate', 'gentleman', 'virginia', 'protracted', 'weakness', 'muscles', 'additionally', 'wheezingcoughingbreathing', 'resolve', 'suppressed', 'degree', 'mention', 'base', 'asking', 'antidotes', 'drum', 'option', 'fix', 'deaf', 'lef', 'whas', 'tremors', '77', 'cup', 'spilling', 'contents', 'course', 'further', 'partially', 'controlled', 'varies', '100', '140', 'thanking', 'yrs', 'crazy', 'cycle', 'prednisone', '15yrs', 'shots', 'ease', 'wits', 'ankles', 'wrists', 'hemifacial', 'microsomnia', '34', 'miscrosomnia', 'fat', 'definite', 'mandible', 'perfect', 'love', 'walk', 'street', 'staring', 'mid', '60s', 'apnea', 'daytime', 'awake', 'explore', 'returned', 'nigeria', 'while', 'relative', 'outgrowth', 'covered', 'blinding', 'baseballs', 'todate', 'current', 'programs', 'advanced', 'plus', 'informaton', 'hemp', 'solutons', 'ths', 'pub', '21475304', 'denial', 'script', 'drwrote', 'lipoderm', 'ls', 'denied', 'generic', 'reduction', 'movie', 'shed', 'especially', 'thighs', '28', 'jobs', 'sugeries', 'diegestive', 'fetal', 'skull', 'closed', 'grandchild', 'unborn', 'mos', 'womb', 'survive', 'our', 'carry', 'miscarry', 'anytime', 'devastated', 'vaccination', 'froim', 'dangerous', 'airborne', 'dermatitis', 'methylchloroisothiazolinone', 'wall', 'paint', 'abol', 'httpwwwncbinlmnihgovpubmed10750849', 'dermatis', 'knwo', 'allergie', 'afte', 'rmy', 'bedroom', 'begin', 'eczema', 'properties', 'aerate', 'or', 'ceiling', 'painted', 'cabinet', 'inactivation', 'bisulfite', 'excuse', 'english', 'liver', 'transplantation', 'uncle', 'replaced', 'quick', 'highly', 'graves', 'runny', 'hep', 'c', 'been', 'contamined', 'profolactic', 'truvada', 'circadian', 'rhythm', 'adjusting', 'saliva', 'showed', 'cortisol', '630am', '1130am', '42', '430pm', '33', '930pm', 'wake', 'frequently', 'engage', 'making', 'difficult', '545', 'alarm', 'drag', 'exhausted', 'asleep', 'events', 'endocrinologists', 'addition', 'gyn', 'primary', 'sport', 'yoga', 'classes', 'qi', 'gong', 'weekly', 'caught', 'lethargic', 'heavychested', 'bosnia', 'herzegovina', 'cochlear', 'implant', 'aid', 'totally', 'ability', 'eleven', 'fever', 'therefor', 'garamycin', 'burned', 'yours', 'faithfuly', 'littel', 'glare', 'blurr', 'typed', 'diabitic', 'promble', 'six', 'monthes', 'cloudy', 'lil', 'mail', 'accepted', 'glucose', 'tolerance', 'mountain', 'dew', 'chimerism', 'curiously', 'c+', 'ruled', 'vanishing', 'twin', 'chimera', 'point', 'confirmation', 'xxxx', 'xxxy', 'concrete', 'exclusion', 'microchimerism', 'reached', 'cellular', 'local', 'nontoxic', 'goiter', '13cm', 't3t4t5', 'normalfnac', 'complications', 'radioiodine', 'cardiac', 'event', 'loop', 'recorder', 'intrinsically', 'nutrition', 'k', 'hungry', 'meals', 'labels', 'ideas', 'mane', 'everybody', 'coworkeds', 'knows', 'diagnosewhat', 'store', 'manager', 'jerk', 'idiot', 'removal', 'ovariesuterus', 'discuss', 'ovaries', 'uterus', 'menopausal', 'submitted', 'nlm', 'legends', 'browser', 'mozilla50', 'cpu', '83', 'mac', 'applewebkit60014', 'khtml', 'gecko', 'gsa5243972', 'mobile12f69', 'safari60014', 'mo', 'specified', '1988', 'sacralcoccygeal', 'teratoma', 'tumor', 'scar', 'digestive', 'namea', 'surgent', 'meet', 'saved', 'amazing', 'cleaning', 'pointed', 'metal', 'mistakenly', 'stock', 'earsince', 'pains', 'echo', 'glad', 'levalbuterol', 'budesonide', 'inhalation', 'teva', 'pharmaceuticals', 'relayed', 'stability', 'storage', 'printed', '125', 'mg3', 'ml', '063', '05', 'mg2', '025', 'suspension', 'packages', 'directly', 'pulled', 'hence', 'extended', 'either', 'nebs', 'singly', 'packaged', 'significant', 'wasted', 'facility', 'brand', 'xopenex', 'sepracor', 'stablity', 'enabled', 'refrigerate', 'foil', 'pouch', 'continuing', 'allows', 'labeled', 'expiry', 'additional', 'attention', 'affects', 'molested', 'memories', 'surfaced', 'exploring', 'sodomized', 'surrounding', 'sodomizing', 'tears', 'lead', 'groing', 'hernias', '1mesh', '1plug', 'mesh', 'bulge', 'dicomfort', 'hernia', 'must', 'operationhe', 'wants', 'thuss', 'bigger', 'holding', 'etire', 'areaunfortionatly', 'apears', 'bulging', 'equipment', 'operator', 'seatbelted', 'giant', 'bouncing', 'earthmovers', 'moving', 'inside', 'proceedure', 'feasible', 'researchers', 'program', 'surgin', 'palm', 'springs', 'pitting', 'edema', 'playdough', 'lol', 'seriously', 'rheumatoid', 'arthritisvasculitisfibromyalgiaand', 'idiopathic', 'urticaria', 'critical', 'pancreas', 'implants', 'receive', 'irritation', 'lidokaine', 'irritating', 'sensitive', 'wet', 'peeling', 'leading', 'stimulating', 'feelings', 'neurotic', 'forever', 'urgent', 'enquire', 'noninvasive', 'alternatives', 'diagnosing', 'invasive', 'mrict', 'pet', 'fitted', 'discs', 'osteoporosis', 'alports', 'metformin', 'varieties', 'hcl', '500mg', 'via', '495', '180', 'aca', 'friend', 'bottles', 'according', 'glipmetform25500mtab', 'meal', 'white', 'flat', 'sides', 'oval', 'shaped', '7456', '93', 'glybmetform', '25500tab', 'actav', 'glucovance', '25500', 'then', 'looks', 'p', '752', 'opposite', 'kick', 'extras', 'adjust', 'being', 'sucks', 'bac', 'echinacea', 'angustifolia', 'hydrastis', 'canadensis', 'lomatium', 'myrrha', 'nasturtium', 'purchase', 'sclerosis', 'media', 'perfringens', 'trigger', 'here', 'link', 'news', 'httpwwwbbccomnewshealth25925658', 'aquaticum', 'propolis', 'bacteria', 'shipping', 'eager', 'below', 'bottom', 'jaw', 'swells', 'push', 'till', 'runs', 'cheek', 'grandmother', 'lymph', 'nodes', '46xdir', 'dupxq13q26', 'signed', 'mum', 'abnormaility', 'showing', 'department', 'retested', 'younger', 'youngest', 'autism', 'boys', 'fertility', 'amh', '46', 'diease', 'horse', 'shoe', 'thinks', 'uk', 'bruxism', 'tension', 'particular', 'release', 'clench', 'fists', 'words', 'herpes', 'virus', 'simplex', 'gentle', 'condom', 'choose', 'sperm', 'ivf', 'preventing', 'virut', 'transmit', 'boyfriend', 'stick', 'otic', 'suspensions', 'approved', 'usekindly', 'regardsname', 'count', '3month', 'regimen', 'rbc', 'normally', 'ceases', 'risks', 'elderly', 'fly', 'cracked', 'bruised', 'c2657+22657+3insa', 'cf', 'mutation', 'deltaf508', 'consultant', 'drugsliver', 'mainly', 'heroin', 'theyve', 'clean', 'failing', 'containing', 'shellfish', 'meats', 'msm', 'nutritionist', 'warned', 'allergy', 'meat', 'crustaceans', 'shells', 'instead', 'vegetarian', 'version', 'grandson', 'tourettes', 'picks', 'leaves', 'scars', 'sooner', 'charcot', 'marie', 'together', 'giver', 'tough', 'genetically', 'otherwise', 'hematoma', 'carcinoma', 'pseudogout', 'httpwwwnlmnihgovmedlineplusencyarticle000421htm', 'statement', 'known', 'treating', 'explained', 'supplemental', 'calcium', 'ip', 'diagonsed', 'amnio', 'identify', 'testwill', 'belonged', 'ammnio', 'miscarage', 'medicines', '164', 'clonidine', 'worries', 'companyresearch', 'ugt', 'exist', 'heritary', 'angioedema', 'injecting', 'bloods', 'foam', 'gums', 'everything', 'deep', 'depresstion', 'interest', 'house', 'eradicate', 'crickets', 'spiders', 'tight', 'racing', 'pulse', 'tiredness', 'spray', 'masses', 'dead', 'assortment', 'flying', 'insects', 'lying', 'gastro', 'intestinal', 'handicap', 'belly', 'smetimes', 'ventoline', 'married', 'marry', 'imwith', 'vitro', 'pheochromocytoma', 'paraganglioma', 'carrier', 'kids', 'tbi', 'cycling', 'resulted', 'hospitalized', 'traumatic', 'heal', 'occurred', 'opinions', 'sports', 'lifting', 'weights', 'throw', 'headed', 'laid', 'dealing', 'almost', 'excactly', 'stiffness', 'toesa', 'n', 'ess', 'feels', 'over', 'moved', 'medineplus', 'dystrophyi', 'belongs', 'locomotor', 'disability', 'mallot', 'bent', 'rks', 'cerebral', 'palsy', 'hypotoniahypotonic', 'relation', 'pallisterkillian', 'hydrocephalus', 'epiactivity', 'neurologist', 'vojta', 'bobat', 'methods', 'operate', 'transcranial', 'directcurrent', 'occupational', 'feldenkrais', 'share', 'absolutely', 'priceless', 'shrimp', 'subside', 'suddenly', 'turned', 'allergist', 'definitely', 'lobster', 'crab', 'oddly', 'later', 'disappear', 'lazypoor', 'recommendation', 'personal', 'atenolol', '50mg', 'running', '9159', 'hr65', '80s', 'raise', 'relaxers', 'reddish', 'pot', 'temporary', 'heel', 'sirmadame', 'pallido', 'ponto', 'nigral', 'degeneration', 'n279k', '60', 'cobalt', 'chromium', 'highest', 'possibly', 'create', 'azithromycin', 'stabilitystorage', 'pharmacy', 'technician', 'inpatient', 'azithomycin', '100mg5ml', 'technicians', 'putting', 'reconstituted', 'fridge', 'kept', 'pretty', 'steady', 'celsius', 'range', '5c', 'administration', 'lovenox', 'sq', 'childhood', 'adults', 'jname', 'mildmoderate', 'longterm', 'originated', 'copy', 'doesnt', 'italy', 'milan', 'hcv', 'genotype', 'iiia', 'cirrhosis', 'evolution', 'present', 'desease', 'permit', 'attactd', 'regular', 'medicinestherapies', 'platelet', 'minus', '50000', 'sovaldi', 'italian', 'ready', 'impossible', 'top', 'enter', 'researchtrial', 'conjunction', 'ribavirina', 'cc', 'viceversa', 'anyhow', 'translation', 'hopefully', 'eventually', 'epididymis', 'hurt', 'finish', 'ejaculation', 'restroom', 'balls', 'dressings', 'wks', 'graft', 'doner', 'convinced', 'gauze', 'which', 'bloodbleeding', 'certain', 'pressures', 'applied', 'lasting', 'dark', 'spots', 'knot', 'bb', 'forearm', 'inches', 'elbow', 'hurts', 'mostly', 'prob', 'frontometaphyseal', 'dysplasia', 'ehich', 'realgarding', 'regarfs', 'presentation', 'appearing', 'typical', 'shortening', 'simply', 'femur', 'rely', 'walker', 'suffer', 'osteoarthritis', 'earlier', 'physician', 'lidocain', 'lyrica', 'rooms', 'building', 'detergents', 'imagination', 'tarlov', 'cyst', '11', 's2', 'drained', '09', 'names', 'motion', 'cfs', 'indecision', 'limited', 'symptomatic', 'non', 'operable', 'geranium', 'rarely', 'referrel', 'sores', 'genitalswhat', 'bei', 'realy', 'urgently', 'consultants', 'vasospastic', 'angina', 'arteries', 'spasm', 'developing', 'elsewhere', 'speaking', 'volume', 'dentalsjogrens', 'sjogrens', 'decayed', 'devastating', 'doimplants', 'dentures', 'funds', 'undiagnosed', 'dull', 'achy', 'decided', 'gallbladder', 'scarring', 'stabbing', 'random', 'crampy', 'ascites', 'bloated', 'carolina', 'couk', 'tick', 'bites', 'rocky', 'spotted', 'lyme', 'alot', 'ii', 'epidermal', 'factor', 'topically', 'sell', 'thnak', 'diphtheria', 'united', 'print', '19th', 'century', 'overview', 'epidemics', 'md', 'longer', 'works', 'painthe', '61', 'cushings', 'ucreatinine', 'excretion', 'hr', '216h', 'nnold', 'lab', '70170', 'waste', 'measure', 'terms', 'scale', 'represent', 'adenoma', 'carcinom', 'pancreatic', 'yearwithout', 'solid', 'adenocarcinom', 'hepar', 'metastasesis', 'wit', 'oncolytic', 'gemcitabine', 'antistax', 'frustrating', 'clothes', 'estradiol', 'estradiolclimaratd', '1s', '00375', 'ring', 'adhesive', 'vivelle', 'dot', 'patches', '8s', '00375m', 'previously', 'gel', '1035', 'bring', 'excess', 'appear', 'contraceptive', 'hairs', 'appeared', 'legswhat', 'beriberi', 'dry', 'occur', 'dysfunction', '39', 'weekness', 'erection', 'stand', 'seconds', 'decease', 'hepatic', '55', 'tendency', 'most', 'habits', 'fast', 'worning', 'percent', 'tips', 'skeleton', '177', 'mile', 'tims', 'bigest', 'cronin', 'aks', '3days', 'drs', 'quit', 'organic', 'supliments', 'cane', 'sleepless', 'nights', 'content64564partboundary33243242', 'pudding', 'loaded', 'flush', 'poison', 'petechiae', 'cluster', 'pinprick', 'underneath', 'chin', 'vomiting', 'simple', 'spoon', 'trichoepithilioma', '12yrsi', 'doctorand', 'specialistsbut', 'tourette', 'implantation', 'shunt', 'probability', 'evidence', 'indicates', 'tics', 'sympathetic', 'rsd', 'pages', 'unknown', 'guidelines', 'quickly', 'humalog', 'active', 'remains', 'reasonable', '94', '165', 'dinner', '8pm', 'next', 'prgf', 'finished', 'third', 'session', 'treatmetplasma', 'rich', 'factors', 'osteoarthritiscondropathia', 'recommendable', 'counterindicative', 'especialy', 'playing', 'tennis', 'eturn', 'hank', 'valencia', 'spain', '40is', 'uric', 'cover', 'up', 'yeast', 'hey', 'woke', 'summers', 'eve', 'denture', 'bleed', 'chew', 'needs', 'nifedipine', 'winter', 'raynauds', 'during', 'bleeds', 'mins', 'relates', 'mefloquine', 'pediatrician', '250mg', 'discarded', 'literature', 'warning', 'specifications', 'swim', 'transdermal', 'medically', '3045', 'loses', 'quality', 'falls', 'more', 'polio', 'wouldnt', 'postpolio', 'httpghrnlmnihgovconditiondownsyndrome', 'downs', 'sydrome', 'routine', 'brushing', 'cardiomegaly', 'thicken', 'enjoys', 'spending', 'outdoors', 'rls', 'ropinirole', 'neupro', 'pramipexole', 'sulfite', 'stablizing', 'eyelids', 'insert', 'relief', 'horrifying', 'affliction', 'sensations', 'mailing', 'perhaps', 'voicemail', 'shoulderback', 'paim', 'provider', 'fivetwo', 'grandchildren', 'fatherinlaw', '84now', 'hospice', 'battling', 'anal', 'fissure', 'refused', 'bendectin', '1964', 'sickness', 'subsequent', 'continued', 'meningioma', 'lesion', 'justifiably', 'contributed', 'status', 'litigious', 'positively', 'god', 'bless', 'permanent', 'visited', 'parkinson', 'cured', 'permanently', 'nutrient', 'interaction', 'resource', 'describes', 'depletion', 'ibs', 'loosing', 'daysometimes', 'faints', 'weaknesshe', 'digest', 'upon', 'cetp', 'tennessee', 'hyperalphalipoproteinemia', 'vap', 'ldl', 'density', 'pattern', 'chunt', 'vertebra', 'cranium', 'diarrhea', 'reserve', 'wateryi', 'lactase', 'milk', 'yougar', 'hymen', 'marriage', 'depressed', 'tha', 'divorce', 'upset', 'plz', 'thankfull', 'qmobile', 'faculty', 'receiving', 'dexamethasone', 'iv', 'studying', 'thalassemia', 'dnt', 'knw', 'sibling', 'die', 'beta', 'doesnot', 'handouts', 'topic', 'gumperiodontal', 'morgellon', 'horrible', 'medicalmental', 'peyronies', 'std', 'points', 'match', 'ofcourse', 'bend', 'masturbation', 'lies', 'switch', 'sarcopenia', 'timing', 'exercises', 'maintain', 'strength', '82', 'variety', 'resistance', 'tiring', 'easily', 'staphy', 'gud', 'ham', 'staphylococcus', 'advicemy', 'quotscantyquoti', 'replythank', 'spacer', 'inhalerwarning', 'symbicort', 'inhaler', 'breathe', 'whistle', 'incorrectly', 'mutations', 'environment', 'latest', 'higher', 'alkalilne', 'phosphatase', 'norman', 'lamital', 'risperdolbesides', 'onesi', 'hantavirus', 'feces', 'droppings5', 'droppings', 'dried', 'chlameydia', 'dxis', 'break', 'agei', '7yearsi', 'penicillin', 'valtrexmost', 'generlized', 'tonic', 'clonic', 'seizure', 'episode', 'daysyears', 'bathing', 'tub', 'pool', 'shower', 'lidocaine', '2or', 'remainder', 'tamoxifen', 'flashes', 'dizziness', '74', 'periventricular', 'heterotopia', '309yearsis', 'wanting', 'lern', 'hellolooking', 'tricho', 'rhino', 'phalangeal', 'directory', 'purchased', 'ph', 'strips', 'included', 'explain', 'jaundice', 'infants', 'sonwould', 'minei', 'problemsbut', 'woried', 'involvedcan', 'describeing', 'ch', 'espicaly', 'metoclopramide', 'thismedication', '32714', 'lip', 'ostiogenesis', 'imperfecta', 'whatever', 'persons', 'stupid', 'goes', 'anyway', '64', 'stay', 'fairly', 'hills', 'force', 'diaphram', 'blowing', 'candlethen', 'relax', 'flow', 'suck', 'airand', 'faster', 'conscious', 'seemd', 'performance', 'sense', 'dos', 'donts', 'metastatic', 'malignant', 'rbcs', 'btensl', 'undesecnded', 'testis', 'man', 'descended', 'run', 'responsible', 'regeneration', 'colleague', 'organ', 'pluripotent', 'redo', 'piece', 'fabric', 'acellular', 'matrix', 'repopulate', 'bricker', 'esteem', 'suicide', 'anxious', 'carefully', 'crm88878', 'finding', 'laboratory', 'institution', 'peritoneal', 'layer', 'peritoneum', 'inner', 'smooth', 'biopsy', 'arterial', 'internally', 'polymorph', 'transitional', 'epithelium', 'replicate', 'pieces', 'implanted', 'scaffold', 'scratch', 'faces', 'heads', 'nails', 'extra', 'hes', 'mr', 'mrs', 'pectus', 'excavatum', 'resident', 'super', 'typhoon', 'haiyan', 'nephew', 'undergo', 'ribs', 'finastride', 'week30', 'consume', '1mg', 'lossis', 'fetus؟', 'sex', 'shift', 'sweat', 'orskin', 'contactplease', 'ihh', 'hcg', 'nutcracker', 'ncs', 'fact', 'ringers', 'lactate', 'slushy', 'supplier', 'bitter', 'wisconsin', 'thaw', 'smell', 'acut', 'olifactory', 'profoundly', 'enormous', 'virtually', 'energy', 'starvation', 'involved', 'hardly', 'lipids', 'predict', 'dementia', 'reticence', 'unconfirmed', 'untrigger', 'trained', 'scientist', 'whos', 'confirmatory', 'coots', 'que3tion', 'nb', 'precisely', 'paralysis', 'lovasa', 'veteranian', 'fish', 'stargards', 'kills', 'retina', 'important', 'exactly', 'thoricodimy', 'collaped', 'datei', 'symtoms', 'medsto', 'painthen', 'scarryhopefully', 'awayplease', 'multicystic', 'dysplastic', 'kidneys', 'cloning', 'methotrexate', 'individuals', 'hoarse', 'asthma', 'conversion', 'hysteria', 'stressed', 'bills', 'wbc', 'humbly', 'thanx', 'greatful', 'yosorry', 'hobby', 'taboo', 'habit', 'bright', 'crying', 'plzz', 'rply', 'golden', 'book', 'ewings', 'sarcoma', 'aim', 'portion', 'sales', 'cancerby', 'heaps', 'play', 'inject', 'bin', 'injected', 'directed', 'frighten', '21years', 'crossed', 'marrow', 'bmc', 'longin', 'recover', 'gon', 'nothow', 'treatmentplease', 'iphone', 'barium', 'readicat', '21', 'wv', 'ww', 'salicylates', 'gelatin', 'adderall', 'xr', 'capsules', 'contain', 'proteins', 'average', '57', 'tall', 'guideline', 'healthy', 'fracture', '2005', 'include', 'stimulator', 'fused', 'vertebras', 'weighing', '1794', 'sarcoidosis', 'fatigueongoingis', '2006', 'noted', 'lessening', 'endurance', 'viable', 'isearch', 'dystonia', 'kalydeco', 'cystic', 'fibrosis', 'government', 'agree', 'prices', 'adopted', '1957', 'lacking', 'unsubstantiated', 'other', 'expensive', 'bracelet', 'necklace', 'vitamins', 'supplements', 'kill', 'sealed', 'bleeder', 'sew', 'job', 'yellow', 'shot', 'felt', 'awfull', 'repeat', '900', 'substantiate', 'nothingor', 'hematologist', 'dietician', 'avoidance', '4800', 'múltiple', 'misscarriage', 'daugther', 'kareotipe', 'fetus', 'trisomy', 'infertility', 'progesterone', 'hyperpigmentation', 'hypovitaminosis', 'migration', 'skinned', 'others', 'habitats', 'latitude', 'woud', 'fitzpatrick', 'portland', 'maine', 'suited', 'uv', 'rays', 'ozone', 'expose', 'uvthanks', 'peg', 'interferon', 'responder', 'viral', 'trial', 'sofosbuvir', 'bitten', 'deer', 'hunting', 'bite', 'contained', 'described', 'cited', 'prior', 'reddishpink', 'welt', 'groin', 'enlightment', 'movement', 'surface', 'larger', 'elongated', 'toilet', 'thursday', '19', '2015', '318', 'nlmncbi', 'calims', 'lincomycin', 'humans', 'false', 'httpwwwncbinlmnihgovpubmed25671960', 'amputed', 'crushed', 'door', 'closure', 'expert', 'balck', 'wht', 'treatement', 'fingerhand', 'plaster', 'vaccinei', 'healthe', 'allergies…', 'ca', 'cytoxin', 'gained', 'string', 'bean', 'christensenella', 'friendly', 'gut', 'culture', 'wondered', 'causative', 'obesity', 'exists', 'fluocinolone', 'acetonide', '25', 'develops', 'cracks', 'squeezes', 'everywhere', 'messy', 'packaging', 'vericoceal', '24year', 'obliged', 'rhabdomyosarcoma', 'intense', 'remission', 'guidence', 'instruct', 'broncomar', 'dextromethorphan', 'hydrobromide', 'guaifenesin', 'labeling', 'tsp', 'specifies', 'prompt', 'wholeexome', 'sequencing', 'considerable', 'heterogeneity', 'enquireing', 'cp', 'negligence', 'seguencing', 'indication', 'projects', 'valsartan', 'presently', 'diovan', 'suggesting', 'celiac', 'mrsa', '44', 'contagious', 'dating', 'major', 'transfusing', 'mylostat', '500', 'hydroxyurea', 'wheather', 'growing', 'girls', 'except', 'referring', 'stumpy', 'shorter', 'friendshis', 'emotionally', 'neurofibromatosis', 'handed', 'spontaneous', 'giloma', '’', '“', '”', 'pun', 'fields', 'radiologist', 'diuretic', 'mylan', 'indapamide', 'blurred', 'discontinue', 'garlic', 'rd', 'bello', 'friedreich', 'pass', 'step', 'mexico', 'anywhere', 'skype', 'account', 'knowledge', 'thankful', '3amy', 'ribavirin', 'weeksi', 'deletion', 'apparent', 'defects', 'relevant', 'mobility', 'slow', 'development', 'investigation', 'missing', 'brings', 'letter', 'biteit', 'rashes', 'treate', '22yrs', 'diary', 'hood', 'section', 's', 'enclosed', 'images', 'written', 'ectopic', 'earliest', 'faithfully', 'osteogenesis', 'fractures', 'blue', 'factures', 'inj', 'pemidronate', 'examination', 'bmd', 'stronger', 'planned', 'completed', 'oi', 'examine', 'cyanocobalamin', 'relapse', 'fatigue', 'although', 'macular', 'farsighted', 'advantage', 'sighted', 'alzheimers', 'greatest', 'caregiver', 'attempting', 'sort', 'fixed', 'incomes', 'grafts', 'covering', 'motorcycle', 'cut', 'bridge', 'stitched', 'pentoxifyline', 'mistakingly', 'pack', 'medacation', 'danger', 'illegally', 'clicked', 'driving', 'pdf', 'bvf', '120mg', 'teza', 'dispensing', 'stratum', 'corneum', 'removing', 'pedicure', 'michigan', 'cheese', 'grater', 'styled', 'blades', 'banded', 'practice', 'cosmetology', 'welfare', 'citizens', 'discretion', 'cosmetologist', 'receives', '400', 'schooling', 'neurosyphilis', 'syphilis', 'hydrochlorothiazide', 'diminish', 'potency', 'tegretol', 'lamictal', 'absence', 'occurre', 'spells', 'informatión', 'antennatal', 'corticoids', 'maturation', 'diabetics', 'ginseng', 'publication', 'medicinal', 'benefits', 'shock', 'stroke', 'cerebellum', 'apoplexy', 'placing', 'balance', 'extent', 'scientists', 'curing', 'coal', 'flu', 'inquiries', 'ammonia', '73', 'a1cs', 'plarvs', 'remote', 'washington', 'hopeless', 'serach', 'between', 'congestive', 'prosthetic', 'amp', 'echelon', 'kinttera', 'diabetis', 'novolin', 'novolog', 'vaginai', 'hve', 'somethng', 'fishy', 'smelland', 'dicharge', 'donot', 'humifier', 'moisterizing', 'thractoastamy', 'forgive', 'spelling', 'testosterone', 'cypionate', 'abovementioned', 'hcpcs', 'code', 'j1071', 'bill', 'vascular', 'unsteady', 'gait', 'prblem', 'refusing', 'living', 'essential', 'basic', 'snf', 'apreciated', 'babygirl', 'vagina', 'newborn', 'spotting', 'sti', 'circumcised', 'warts', 'virushpy', 'lleucine', 'hellodo', 'introduction', 'cancerif', 'socould', 'specializes', 'specifically', 'provides', 'specialty', 'severly', 'depressedmajor', 'anziety', 'addicted', 'opiates', 'suboxone', 'antiseizure', 'lately', 'spinning', 'intentions', 'hurting', 'harming', 'mess', 'talking', 'hypertension', 'saggy', 'theophyline', '1994', 'pcp', 'advair', 'diskus', 'neither', 'serum', 'pulmonologist', 'pft', 'methachlorine', 'cancelled', 'bronchitis', 'extremely', 'tolnaftate', 'nail', 'fungus', 'toe', 'questionfor', 'siemens', 'quantity', 'thin', 'weightgive', 'agoand', 'familiallongetudnal', 'fragile', 'generations', '92', 'functional', 'disabilities', 'developmental', 'delays', 'auditory', 'processing', 'facial', 'iq', 'math', 'inability', 'generation', 'halfbrother', 'wo', 'hyperactivity', 'intellectual', 'deficits', 'explanation', 'benefit', 'researching', 'understanding', 'links', 'proceed', 'potent', 'acetaminophencod', 'amputation', 'limbs', 'blockage', 'pace', 'turning', 'forming', 'disks', 'ctscan', 'anybody', 'hirayamas', '10yrs', 'endings', 'dying', 'excruciating', 'apart', 'morphine', 'fluticasone', 'rhinitis', 'ran', 'awful', 'halting', 'clostridium', 'pos', 'wang', 'alive', 'contacts', 'eg', 'upd14', 'lattest', 'dlimonene', 'particullary', 'milking', 'virgin', 'press', 'nipples', 'pressing', 'hormonal', 'threatening', 'fearful', 'blessings', 'dystropy', 'stepson', 'carriers', 'availablefor', 'fibromalgia', 'sepsis', 'prevented', 'aisa', 'afghanistan', 'louis', 'bar', 'pregnancies', 'lesser', 'degreeie', 'continuum', 'front', 'rhip', 'orthopedic', 'disc', 'hivaids', 'caustic', 'soda', 'mauritius', 'scabbies', 'scabie', 'delicate', 'microcytic', 'yearsin', 'transfused', 'hb', '45doctors', 'anemiawe', 'herplz', 'regard', '79', 'eligard', 'prostate', 'brisdelle', 'nf', 'nf1', 'benign', 'hysterectomy', 'endometriosis', 'cysts', 'emergency', 'colon', 'badly', 'tangled', 'twisted', 'ihss', 'wpw', 'gender', 'dysphoria', 'him', 'out', 'shutting', 'himself', '247', 'yuo', 'mitochondrial', 'carnitine', 'tone', 'behavioral', 'tubes', 'imapairment', 'gerd', 'piruvate', 'lactic', 'drawn', 'mito', 'wont', 'pannel', 'inconclusive', 'heres', 'snipit', 'heteroplasmic', 'atp6', 'c8899a', 'm', 'epsisodes', 'cyanosis', '6channel', 'pyruvate', 'elevations', 'mtdna', 'eternally', 'special', 'psychologist', 'meditation', 'mindfulness', 'cbt', 'impact', 'activity', 'neuroplasticity', 'practicing', 'techniques', 'awesome', 'improved', 'nobody', 'story', 'appreciable', 'affectand', '10mgs', 'metroprolol', '25mgs', 'amlodipine5mgs', '15090', '14085', 'drugswhat', 'esomepeazole', 'magnesium', 'nexium', 'produced', 'vit', '2what', 'posted', 'massive', 'conduct', 'searches', 'neuroaid', 'claiming', 'restore', 'fda', 'sounds', 'promising', '1942', '10day', 'indicated', 'immune', 'unnecessary', 'separate', 'reappear', 'contacted', 'dactarine', 'wrote', 'recipe', 'terbinafine', 'thrush', 'guys', 'atibiotic', 'bardetbiedl', 'decay', 'cartilage', 'stenosis', 'yers', 'approaching', 'online', 'breakthrough', 'thalassamia', 'datenow', 'analysis', 'thalassamic', 'intermedia', 'whene', 'transfusion', 'djibouti', 'cme', 'spleen', 'enlargemnt', 'daysafter', 'biotics', 'lentin', 'globin', 'b305', 'microfracture', 'allowed', 'meniscus', 'only', 'handnow', 'problemi', 'takei', 'be', 'peptic', 'ulcers', 'ulcerative', 'doses', 'very', '50started', '95', 'nerves', 'polands', 'failures', 'gfr', '2016', 'yearsshe', 'keloid', 'faceshe', 'vaincryo', 'surgerysurgerysteroidcompression', 'band', 'etcit', 'dayas', 'finds', 'societyso', 'sameplease', 'hepatitus', 'taker', 'dosnt', 'successfully', 'resection', 'cures', 'emphasized', 'infoon', 'avail', 'messages', 'their', 'futile', 'accurate', 'tremendously', 'baracluse', 'xifacxin', 'lactulose', 'alarmingly', 'unknowledgable', 'pork', 'mestinone', 'tanning', 'booth', 'burning', 'mestinon', 'intolerant', 'alcohols', 'maltilol', 'sorbitol', 'xylitol', 'biotene', 'madame', 'i´m', 'germany', 'gorlin', 'goltz', 'pch1', 'gen', 'sry', 'gentechnik', 'exchanged', 'settled', 'power', 'partly', 'impasse', 'basaliomas', 'zest', 'gives', 'opportunity', 'intervention', 'furthest', 'participate', 'variceal', 'egypt', 'risky', 'moms', 'abroad', 'join', 'record', 'mistaken', 'protein', 'hiccups', 'rounded', '1st', 'birthday', 'desperately', 'childs', 'depends', '2007', 'tumour', 'grew', 'menopause', '1990', 'offered', 'tamoxin', 'uses', 'phentermine', 'baffling', 'substantially', 'relieved', 'ledderhose', 'plantar', 'fibromotisis', 'specializing', 'locate', 'antidepressant', 'soy', 'fully', 'ambilatory', 'sensorineural', 'snhl', 'buzzing', 'salinomycin', 'hiatal', 'herniaexercise', 'botox', 'useful', 'crippled', 'hemmorhage', 'canadida', 'esophagus', 'realize', 'addressed', 'seeking', 'tennitis', 'ringing', '5os', 'aortic', 'valve', 'minimally', 'miavr', 'tavr', 'riskier', 'conventional', 'split', 'lipoma', 'experimental', 'thalamic', 'lacunar', 'strokes', 'aiming', 'infant', 'translocation', 'prestigious', 'peroneal', 'november', '2012please', 'alt', 'ast', 'values', '99100', 'f', 'wt', '87', 'alkohol', '110', '135', '175i', 'regularly', 'stiloz50i', 'kerala', 'juicemethi', 'seeds', 'transferred', 'athrtics', 'freely', 'pediathratic', 'pschyotharapi', '170', 'nocturia', 'discussed', 'urinate', 'stream', 'welcomed', 'refuses', 'anymore', 'maintenance', 'challenging', 'role', 'return', 'grievance', 'counseling', 'passing', 'services', '3113', 'interfere', '01152014', '137mg', 'dailey', 'comfortable', 'tsh', 'levthyroxin', 'venous', 'catheters', 'ports', 'grandma', 'dialysis', 'blew', 'swelled', 'purple', 'port', 'blown', 'clots', 'lineage', 'line', 'offspring', 'wolf', 'herschhorn', '46xy', '46xxy', '46xxxy', 'referred', 'cousins', 'shampoo', 'unless', 'medicare', 'triple', 'bypass', 'alicensed', 'embarrassed', 'co', 'worker', 'pmshydrochlorothiazide', 'vein', 'cosmetic', 'dangers', 'plaquenil', 'levofloxacin', 'quinolone', 'garcinia', 'cambodia', 'plenty', 'adds', 'promoting', 'extract', 'plantgarcinia', 'cambodiato', 'reliable', 'aunt', 'motrin', 'aggrenox', '25200', 'amlodipine', 'simvastatin', 'levothyroxine', 'mcg', 'oxybutynincarbcomevo', 'sertraline', 'uncontrollable', 'jerking', 'exercising', 'strange', 'overhead', 'sneer', 'core', 'onto', 'stops', 'ends', 'squat', 'pipe', 'alarmed', 'certified', 'opt', 'nashville', 'tn', 'strabismus', 'trusted', 'performs', 'scrotum', 'fomepizole', 'mixing', 'precautions', 'protective', 'gear', 'haemophilia', 'clotting', 'assays', 'hemophilia', 'onions', 'amountsi', 'injuries', 'hemmorhageboth', 'transfusions', 'determined', 'circumcision', 'locationt', 'workup', 'appointment', 'privatepay', 'fungal', 'lamisil', '1oo', 'betamethasonen', 'sulphur', 'ointmentcream', 'terbanfine', 'fuschinampiclus', 'beecham', 'thesethe', 'remain', 'samepls', 'recomend', 'trigem', 'tri', 'gem', 'rearended', 'incredible', 'lasted', 'decompression', 'syrgery', 'gemn', 'brought', 'car', 'diagosed', 'wiht', 'trombolysis', 'pseudomona', 'aeruginosa', 'pseudomonas', 'tank', 'referral', 'vacationing', 'puerto', 'rico', 'toothache', 'ocular', 'albinism', 'malaysia', 'msa', '2009year', 'hereditary', 'grandpa', 'inheritated', 'proven', 'precious', 'pcr', 'endometrises', 'spelled', 'stated', 'intraductal', 'papillary', 'mucinous', 'neoplasm', 'ipmn', 'alternative', 'doparesponsive', 'dyt', 'mey', 'proccess', 'levodopa', 'csyst', 'ovary', 'conceive', 'ending', 'adverse', 'egg', 'fertilized', 'follupian', 'logic', 'shortness', 'tip', 'chores', 'pursed', 'stethoscope', '71', 'toughen', 'tire', 'lazy', 'kitty', 'cat', 'strays', 'imagine', 'litter', 'boxes', 'bowls', 'bags', 'vet', 'kitties', 'periods', 'leads', 'thick', 'flucanazole', 'antifungalwhich', 'allopatic', 'primitive', 'traditional', 'ua', 'amphetamine', 'positives', 'respond', 'saturday', 'rushed', 'sunday', 'tuesday', 'operated', 'dropped', '7080', 'sight', 'reacts', 'spoke', 'overjoyed', 'elaborate', 'shadows', 'selfknowledge', 'toward', 'irregular', 'bowl', 'affecting', 'prolia', 'esophigus', 'meanwhile', 'persist', 'bm', 'diaphragmatic', 'abort', 'involve', 'whith', 'regime', 'iran', 'vamousse', 'lice', 'labe', 'claims', 'fdaregistered', 'pediculicide', 'fdaapproved', 'ovicide', 'misbranded', 'requiring', 'appropriate', 'conform', 'violation', 'ftc', 'rulings', 'prohibit', 'introduced', 'prevention', 'vs', 'lornamead', 'publish', 'tamsulosin', 'glutenfree', 'manufactured', 'ba', '1996', 'smashed', 'fallen', 'lens', '2003', 'mp', 'endolaser', 'vitreous', 'filled', 'silicone', 'artificial', 'stabilized', '1510', 'detached', 'attempt', 'lastly', 'max', 'iris', 'changes', 'lights', 'shrinking', 'continuously', 'functioning', 'learned', 'strongly', 'recommends', 'enucleation', 'enucleatio', 'travelpay', 'priority', 'scary', 'usable', 'specialized', 'concussions', 'abuse', 'victim', 'abusive', 'verbal', 'substantial', 'led', 'fullfledged', 'subdural', 'bled', 'coffee', 'neurosurgeon', 'movedbattered', 'womens', 'speech', 'considerably', 'football', 'players', 'partial', 'set', 'herbs', 'nutritional', 'spanish', 'phisiotherapy', 'phisician', 'phisiotherapist', 'enlarge', 'bf', 'sandozalfuzosinhes', 'thinkbut', 'drive', 'decreaseand', 'talked', 'thankyou', 'cinca', 'sindrome', 'whipples', 'ruling', 'knew', 'pilot', 'medlinepus', 'logged', '120', 'dream', 'comerical', 'undertook', 'failed', 'movment', 'binocular', 'eyedoctor', 'meant', 'orthoptics', 'thight', 'quotnormalquot', 'prothesis', 'facioscapulohumeral', 'curl', 'inward', 'picking', 'opening', 'doors', 'harness', 'electrical', 'amputees', 'cocaine', 'inquire', '00527172874', 'lasts', 'off', 'rt', 'stomack', 'few', 'inform', 'contracted', 'wound', 'abscesses', 'inflammation', 'pus', 'gentamicin', 'improvement', 'transplation', 'platelets', '16100', 'cancerous', 'tb', 'dengu', 'drastically', 'decreasing', 'fluocinonide', 'tea', 'tree', 'identified', 'fragrance', 'significantly', 'onset', 'therere', 'antidiabetic', 'prescribes', 'sicker', 'glipize', 'skinny', 'prescripions', 'pomegranate', 'rosuvastatin', 'crestor', 'juice', 'decrease', 'breaks', 'lipitor', 'versus', 'spectrum', 'innovative', 'addresses', 'narrow', 'qeeg', 'heg', 'topamax', 'characterize', 'twisting', 'arcmuscle', 'slowly', 'cramping', 'pushed', 'knitting', 'needle', 'effected', 'seized', 'restricting', 'shallow', 'stretching', 'involuntarily', 'alfa2b', 'biological', '1991', 'cognitive', 'signs', 'mode', 'inheritance', 'groups', 'lap', 'amputated', 'possibilities', 'miracle', 'watched', 'television', 'forgotten', 'chewing', 'tobacco', 'barely', 'dawned', 'newline', 'transformed', 'dozen', 'wow', 'healed', 'awhile', 'phantom', 'inderal', '80mg', 'pharmacists', 'equal', 'berry', 'smothie', 'redi', 'smoothie', 'flavor', 'werent', 'wash', 'ctnnb1', 'ft', 'intercourse', 'aroused', 'smoke', 'masturbate', 'testicles', 'ejaculate', 'intimacies', 'starts', 'masturbating', 'erections', 'mornings', 'sildenafil', 'ugly', 'challenge', 'couch', 'fortunately', 'spend', 'perk', 'rest', 'innformation', 'inhibit', 'disassemble', 'tau', 'aggregation', 'subcutaneous', 'retrocalcaneal', 'bursitis', 'haglunds', 'deformity', 'calcaneum', 'obese', '12yrs', '11yr', 'suicidal', 'grades', 'anyt', 'tetanus', 'immunity', 'cdc', 'anixity', 'dianosed', 'deminita', 'yall', 'nc', 'seretona', 'nonething', 'huntingtons', 'infectious', 'animal', 'tour', 'observe', 'dissecrion', 'mice', 'model', 'closely', 'drops', 'splashed', 'mouse', 'comeing', 'achromobacter', 'xylosoxidans', 'colonisation', 'implications', 'bronchiectasis', 'colonised', 'mdr', 'mucstrain', 'denitrificans', 'aunty', 'aloe', 'jumping', 'genestransposons', 'lynch', 'tdm1', 'metostasis', 'brainlungs', 'tolterodine', 'tartrate', '4mg', 'starch', 'weigh', '182lbs', '220lbs', 'replace', 'chickenpox', 'unprovoked', 'vulvodynia', 'rehabbing', 'splinted', 'badlydislocated', 'reset', 'late', 'storebought', 'splint', 'ligament', 'kicking', 'offset', 'somewhat', 'indicating', 'ligaments', 'ruptured', 'guess', 'nonetheless', 'board', 'certainly', 'problematic', 'stiffshould', 'regain', 'motioncan', 'rehabbed', 'assuming', 'hike', 'asit', 'xout', 'washin', 'benzoyl', 'peroxide', 'insect', 'seafood', 'byproducts', 'cypress', 'business', 'cytrak', 'crystals', 'arteritis', 'gca', 'rx', 'responds', 'paediatric', 'geatational', 'gestational', 'glioblastoma', 'round', 'rxs', '+', 'multiples', 'perneuropathy', 'sole', 'bunion', 'lumber', 'puncture', 'shld', 'wld', 'hitiala', 'hasitate', 'exam', 'nananame', 'wevwevwevwelcome', 'collection', 'humerus', 'yearsold', 'romania', 'europe', 'fractured', 'hidrocortisone', 'bother', 'especally', 'bodybuillding', 'basketball', 'hopping', 'bonejoint', 'sharply', 'cooking', 'dropping', 'twist', 'thru', 'bodywhat', 'excited', 'bellys', 'horror', 'mirror', 'oz', 'discovery', 'resent', 'singled', 'hypersensitivity', 'pneumonitis', 'memory', 'mattress', 'visiting', 'weekend', 'smokes', 'coleus', 'caladiums', 'poisonous', 'pets', 'plants', 'zolmitriptan', 'orally', 'disintegrating', 'rye', 'barley', 'significance', 'keeping', 'liters', 'menkes', 'kinky', 'thx', '89', 'catheter', 'poured', 'orange', 'effectiveness', 'ulceratice', 'colitis', 'mucas', 'eyesight', 'cap', 'sonprazd', 'coolgut', 'falute', 'mesacol', 'supporteries', 'z', 'siho', 'omnacortil', 'rabelco', 'folvitc', 'entofoam', 'bevon', 'anovate', 'colonoscopy', 'endoscopy', 'initial', 'erosion', 'ulcer', 'continuous', 'complaining', 'understood', 'gastroenterology', 'proctocolectomy', 'ileoanal', 'reservoir', 'requires', 'glutathione', 'namei', 'met', 'chat', 'algeria', 't6', 't7', 'paralyzed', 'imperfect', 'world', 'faith', 'moves', 'mountains', 'paste', 'french', 'confident', 'irm', 'medullaire', 'protocole', 'sagittales', 't1', 'se', 'stir', 'sagittalescoronales', 'frfse', 't2', 'axiales', 'frfset1', 'myeloirm', 'resultats', 'mise', 'en', 'évidence', 'complexes', 'corporelles', 'avec', 'tassement', 'cunéiforme', 'des', 'pessary', 'kegels', 'worsening', 'reduced', 'kegel', 'wolfram', 'autistic', 'malereading', 'matches', 'syundrome', 'doings', 'unfortunatley', 'develope', 'eventssymptoms', 'approx1520', 'websites', 'knowabout', 'fibroid', 'column', 'jointshe', 'tremor', 'wrist', 'providing', 'demand', 'perirenal', 'stipulated', 'httpwwwnlmnihgovmedlineplusencyarticle001274htm', 'drdrs', '59', '14st', 'probably', 'diuretics', 'pension', 'involves', 'standing', 'shop', 'unfit', 'breathless', 'climb', 'stairs', 'engineered', 'science', 'modification', 'esophygeal', 'candida', 'gi', 'esophygus', 'pictures', 'splotches', 'btw', 'pten', 'cholesterol', 'carbohydrates', 'numerical', 'amounts', 'malayalam', 'percutaneous', 'nephrolithotomy', 'recognise', 'nephrostomy', 'recognised', 'guysi', 'bloating', 'sleeping', 'smelling', 'uncormfotable', 'cidimage001png01d08e1e47e509a0', 'tel', 'fax', 'environmentthink', 'attachments', 'confidential', 'intended', 'solely', 'addressee', 'disclaimer', 'displays', 'directors', 'retropubic', 'prpostectomy', 'prostectomy', 'mmove', 'track', 'soar', 'pees', 'fear', 'appendix', 'voids', 'ebstienbarr', 'eatwondering', 'clump', 'vessels', '•radical', 'dissection', 'rights', 'scm', 'parathyroids', 'defined', 'cautionarys', 'dosages', 'define', 'feeding', 'languages', 'follows', 'promote', 'metafolic', 'caplet', 'thumb', 'forefinger', 'pyloric', 'leaky', 'vd', 'blister', 'bumps', 'squeezed', 'veneral', 'stuff', 'oh', 'divorced', 'beginning', 'forgetfulness', 'coping', 'cope', 'luque', 'rod', 'fusion', 'reclast', 'infusion', 'existing', 'diagnost', 'scheduled', 'nephrotic', 'diffused', 'axonal', 'waling', 'coordin', 'howdy', 'attained', '235', 'did', 'spectacular', 'independently', 'terrific', 'io', 'abilities', 'thankz', 'chow', 'hemangioma', 'oily', 'tummy', 'precede', 'headaches', 'varied', 'describe', 'precedes', 'trimethoprim', 'sulfamethozle', 'intial', 'cd4', '410', 'cd8', '1050', 'cd3', '1493', 'hiv1', 'antacid', 'tritralac', 'preferred', 'apremilast', 'google', 'cielca', 'jerome', 'diagnoses', 'retinoblastoma', 'typing', 'kerataconus', 'cross', 'linking', 'donate', 'withdrawal', '600', 'mgm', 'contin', 'ended', 'weaned', 'zero', 'irritates', 'sitting', 'jump', 'helpname', 'minor', 'statin', 'plavix', 'isotretinoin', 'structure', 'contribute', 'neals', 'duloxetine', 'casules', 'cymbalta', 'hydrosis', 'wextreme', 'leaving', 'conditioner', 'ruining', 'adenomyosis', 'menstruation', 'inherited', '3000', '91', 'chol', 'youd', 'struggling', 'cardiology', '9060', 'parent', 'originate', 'asbestosis', 'hint', 'medlin', 'presented', 'asbestos', 'braincancer', 'alsohis', 'downpls', 'legwe', 'gratefull', 'ucontact', 'aneurysm', 'hemmorhagic', 'agehe', '31', 'fluke', 'haunted', 'burst', 'clotis', 'gamapentin', '300mgfor', 'oldwhat', 'swimmer', 'polycythemia', 'vera', 'creatinine', 'irresistible', 'itbut', 'refuse', 'gopls', 'creambut', 'spreadingpls', 'lockedin', 'yearssomebody', 'hydatidiform', 'mole', 'thins', '20s', 'ver', 'interesting', 'demon', 'invaded', 'thee', 'friends', 'returnedi', 'artrophy', '`', 'proposition', 'career', 'pro', 'boxer', 'spread', 'admitted', 'counts', 'fluctuating', '150000', '114', 'initially', '40k', 'raised', '67k', '20k', 'buttocks', 'cortisol10', 'dirty', 'hottub', 'rag', 'battery', 'outage', 'rural', 'setting', 'outages', 'switching', 'cpap', 'relieves', 'pcos', 'actual', 'material', 'fyi', 'administer', 'refractory', 'sinus', 'tolerate', 'havy', 'couselor', 'understands', 'situationdiabits', 'daytrana', '230', 'devises', 'suitable', 'awkward', 'nut', 'surgically', 'undergoing', 'radiations', 'dissecting', 'chromosones', 'evolved', 'worldwide', 'months4', 'intolerance', 'formula', 'lactogen', 'switched', 'nan', '0', 'upto', 'pooped', 'aswell', 'file', 'stooped', 'zerolac', 'smoothened', 'cerelac', 'cid', 'asleeep', 'mt', 'spot', 'formed', 'pimple', 'ithcing', 'hyderbadwhat', 'phinomea', 'span', 'through', 'forme', 'chicken', 'pox', 'acylovir', 'glycerinanimal', 'vegetal', 'glycerin', 'religion', 'purposeour', 'believeswe', 'crainosynstosis', 'metoptic', 'sagittal', 'bicoronals', 'sutures', 'prematurely', 'fusing', 'deals', 'flabby', 'flatterwider', 'blueish', 'tint', 'suture', 'toes', 'lines', 'chubbier', 'sucken', 'dimple', 'tethered', 'rule', 'displaced', 'doctorsthanks', 'occasional', 'softball', 'dog', 'voster', 'flare', 'fatigued', 'rehab', 'ordeal', 'dedicated', 'blocked', 'nowtaking', 'amoxicillin', 'trihydrate', 'apomometasone', 'brazilian', 'pmd', 'pelizaeusmerzbacher', 'leukodystrophy', 'brazil', 'specialize', 'androgen', 'insensitivity', 'helloim', 'httpwwwncbinlmnihgovsitesgadisorder=androgen20insensitivity20syndrome', 'suggestionsthanks', 'advancename', 'depend', 'forms', 'unreliable', 'grandfather', 'hypermobility', 'causal', 'dcd', 'peer', 'reviewed', 'arrythemia', 'iwanted', 'ailments', 'ince', 'excellent', 'explanations', 'insight', 'subjects', 'chromosomes', 'heightened', 'sensitivity', 'smells', 'fragrances', 'chemicals', 'distorted', 'arent', 'weird', 'nevus', 'mucinosis', 'dermatologic', 'quotnevus', 'mucinosisquot', 'transposition', 'birthwhen', 'mentions', 'defectswhat', 'surgerys', 'comparison', 'othersthanks', 'anxiously', 'replysincerely', 'beckwithwieddeman', 'yale', 'hii', 'directioni', 'separated', 'january', 'returnedto', 'combat', 'begun', 'application', 'neurostymulation', 'inserted', 'backhowever', 'contacting', 'advisable', 'adoption', 'kidsalso', 'appendectomy', '2004', 'keyhole', 'cist', 'prone', 'ovarian', 'cists', 'timecan', 'questionsmany', 'havekind', '10for', 'reliefand', 'exhibiting', 'flulike', 'communicate', 'guessestimate', 'theyre', 'last1', '5p', 'origen', 'specify', 'components', 'coenzyme', 'q10100mg', 'useable', 'muslims', 'conjestive', 'offsetting', 'unexplained', '100105', 'action', 'restswhile', 'watching', 'tvor', 'sleeps', 'vasculitus', 'vasculopathy', 'allopathy', 'ayurveda', 'homeopathy', 'orthopaedician', 'considering', 'panel', 'prep', 'prepare', 'lithium', 'nightly', 'cousin', 'losses', 'korsocoffs', 'alcoholism', 'conditon', 'educate', 'disorderi', 'soonthank', 'candidate', 'flavinoid', 'nutrients', 'strokesheart', 'mcardles', 'torn', 'tremori', 'yeras', 'controlit', '1000s', 'underwear', 'revolves', 'sided', 'helpwhat', 'doi', 'fluoxetine', 'mysthenia', 'gravis', 'unmarried', 'femalein', '2011', 'stagewhen', 'eyelid', 'drooped', 'thymus', 'discontinued', 'drooping', 'lifelong', 'ensure', 'antobodies', 'foetus', 'newly', 'marrired', 'bile', 'alopecia', 'chemical', 'coloring', 'painless', 'burns', 'ricketts', 'blind', 'technologies', 'improvecure', 'bionic', 'testoxl', 'libido', 'xl', 'usage', 'loin', 'hematuria', 'aka', 'lphs', 'medtronics', 'symplicity', 'renal', 'denervation', 'copies', 'doing', 'genealogy', 'ancestral', 'decendants', 'anderson', 'tawil', 'familial', 'mediterean', 'remember', 'sleepthough', 'pants', 'pinching', 'stretch', 'timebut', '15yrs+', 'iti', 'bonesare', 'wing', 'condtion', 'autosomal', 'recessive', 'loken', 'responding', 'unaffected', 'mutated', 'illustration', 'pimples', 'skins', 'embarrassing', 'sleeve', 'single', 'tine', '200mg', 'swell', 'klinefelter', 'sensorial', 'femoral', 'calls', 'mystery', 'ulcercanker', 'afghan', 'lifetime', 'amyloidosis', 'honor', 'distribute', 'funeral', 'employee', 'familiar', 'campus', 'pick', 'planning', 'lunce', 'diseasewill', 'almita', 'pemetrexed', 'thrusday', 'reviewing', 'prilosecnexiumtagament', 'zantac', 'prilosec', 'proton', 'pump', 'inhibitors', 'tagamet', 'h2', 'blockers', 'acidare', 'differences', 'medicnes', 'gastroesophageal', 'reflux', 'nowi', 'curedi', 'omeprazole', 'timesplease', 'consensus', 'discussing', 'degenerative', 'disk', 'diseasei', 'yrsim', 'legsat', '3040', 'freeze', 'pressurehince', 'wheelchairneed', 'diseasehealthcare', 'providers', 'surgdont', 'surg', 'town', 'americao', '59yrsoldany', 'apprec', 'morgellons', 'crawling', 'phenobarbital', 'phenobabiral', 'toxic', 'dilantin', 'defect', 'cerebellar', 'ataxiacan', 'sideplz', 'replyits', 'msg', 'tracheomalacia', 'wide', 'honest', 'muccular', 'medline', 'abstracts', '9899', 'limbgirdle', 'thisthank', 'glyburide', 'picked', 'shared', '23yr', 'boyi', 'knock', 'downplease', 'knoledge', 'inguinal', 'pamplets', 'pti', '2mg', 'myfortic', 'professor', '000', 'reach', 'kidd', 'jk5', '4miscarriages', '30th', 'births', 'dur', 'ing', 'scitica', 'elder', 'sciatic', 'saving', 'helpless', 'recoup', 'nodules', 'nodule', 'tmau', 'fishfeces', 'vistaril', 'qs', 'raw', 'materials', 'q1', 'certification', 'capsule', 'opinionsnor', 'therpy', 'dobdate', 'pku', 'adrenal', 'hyperplasia', 'endocrine', 'physians', 'preceded', 'violent', 'epidodes', 'esphogal', 'dehydration', 'malnutrician', 'plasma', 'vmashowed', 'catacholomineshe', 'demostrated', 'tachcardia', 'diagnoised', 'migb', 'clearly', 'bifocal', 'uptake', 'glands', 'antral', 'polys', 'biosphys', 'misplaced', 'gastrologist', 'aberrant', 'subclavian', 'esphogas', 'gastrin', 'cyclic', 'symptons', 'heat', 'intolerence', 'pallor', '45mins', 'hrs', 'knowlegable', 'pheochromocytomas', 'mia', 'physian', 'statistic', '180115', 'hr50', '6844', '122', 'shoc', 'smoker', 'demylination', 'sensorimotor', 'drin', '12mm', '23mm', 'meesmann', 'corneal', 'epithelial', 'debriding', 'laser', 'keratectomy', 'lenses', 'each', 'unsuccessful', 'photosensitivity', 'compromised', 'hypothyroidism', 'quothypothyroidismquot', 'expectancy', 'yold', 'assisted', 'legal', 'dignity', 'ravages', 'mind', 'hoe', 'tecfidera', 'became', 'foggy', 'mecp2', 'commenting', 'ppmx', 'noone', 'durastic', 'reportedi', 'ostonecrois', 'booklet', 'necrosis', 'pause', 'weaning', 'janumet', '50mg1000mg', 'wmetformin', 'fill', 'overdose', 'nonpublic', 'employer', 'employees', 'cordially', 'readiation', 'stopping', 'block', 'estrogen', 'wolff', 'illuminating', 'refer', 'rarer', 'thu', 'jan', '161006', 'gmt', 'myncbi', 'sessionid', 'ce9069de4a56a0a10093sid', 'username', 'host', 'portal205', 'snapshot', 'projectsmyncbimyncbiportal245', 'browsers', 'agent', 'header', 'mozilla40', 'compatible', 'msie', 'windows', 'wow64', 'trident40', 'slcc2', 'net', 'clr', '2050727', '3530729', '3030729', 'pc', 'infopath2', '20150101t1103270500', 'recentactivity', 'insulinomaneed', 'tahanks', 'pubic', 'nodular', 'visible', 'visit', 'recovering', 'antiviral', 'eyebrow', 'citrobactor', 'freundii', 'ciprofaxin', 'ks', '2yrs', 'nil', 'molecular', 'biology', 'karyotyping', 'dere', 'meif', 'illnessi', 'outsince', 'heris', 'illnessand', 'curedplease', 'decubitus', 'whom', 'compulsory', 'causations', 'professionals', 'survey', 'detailing', 'hypotension', 'books', 'hypotensionlow', 'sling', 'whatmy', 'granson', 'surery', 'rock', 'ar', 'pots', 'puffy', 'dignoised', 'akmost', 'cdh', '1971', 'merely', 'fullterm', 'fraternal', 'caring', 'estranged', 'undetected', 'chlordizepoxide', 'pleaseand', 'effcetive', 'drugthis', 'quastion', 'studythats', 'asthanks', 'baker', 'neurology', 'researches', 'york', 'attentions', 'antiphosoholipid', 'struggle', 'aps', 'devils', 'showers', 'washing', 'bet', 'asymptomatic', 'insideous', 'perforation', 'tract', 'vague', 'complaints', 'announce', 'detect', 'stories', 'needles', 'foreign', 'objects', 'embedded', 'encased', 'flesh', 'somehow', 'eliminated', 'tissues', 'aeons', 'worryworts', 'forums', 'scenario', 'swan', '0869087143', 'expired', '042010', 'hydrogen', 'safely', 'dispose', 'purpura', 'gude', 'brown', 'hazel', 'fair', 'markings', 'pigmentation', 'fairest', 'basically', 'birthmark', 'instance', 'climbing', 'nystagmus', 'issuse', 'upsetting', 'slowing', 'filling', 'ptsd', 'claw', 'distal', 'tubular', 'acidosis', 'ae', 'infomation', 'reccommend', 'anterior', 'cruciate', 'domestic', 'clancy', 'traumatologo', 'commented', 'prosthesis', 'fertilization', 'homeostasis', 'hypothermia', 'economy', 'environmentally', 'sickle', 'aa', 'tv', '5mg', 'ahalf', 'wean', 'htlv1', 'mi', 'hermana', 'es', 'colombia', 'ella', 'tiene', 'este', 'pero', 'saben', 'como', 'tratar', 'ya', 'que', 'muy', 'raro', 'esta', 'buscando', 'un', 'lugar', 'donde', 'puedan', 'ayudar', 'con', 'su', 'problema', 'salud', 'dispuesta', 'someterse', 'pruebas', 'las', 'células', 'madre', 'adultas', 'scleroderma', '18th', 'conduction', 'pss', 'solumedrol', 'gap', 'progressed', 'dexa', 'depin', 'hcqs', 'antoxid', 'cyra', 'folitraxweekly', 'saturdays', 'sundays', 'digital', 'fingure', 'revert', 'ild', 'style', 'bundle', 'airport', 'released', '11days', 'ito', 'thisplease', '31314', 'sam', 'e', 'metoprolol', 'panic', 'prickly', 'friday', 'nine', 'reversal', 'endo', 't1d', 'jdrf', 'africa', '2008', 'eagerly', 'soonest', 'anticipated', 'corporation', 'lewy', 'dreadful', 'arthritic', 'flexable', 'mailtocontact', 'aquestion', 'chikenpox', 'september', 'skipped', 'thenso', 'gey', 'homozygout', 'mthfr', 'a1298c', 'prognosis', 'retarded', 'weighed', '144', 'polyhydramnios', 'antenatal', 'abnormalities', 'dysmorphysm', 'namely', 'phlitrum', 'hyperteloris', 'spaced', 'clinodactyly', 'stubby', 'karyotype', '46xydup16q13q23', 'appraise', 'anhedonia', 'reeks', 'affiliated', 'organizations', 'tapering', 'turkey', 'slowlydecreasing', 'guidance', 'gastroparesis', 'fighter', 'gj', 'admins', 'gp', 'advocacy', 'volunteer', 'advocater', 'tpn', 'maple', 'syrup', 'chromosomal', 'msud', 'technical', 'language', 'anorexia', 'eighth', 'yearlong', 'nervosa', 'individual', 'medicineplus', '1where', '2when', '3why', 'prevalent', '4what', '5what', 'anorexia6', 'yearin', '7how', 'mentally', 'anorexia8', 'unhealthy', '9can', '10how', 'victims', '11what', '12are', 'anorexic', '13why', '14who', 'spoken', 'nationallyworldwide', '15what', 'oneor', 'anad', 'tries', 'anorexiathankyou', 'effort', 'laymen', '37', 'clinically', 'fullcare', 'infancy', 'fossa', 'sirmy', 'majorly', 'anemiawhite', 'comming', 'abscent', '1620daysthen', 'nationality', '1998', 'saluting', '19981999', 'reactive', 'russian', 'belive', 'nf2', 'sirmam', 'consulting', 'scope', 'spreading', 'developments', 'correction', 'involving', 'retrained', 'lobe', 'creases', 'pending', 'pierced', 'wore', 'earrings', 'beef', 'hamburger', 'lean', 'arteriosclerosis', 'couples', 'percussion', 'assignment', 'bonafide', 'frame', 'lock', 'dental', 'faty', 'leaverhigh', 'presure', 'mam', 'presur', '140100', 'sheehans', 'fell', 'misdiagnosis', 'granddaughter', 'hypomaturation', 'iia2', 'coustin', 'pfa', 'lymphedema', 'helloi', 'filariasis', 'agoits', 'thisfinally', 'comit', 'prefer', 'sucide', 'goodbye', 'lifeso', 'availableplease', 'atleast', 'tay', 'sachs', 'clubfoot', 'tsdclubfoot', 'tsd', 'quotagencyquot', 'womencouple', 'menses', 'interms', 'youve', 'mechanism', 'belong', 'bmsers', 'were', 'hijust', '1how', 'ringging', 'tq', '40years', 'desired', 'miserably', 'divine', 'earth', 'truly', 'acquire', 'pray', 'creator', 'gracefully', 'grants', 'favour', 'enjoy', 'beauty', 'creation', 'depart', 'heaven', 'cheers', 'anosmia', 'sufferer', 'girl58', 'sugery', 'purpose', 'recruiting', 'numbers', 'laparoscopic', 'splenectomy', 'itp', 'advises', 'platletts', 'decreased', 'mebthera', 'plattlets', 'abetalipoproteimemia', 'abetalipoproteinemia', 'indicate', 'manage', 'funnel', 'floraqrisaquad', 'instructed', 'floraq', 'amazon', 'advertises', 'risaquad', 'comparable', 'ad', 'drugstores', 'flora', 'q', 'arrest', 'adolescence', 'freshman', 'newsletters', 'brochures', 'pamphelts', 'detection', 'purely', 'gladly', 'eliminate', 'gilberts', '5days', 'feverin', 'bloodurineultrasound', 'scanin', 'leverkidneyetc', 'bilirubin', 'admission', 'respectevely', 'hepatitis', 'abc', 'negativetoday', '08', 'diseise', 'subjectplease', 'exprienceing', 'phobia', 'taxidermy', 'presence', 'deeply', 'spina', 'bifida', 'vertbral', 'fusionsyrinx', 'hellocan', 'variation', 'bcmo1', 'rs', '4889294', 'r267s', '12934922', 'conversation', 'gratefullyname', 'vaccines', 'insipidus', 'apraxia', 'dyspraxia', 'suggests', 'motor', 'leasions', 'whereas', 'impairment', 'confusing', 'ochoa', 'supernuclear', 'r', 'psp', 'cease', 'pep', 'pupil', 'dilation', 'fundus', 'spiriva', 'reasech', 'falaria', 'sle', 'feritin', 'stills', 'differ', 'varicella', 'zostavax', 'achondroplasia', 'students', 'chose', 'manturation', 'mensuration', 'uniform', '1month', 'topics', 'inversion', 'chromasome7', 'chromasome', 'hairy', 'dissease', 'discover', 'allegations', 'forehead', 'ty', 'odd', 'facilities', '8yearold', 'oppositional', 'defiant', 'institutionalize', 'heartbroken', 'places', 'counsel', 'drinks', 'eats', 'donno', 'replied', 'fasiciitis', 'aggravated', 'consistancy', 'aggravation', '52214', 'rise', 'noon', '52314', '427', 'magazines', 'busy', 'zinc', 'citrate', 'keloids', 'anwser', 'please1', 'cancer2', 'leukemia3', 'body4', 'inherited5', 'leukemia6', 'live7', 'leukemia8', 'take9', 'leukemia10', '20062007', 'vamc', 'load', 'undetectable', 'bot', 'stayed', 'painfully', 'a4', 'eot', 'indictable', 'relapsed', 'retreated', 'tattoo', 'armed', 'forces', 'overseas', 'hundreds', 'hungerloss', 'anxietic', 'ginkgo', 'pycnogenol', 'russel', 'silver', 'eyed', 'fliers', 'transgender', 'factos', 'recurrance', 'esrd', 'grafted', 'oleander', 'oleandor', 'ingested', 'touching', 'plant', 'stems', 'exspect', 'klippeltranaunay', 'syndromethere', 'stenosos', 'questins', 'assessing', 'opiate', 'myostatinrelated', 'hypertrophy', 'menstrual', 'medacationthes', 'medsmontelukastloratadineoxcarbapine', 'lgmd', 'cervical', 'specialities', 'stxbp1', 'failer', 'kartageners', 'pierre', 'robins', 'saythis', 'chromezone', 'jene', 'fhm', 'migrain', 'acidity', 'warm', 'salt', 'junior', '1whatwho', 'blame', '2do', 'tax', 'junk', '3how', '5should', '6what', 'diets', 'fats', 'carbs', 'sugarsetc', 'open', 'releev', 'maculare', 'tetinal', 'retinal', 'peristaltic', 'vname', 'located', 'digests', 'eaten', 'hyderbad', 'medicins', '20mg', 'immediate', 'sinfe', 'omege', 'lovaza', 'cvs', 'omega', 'alternate', 'defeincy', 'defiency', 'aboriginal', 'tsi', 'heritage', 'fibroadenomas', 'philippines', 'foreskin', 'peruvian', 'tensionlooking', 'hearth', 'tetralogy', 'fallot', 'income', 'rented', 'peru', 'resolves', 'library', 'photographs', 'glacoma', 'rizatriptan', 'narrows', 'angle', 'lenseglacoma', 'levothyroxene', '5omcg', '5mthshow', 'rite', 'overdosing', 'theoretical', 'translator', 'adrenoleukodystrophy', 'conditioni', 'pertaining', 'imbalance', 'satisfatory', 'consequences', 'banked', 'babys', 'umbilical', 'youll', 'spg11', 'green', 'juiceolive', 'feed', 'ciclopirox', 'polish', 'aarskog', 'connected', 'server', 'astigmatism', 'peek', 'rugby', 'connecting', 'facebook', 'diverticulosisgastritis', 'esophagitis', 'booked', 'honestly', 'killers', 'anklet', 'instruction', 'wave', 'diathermy', 'ankylosing', 'spondylitis', 'guid', 'pleease', 'llist', 'iperiomed', 'floride', 'concetrate', 'rinse', 'asthsma', 'indepth', 'pseudocholinesterace', 'contractions', 'knots', 'assume', 'neuro', 'transmissions', 'relaxants', 'deeper', 'drumhole', '0r', 'listening', 'noise', 'earso', 'yearplz', 'glycogen', 'numbnesstingling', 'emg', 'prolly', 'machine']\n",
            "7125\n"
          ]
        }
      ],
      "source": [
        "train_set = dataset['train'].to_pandas()\n",
        "print(train_set)\n",
        "import nltk\n",
        "nltk.download('punkt')\n",
        "from nltk.corpus import stopwords\n",
        "from nltk.tokenize import word_tokenize\n",
        "\n",
        "nltk.download('stopwords')\n",
        "\n",
        "stop_words = set(stopwords.words('english'))\n",
        "print(stop_words)\n",
        "#print(tuydhtd)\n",
        "all_words = []\n",
        "for index, row in train_set.iterrows():\n",
        "  idx = row['idx']\n",
        "  inputs = row['inputs']\n",
        "  target = row['target']\n",
        "\n",
        "  punc = '''!()-[]{};:'\"\\,<>./?@#$%^&*_~'''\n",
        "\n",
        "  # Removing punctuations in string\n",
        "  # Using loop + punctuation string\n",
        "  for ele in inputs:\n",
        "      if ele in punc:\n",
        "          inputs = inputs.replace(ele, \"\")\n",
        "\n",
        "  word_tokens = word_tokenize(inputs)\n",
        "  # converts the words in word_tokens to lower case and then checks whether\n",
        "  #they are present in stop_words or not\n",
        "  filtered_sentence = [w for w in word_tokens if not w.lower() in stop_words]\n",
        "  #with no lower case conversion\n",
        "  filtered_sentence = []\n",
        "\n",
        "  for w in word_tokens:\n",
        "      if w not in stop_words:\n",
        "          filtered_sentence.append(w)\n",
        "\n",
        "  #print(word_tokens)\n",
        "  #print(filtered_sentence)\n",
        "  for eachword in filtered_sentence:\n",
        "    if eachword.lower() not in all_words:\n",
        "      all_words.append(eachword.lower())\n",
        "  #break\n",
        "\n",
        "print(all_words)\n",
        "print(len(all_words))"
      ]
    },
    {
      "cell_type": "code",
      "execution_count": 14,
      "metadata": {
        "colab": {
          "base_uri": "https://localhost:8080/"
        },
        "id": "OtFRabuZwueW",
        "outputId": "c007f2bf-af4c-4f4e-a342-b3e60b42b706"
      },
      "outputs": [
        {
          "output_type": "stream",
          "name": "stderr",
          "text": [
            "[nltk_data] Downloading package averaged_perceptron_tagger to\n",
            "[nltk_data]     /root/nltk_data...\n",
            "[nltk_data]   Unzipping taggers/averaged_perceptron_tagger.zip.\n"
          ]
        },
        {
          "output_type": "stream",
          "name": "stdout",
          "text": [
            "3395\n"
          ]
        }
      ],
      "source": [
        "nltk.download('averaged_perceptron_tagger')\n",
        "tagged = nltk.pos_tag(all_words)\n",
        "acceptable=['NN','NNP','NNS']\n",
        "for eachtag in tagged:\n",
        "  wordfocus = eachtag[0]\n",
        "  pos = eachtag[1]\n",
        "  if pos not in acceptable:\n",
        "    all_words.remove(wordfocus)\n",
        "print(len(all_words))"
      ]
    },
    {
      "cell_type": "code",
      "source": [
        "n = 3395\n",
        "co_mat = np.zeros((n,n))\n",
        "co_mat"
      ],
      "metadata": {
        "colab": {
          "base_uri": "https://localhost:8080/"
        },
        "id": "zbiTmip24-N2",
        "outputId": "1ac47a6f-7487-4fc9-8ea3-de77f1555a97"
      },
      "execution_count": 15,
      "outputs": [
        {
          "output_type": "execute_result",
          "data": {
            "text/plain": [
              "array([[0., 0., 0., ..., 0., 0., 0.],\n",
              "       [0., 0., 0., ..., 0., 0., 0.],\n",
              "       [0., 0., 0., ..., 0., 0., 0.],\n",
              "       ...,\n",
              "       [0., 0., 0., ..., 0., 0., 0.],\n",
              "       [0., 0., 0., ..., 0., 0., 0.],\n",
              "       [0., 0., 0., ..., 0., 0., 0.]])"
            ]
          },
          "metadata": {},
          "execution_count": 15
        }
      ]
    },
    {
      "cell_type": "code",
      "execution_count": 16,
      "metadata": {
        "colab": {
          "base_uri": "https://localhost:8080/"
        },
        "id": "BiDn9dt0yP4P",
        "outputId": "4413e7c0-615e-486d-8cd1-0e8ff10249f9"
      },
      "outputs": [
        {
          "output_type": "stream",
          "name": "stderr",
          "text": [
            "1000it [00:30, 33.30it/s]"
          ]
        },
        {
          "output_type": "stream",
          "name": "stdout",
          "text": [
            "[[  15.    0.    2. ...    0.    0.    0.]\n",
            " [   3. 1234.  278. ...    0.    0.    0.]\n",
            " [   3.   42.  691. ...    0.    0.    0.]\n",
            " ...\n",
            " [   0.    0.    0. ...    0.    0.    0.]\n",
            " [   0.    0.    0. ...    0.    0.    0.]\n",
            " [   0.    0.    0. ...    0.    0.    0.]]\n"
          ]
        },
        {
          "output_type": "stream",
          "name": "stderr",
          "text": [
            "\n"
          ]
        }
      ],
      "source": [
        "window_len = 3\n",
        "uniq_wrds = all_words\n",
        "def update_co_mat(x):\n",
        "    # Get all the words in the sentence and store it in an array wrd_lst\n",
        "    wrd_list = x.split(' ')\n",
        "\n",
        "    # Consider each word as a focus word\n",
        "    for focus_wrd_indx, focus_wrd in enumerate(wrd_list):\n",
        "        focus_wrd = focus_wrd.lower()\n",
        "        # Get the indices of all the context words for the given focus word\n",
        "        for contxt_wrd_indx in range((max(0,focus_wrd_indx - window_len)),(min(len(wrd_list),focus_wrd_indx + window_len +1))):\n",
        "            # If context words are in the unique words list\n",
        "            if wrd_list[contxt_wrd_indx] in uniq_wrds:\n",
        "                try:\n",
        "                  # To identify the row number, get the index of the focus_wrd in the uniq_wrds list\n",
        "                  co_mat_row_indx = uniq_wrds.index(focus_wrd)\n",
        "                except:\n",
        "                  pass\n",
        "\n",
        "                try:\n",
        "                  # To identify the column number, get the index of the context words in the uniq_wrds list\n",
        "                  co_mat_col_indx = uniq_wrds.index(wrd_list[contxt_wrd_indx])\n",
        "                except:\n",
        "                  pass\n",
        "\n",
        "                # Update the respective columns of the corresponding focus word row\n",
        "                try:\n",
        "                  co_mat[co_mat_row_indx][co_mat_col_indx] += 1\n",
        "                except:\n",
        "                  pass\n",
        "    return co_mat\n",
        "from tqdm import tqdm\n",
        "for index,row in tqdm(train_set.iterrows()):\n",
        "  idx = row['idx']\n",
        "  inputs = row['inputs']\n",
        "  target = row['target']\n",
        "  co_mat = update_co_mat(inputs)\n",
        "print(co_mat)"
      ]
    },
    {
      "cell_type": "code",
      "source": [
        "maxval = np.amax(co_mat)\n",
        "minval = np.amin(co_mat)\n",
        "print(maxval)\n",
        "print(minval)\n",
        "print(np.mean(co_mat))"
      ],
      "metadata": {
        "colab": {
          "base_uri": "https://localhost:8080/"
        },
        "id": "GeuEYJ1Y5OSw",
        "outputId": "79b749c1-4a6d-4fd6-d790-a55b4bdb8a63"
      },
      "execution_count": 17,
      "outputs": [
        {
          "output_type": "stream",
          "name": "stdout",
          "text": [
            "1234.0\n",
            "0.0\n",
            "0.005561501037868649\n"
          ]
        }
      ]
    },
    {
      "cell_type": "code",
      "execution_count": 18,
      "metadata": {
        "colab": {
          "base_uri": "https://localhost:8080/"
        },
        "id": "JPBKDQbllBe8",
        "outputId": "e56f7a65-15a5-4cc5-b177-dda394fc6201"
      },
      "outputs": [
        {
          "output_type": "stream",
          "name": "stderr",
          "text": [
            "1000it [00:23, 43.20it/s]"
          ]
        },
        {
          "output_type": "stream",
          "name": "stdout",
          "text": [
            "     idx                                             inputs  \\\n",
            "0      0  SUBJECT: who and where to get cetirizine - D M...   \n",
            "1      1  who makes bromocriptine i am wondering what co...   \n",
            "2      2  SUBJECT: nulytely MESSAGE: Hello can you tell ...   \n",
            "3      3  Williams' syndrome I would like to have my dau...   \n",
            "4      4  ClinicalTrials.gov - Question - general inform...   \n",
            "..   ...                                                ...   \n",
            "995  995  SUBJECT: after surgery of ear drum still same ...   \n",
            "996  996  SUBJECT: ClinicalTrials.gov - Question - speci...   \n",
            "997  997  MESSAGE: I have numbness/tingling in my lower ...   \n",
            "998  998  SUBJECT: sleep apnea MESSAGE: I was diagnosed ...   \n",
            "999  999  SUBJECT: Home resources for AMD people MESSAGE...   \n",
            "\n",
            "                                                target  \n",
            "0                         Who manufactures cetirizine?  \n",
            "1                      Who manufactures bromocriptine?  \n",
            "2          Who makes nulytely, and where can I buy it?  \n",
            "3    Where can I get genetic testing for william's ...  \n",
            "4    Where can I get genetic testing for multiple m...  \n",
            "..                                                 ...  \n",
            "995    What are the treatments for perforated eardrum?  \n",
            "996  What are the treatments for Glycogen storage d...  \n",
            "997  Where can I find information and treatment for...  \n",
            "998  How long does swelling from sleep apnea take t...  \n",
            "999  What resources are available for elderly with ...  \n",
            "\n",
            "[1000 rows x 3 columns]\n"
          ]
        },
        {
          "output_type": "stream",
          "name": "stderr",
          "text": [
            "\n"
          ]
        }
      ],
      "source": [
        "threshold = 10\n",
        "for index, row in tqdm(train_set.iterrows()):\n",
        "  added_str = \"\"\n",
        "  inputs = row['inputs']\n",
        "  target = row['target']\n",
        "  idx = row['idx']\n",
        "  words = inputs.split()\n",
        "  for eachword in words:\n",
        "    if eachword in all_words:\n",
        "      index_word = all_words.index(eachword)\n",
        "      for j in range(index_word,n):\n",
        "        if j!=index_word:\n",
        "          cell_val = co_mat[index_word][j]\n",
        "          if cell_val > threshold:\n",
        "            if all_words[j] in words:\n",
        "              #print(\"came here\")\n",
        "              added_str += \" <\" + eachword + \"-\" + all_words[j] + \">\"\n",
        "  inputs += added_str\n",
        "  #print(inputs)\n",
        "  #break\n",
        "  #row['inputs'] = inputs\n",
        "  train_set.at[index, 'inputs'] = inputs\n",
        "print(train_set)\n"
      ]
    },
    {
      "cell_type": "code",
      "execution_count": null,
      "metadata": {
        "id": "syjpEqB8m7Yo"
      },
      "outputs": [],
      "source": [
        "train_set.to_csv('random_csv.csv')"
      ]
    }
  ],
  "metadata": {
    "colab": {
      "provenance": []
    },
    "kernelspec": {
      "display_name": "Python 3",
      "name": "python3"
    },
    "language_info": {
      "name": "python"
    },
    "widgets": {
      "application/vnd.jupyter.widget-state+json": {
        "80208bb22b2f4f68a08ee268ed1f11d4": {
          "model_module": "@jupyter-widgets/controls",
          "model_name": "HBoxModel",
          "model_module_version": "1.5.0",
          "state": {
            "_dom_classes": [],
            "_model_module": "@jupyter-widgets/controls",
            "_model_module_version": "1.5.0",
            "_model_name": "HBoxModel",
            "_view_count": null,
            "_view_module": "@jupyter-widgets/controls",
            "_view_module_version": "1.5.0",
            "_view_name": "HBoxView",
            "box_style": "",
            "children": [
              "IPY_MODEL_8abe4ccba7694582ac10e6c35e2f8e79",
              "IPY_MODEL_8522aabc8f614b85876fe1513da2864a",
              "IPY_MODEL_8444a13459ce4d8d8332c87bc80dea5f"
            ],
            "layout": "IPY_MODEL_04aea9e660c2404da62ec4ceb535024a"
          }
        },
        "8abe4ccba7694582ac10e6c35e2f8e79": {
          "model_module": "@jupyter-widgets/controls",
          "model_name": "HTMLModel",
          "model_module_version": "1.5.0",
          "state": {
            "_dom_classes": [],
            "_model_module": "@jupyter-widgets/controls",
            "_model_module_version": "1.5.0",
            "_model_name": "HTMLModel",
            "_view_count": null,
            "_view_module": "@jupyter-widgets/controls",
            "_view_module_version": "1.5.0",
            "_view_name": "HTMLView",
            "description": "",
            "description_tooltip": null,
            "layout": "IPY_MODEL_7f1118c689e24a5ea9a2408682b17e7b",
            "placeholder": "​",
            "style": "IPY_MODEL_aa2902cef5d64bf6821f4a58b121d4e8",
            "value": "Generating train split: "
          }
        },
        "8522aabc8f614b85876fe1513da2864a": {
          "model_module": "@jupyter-widgets/controls",
          "model_name": "FloatProgressModel",
          "model_module_version": "1.5.0",
          "state": {
            "_dom_classes": [],
            "_model_module": "@jupyter-widgets/controls",
            "_model_module_version": "1.5.0",
            "_model_name": "FloatProgressModel",
            "_view_count": null,
            "_view_module": "@jupyter-widgets/controls",
            "_view_module_version": "1.5.0",
            "_view_name": "ProgressView",
            "bar_style": "success",
            "description": "",
            "description_tooltip": null,
            "layout": "IPY_MODEL_9fe7842d6b01435380e242eeda767d46",
            "max": 1,
            "min": 0,
            "orientation": "horizontal",
            "style": "IPY_MODEL_2c58dd13bb454a80973a77971d80ada1",
            "value": 1
          }
        },
        "8444a13459ce4d8d8332c87bc80dea5f": {
          "model_module": "@jupyter-widgets/controls",
          "model_name": "HTMLModel",
          "model_module_version": "1.5.0",
          "state": {
            "_dom_classes": [],
            "_model_module": "@jupyter-widgets/controls",
            "_model_module_version": "1.5.0",
            "_model_name": "HTMLModel",
            "_view_count": null,
            "_view_module": "@jupyter-widgets/controls",
            "_view_module_version": "1.5.0",
            "_view_name": "HTMLView",
            "description": "",
            "description_tooltip": null,
            "layout": "IPY_MODEL_e625d761e25547a1a0ee2e5264f6fb6d",
            "placeholder": "​",
            "style": "IPY_MODEL_a893b690aee94038a9fb8a80dcac42a1",
            "value": " 1000/0 [00:00&lt;00:00, 15137.63 examples/s]"
          }
        },
        "04aea9e660c2404da62ec4ceb535024a": {
          "model_module": "@jupyter-widgets/base",
          "model_name": "LayoutModel",
          "model_module_version": "1.2.0",
          "state": {
            "_model_module": "@jupyter-widgets/base",
            "_model_module_version": "1.2.0",
            "_model_name": "LayoutModel",
            "_view_count": null,
            "_view_module": "@jupyter-widgets/base",
            "_view_module_version": "1.2.0",
            "_view_name": "LayoutView",
            "align_content": null,
            "align_items": null,
            "align_self": null,
            "border": null,
            "bottom": null,
            "display": null,
            "flex": null,
            "flex_flow": null,
            "grid_area": null,
            "grid_auto_columns": null,
            "grid_auto_flow": null,
            "grid_auto_rows": null,
            "grid_column": null,
            "grid_gap": null,
            "grid_row": null,
            "grid_template_areas": null,
            "grid_template_columns": null,
            "grid_template_rows": null,
            "height": null,
            "justify_content": null,
            "justify_items": null,
            "left": null,
            "margin": null,
            "max_height": null,
            "max_width": null,
            "min_height": null,
            "min_width": null,
            "object_fit": null,
            "object_position": null,
            "order": null,
            "overflow": null,
            "overflow_x": null,
            "overflow_y": null,
            "padding": null,
            "right": null,
            "top": null,
            "visibility": null,
            "width": null
          }
        },
        "7f1118c689e24a5ea9a2408682b17e7b": {
          "model_module": "@jupyter-widgets/base",
          "model_name": "LayoutModel",
          "model_module_version": "1.2.0",
          "state": {
            "_model_module": "@jupyter-widgets/base",
            "_model_module_version": "1.2.0",
            "_model_name": "LayoutModel",
            "_view_count": null,
            "_view_module": "@jupyter-widgets/base",
            "_view_module_version": "1.2.0",
            "_view_name": "LayoutView",
            "align_content": null,
            "align_items": null,
            "align_self": null,
            "border": null,
            "bottom": null,
            "display": null,
            "flex": null,
            "flex_flow": null,
            "grid_area": null,
            "grid_auto_columns": null,
            "grid_auto_flow": null,
            "grid_auto_rows": null,
            "grid_column": null,
            "grid_gap": null,
            "grid_row": null,
            "grid_template_areas": null,
            "grid_template_columns": null,
            "grid_template_rows": null,
            "height": null,
            "justify_content": null,
            "justify_items": null,
            "left": null,
            "margin": null,
            "max_height": null,
            "max_width": null,
            "min_height": null,
            "min_width": null,
            "object_fit": null,
            "object_position": null,
            "order": null,
            "overflow": null,
            "overflow_x": null,
            "overflow_y": null,
            "padding": null,
            "right": null,
            "top": null,
            "visibility": null,
            "width": null
          }
        },
        "aa2902cef5d64bf6821f4a58b121d4e8": {
          "model_module": "@jupyter-widgets/controls",
          "model_name": "DescriptionStyleModel",
          "model_module_version": "1.5.0",
          "state": {
            "_model_module": "@jupyter-widgets/controls",
            "_model_module_version": "1.5.0",
            "_model_name": "DescriptionStyleModel",
            "_view_count": null,
            "_view_module": "@jupyter-widgets/base",
            "_view_module_version": "1.2.0",
            "_view_name": "StyleView",
            "description_width": ""
          }
        },
        "9fe7842d6b01435380e242eeda767d46": {
          "model_module": "@jupyter-widgets/base",
          "model_name": "LayoutModel",
          "model_module_version": "1.2.0",
          "state": {
            "_model_module": "@jupyter-widgets/base",
            "_model_module_version": "1.2.0",
            "_model_name": "LayoutModel",
            "_view_count": null,
            "_view_module": "@jupyter-widgets/base",
            "_view_module_version": "1.2.0",
            "_view_name": "LayoutView",
            "align_content": null,
            "align_items": null,
            "align_self": null,
            "border": null,
            "bottom": null,
            "display": null,
            "flex": null,
            "flex_flow": null,
            "grid_area": null,
            "grid_auto_columns": null,
            "grid_auto_flow": null,
            "grid_auto_rows": null,
            "grid_column": null,
            "grid_gap": null,
            "grid_row": null,
            "grid_template_areas": null,
            "grid_template_columns": null,
            "grid_template_rows": null,
            "height": null,
            "justify_content": null,
            "justify_items": null,
            "left": null,
            "margin": null,
            "max_height": null,
            "max_width": null,
            "min_height": null,
            "min_width": null,
            "object_fit": null,
            "object_position": null,
            "order": null,
            "overflow": null,
            "overflow_x": null,
            "overflow_y": null,
            "padding": null,
            "right": null,
            "top": null,
            "visibility": null,
            "width": "20px"
          }
        },
        "2c58dd13bb454a80973a77971d80ada1": {
          "model_module": "@jupyter-widgets/controls",
          "model_name": "ProgressStyleModel",
          "model_module_version": "1.5.0",
          "state": {
            "_model_module": "@jupyter-widgets/controls",
            "_model_module_version": "1.5.0",
            "_model_name": "ProgressStyleModel",
            "_view_count": null,
            "_view_module": "@jupyter-widgets/base",
            "_view_module_version": "1.2.0",
            "_view_name": "StyleView",
            "bar_color": null,
            "description_width": ""
          }
        },
        "e625d761e25547a1a0ee2e5264f6fb6d": {
          "model_module": "@jupyter-widgets/base",
          "model_name": "LayoutModel",
          "model_module_version": "1.2.0",
          "state": {
            "_model_module": "@jupyter-widgets/base",
            "_model_module_version": "1.2.0",
            "_model_name": "LayoutModel",
            "_view_count": null,
            "_view_module": "@jupyter-widgets/base",
            "_view_module_version": "1.2.0",
            "_view_name": "LayoutView",
            "align_content": null,
            "align_items": null,
            "align_self": null,
            "border": null,
            "bottom": null,
            "display": null,
            "flex": null,
            "flex_flow": null,
            "grid_area": null,
            "grid_auto_columns": null,
            "grid_auto_flow": null,
            "grid_auto_rows": null,
            "grid_column": null,
            "grid_gap": null,
            "grid_row": null,
            "grid_template_areas": null,
            "grid_template_columns": null,
            "grid_template_rows": null,
            "height": null,
            "justify_content": null,
            "justify_items": null,
            "left": null,
            "margin": null,
            "max_height": null,
            "max_width": null,
            "min_height": null,
            "min_width": null,
            "object_fit": null,
            "object_position": null,
            "order": null,
            "overflow": null,
            "overflow_x": null,
            "overflow_y": null,
            "padding": null,
            "right": null,
            "top": null,
            "visibility": null,
            "width": null
          }
        },
        "a893b690aee94038a9fb8a80dcac42a1": {
          "model_module": "@jupyter-widgets/controls",
          "model_name": "DescriptionStyleModel",
          "model_module_version": "1.5.0",
          "state": {
            "_model_module": "@jupyter-widgets/controls",
            "_model_module_version": "1.5.0",
            "_model_name": "DescriptionStyleModel",
            "_view_count": null,
            "_view_module": "@jupyter-widgets/base",
            "_view_module_version": "1.2.0",
            "_view_name": "StyleView",
            "description_width": ""
          }
        },
        "09b25be3e4c14a848cfc52c5a488bfcc": {
          "model_module": "@jupyter-widgets/base",
          "model_name": "LayoutModel",
          "model_module_version": "1.2.0",
          "state": {
            "_model_module": "@jupyter-widgets/base",
            "_model_module_version": "1.2.0",
            "_model_name": "LayoutModel",
            "_view_count": null,
            "_view_module": "@jupyter-widgets/base",
            "_view_module_version": "1.2.0",
            "_view_name": "LayoutView",
            "align_content": null,
            "align_items": null,
            "align_self": null,
            "border": null,
            "bottom": null,
            "display": null,
            "flex": null,
            "flex_flow": null,
            "grid_area": null,
            "grid_auto_columns": null,
            "grid_auto_flow": null,
            "grid_auto_rows": null,
            "grid_column": null,
            "grid_gap": null,
            "grid_row": null,
            "grid_template_areas": null,
            "grid_template_columns": null,
            "grid_template_rows": null,
            "height": null,
            "justify_content": null,
            "justify_items": null,
            "left": null,
            "margin": null,
            "max_height": null,
            "max_width": null,
            "min_height": null,
            "min_width": null,
            "object_fit": null,
            "object_position": null,
            "order": null,
            "overflow": null,
            "overflow_x": null,
            "overflow_y": null,
            "padding": null,
            "right": null,
            "top": null,
            "visibility": null,
            "width": "20px"
          }
        },
        "e99e346946ec450b961cadf18285b70b": {
          "model_module": "@jupyter-widgets/controls",
          "model_name": "ProgressStyleModel",
          "model_module_version": "1.5.0",
          "state": {
            "_model_module": "@jupyter-widgets/controls",
            "_model_module_version": "1.5.0",
            "_model_name": "ProgressStyleModel",
            "_view_count": null,
            "_view_module": "@jupyter-widgets/base",
            "_view_module_version": "1.2.0",
            "_view_name": "StyleView",
            "bar_color": null,
            "description_width": ""
          }
        },
        "62c8271865e64c1999a62f5201f67534": {
          "model_module": "@jupyter-widgets/base",
          "model_name": "LayoutModel",
          "model_module_version": "1.2.0",
          "state": {
            "_model_module": "@jupyter-widgets/base",
            "_model_module_version": "1.2.0",
            "_model_name": "LayoutModel",
            "_view_count": null,
            "_view_module": "@jupyter-widgets/base",
            "_view_module_version": "1.2.0",
            "_view_name": "LayoutView",
            "align_content": null,
            "align_items": null,
            "align_self": null,
            "border": null,
            "bottom": null,
            "display": null,
            "flex": null,
            "flex_flow": null,
            "grid_area": null,
            "grid_auto_columns": null,
            "grid_auto_flow": null,
            "grid_auto_rows": null,
            "grid_column": null,
            "grid_gap": null,
            "grid_row": null,
            "grid_template_areas": null,
            "grid_template_columns": null,
            "grid_template_rows": null,
            "height": null,
            "justify_content": null,
            "justify_items": null,
            "left": null,
            "margin": null,
            "max_height": null,
            "max_width": null,
            "min_height": null,
            "min_width": null,
            "object_fit": null,
            "object_position": null,
            "order": null,
            "overflow": null,
            "overflow_x": null,
            "overflow_y": null,
            "padding": null,
            "right": null,
            "top": null,
            "visibility": null,
            "width": null
          }
        },
        "da9e797022c44862a21a874101ecfd62": {
          "model_module": "@jupyter-widgets/controls",
          "model_name": "DescriptionStyleModel",
          "model_module_version": "1.5.0",
          "state": {
            "_model_module": "@jupyter-widgets/controls",
            "_model_module_version": "1.5.0",
            "_model_name": "DescriptionStyleModel",
            "_view_count": null,
            "_view_module": "@jupyter-widgets/base",
            "_view_module_version": "1.2.0",
            "_view_name": "StyleView",
            "description_width": ""
          }
        },
        "7ed09835f355433fa4ae49ff09361e12": {
          "model_module": "@jupyter-widgets/base",
          "model_name": "LayoutModel",
          "model_module_version": "1.2.0",
          "state": {
            "_model_module": "@jupyter-widgets/base",
            "_model_module_version": "1.2.0",
            "_model_name": "LayoutModel",
            "_view_count": null,
            "_view_module": "@jupyter-widgets/base",
            "_view_module_version": "1.2.0",
            "_view_name": "LayoutView",
            "align_content": null,
            "align_items": null,
            "align_self": null,
            "border": null,
            "bottom": null,
            "display": null,
            "flex": null,
            "flex_flow": null,
            "grid_area": null,
            "grid_auto_columns": null,
            "grid_auto_flow": null,
            "grid_auto_rows": null,
            "grid_column": null,
            "grid_gap": null,
            "grid_row": null,
            "grid_template_areas": null,
            "grid_template_columns": null,
            "grid_template_rows": null,
            "height": null,
            "justify_content": null,
            "justify_items": null,
            "left": null,
            "margin": null,
            "max_height": null,
            "max_width": null,
            "min_height": null,
            "min_width": null,
            "object_fit": null,
            "object_position": null,
            "order": null,
            "overflow": null,
            "overflow_x": null,
            "overflow_y": null,
            "padding": null,
            "right": null,
            "top": null,
            "visibility": null,
            "width": null
          }
        },
        "b0984955c1174ed68b9a2d4b4a9d95fc": {
          "model_module": "@jupyter-widgets/controls",
          "model_name": "DescriptionStyleModel",
          "model_module_version": "1.5.0",
          "state": {
            "_model_module": "@jupyter-widgets/controls",
            "_model_module_version": "1.5.0",
            "_model_name": "DescriptionStyleModel",
            "_view_count": null,
            "_view_module": "@jupyter-widgets/base",
            "_view_module_version": "1.2.0",
            "_view_name": "StyleView",
            "description_width": ""
          }
        },
        "ce0248ebd06e414084ac3f576d872664": {
          "model_module": "@jupyter-widgets/controls",
          "model_name": "HTMLModel",
          "model_module_version": "1.5.0",
          "state": {
            "_dom_classes": [],
            "_model_module": "@jupyter-widgets/controls",
            "_model_module_version": "1.5.0",
            "_model_name": "HTMLModel",
            "_view_count": null,
            "_view_module": "@jupyter-widgets/controls",
            "_view_module_version": "1.5.0",
            "_view_name": "HTMLView",
            "description": "",
            "description_tooltip": null,
            "layout": "IPY_MODEL_62c8271865e64c1999a62f5201f67534",
            "placeholder": "​",
            "style": "IPY_MODEL_da9e797022c44862a21a874101ecfd62",
            "value": "Generating test split: "
          }
        },
        "a3106de234c64337a85fa4b3045c30b5": {
          "model_module": "@jupyter-widgets/controls",
          "model_name": "FloatProgressModel",
          "model_module_version": "1.5.0",
          "state": {
            "_dom_classes": [],
            "_model_module": "@jupyter-widgets/controls",
            "_model_module_version": "1.5.0",
            "_model_name": "FloatProgressModel",
            "_view_count": null,
            "_view_module": "@jupyter-widgets/controls",
            "_view_module_version": "1.5.0",
            "_view_name": "ProgressView",
            "bar_style": "success",
            "description": "",
            "description_tooltip": null,
            "layout": "IPY_MODEL_09b25be3e4c14a848cfc52c5a488bfcc",
            "max": 1,
            "min": 0,
            "orientation": "horizontal",
            "style": "IPY_MODEL_e99e346946ec450b961cadf18285b70b",
            "value": 1
          }
        },
        "92427c98d40c44eab9654bff76062544": {
          "model_module": "@jupyter-widgets/controls",
          "model_name": "HTMLModel",
          "model_module_version": "1.5.0",
          "state": {
            "_dom_classes": [],
            "_model_module": "@jupyter-widgets/controls",
            "_model_module_version": "1.5.0",
            "_model_name": "HTMLModel",
            "_view_count": null,
            "_view_module": "@jupyter-widgets/controls",
            "_view_module_version": "1.5.0",
            "_view_name": "HTMLView",
            "description": "",
            "description_tooltip": null,
            "layout": "IPY_MODEL_7ed09835f355433fa4ae49ff09361e12",
            "placeholder": "​",
            "style": "IPY_MODEL_b0984955c1174ed68b9a2d4b4a9d95fc",
            "value": " 150/0 [00:00&lt;00:00, 2498.64 examples/s]"
          }
        },
        "be3231c4f3d947ae93a0c4188568d424": {
          "model_module": "@jupyter-widgets/base",
          "model_name": "LayoutModel",
          "model_module_version": "1.2.0",
          "state": {
            "_model_module": "@jupyter-widgets/base",
            "_model_module_version": "1.2.0",
            "_model_name": "LayoutModel",
            "_view_count": null,
            "_view_module": "@jupyter-widgets/base",
            "_view_module_version": "1.2.0",
            "_view_name": "LayoutView",
            "align_content": null,
            "align_items": null,
            "align_self": null,
            "border": null,
            "bottom": null,
            "display": null,
            "flex": null,
            "flex_flow": null,
            "grid_area": null,
            "grid_auto_columns": null,
            "grid_auto_flow": null,
            "grid_auto_rows": null,
            "grid_column": null,
            "grid_gap": null,
            "grid_row": null,
            "grid_template_areas": null,
            "grid_template_columns": null,
            "grid_template_rows": null,
            "height": null,
            "justify_content": null,
            "justify_items": null,
            "left": null,
            "margin": null,
            "max_height": null,
            "max_width": null,
            "min_height": null,
            "min_width": null,
            "object_fit": null,
            "object_position": null,
            "order": null,
            "overflow": null,
            "overflow_x": null,
            "overflow_y": null,
            "padding": null,
            "right": null,
            "top": null,
            "visibility": null,
            "width": null
          }
        },
        "ac24212f67a5440aa8856e81bb62fc26": {
          "model_module": "@jupyter-widgets/controls",
          "model_name": "HBoxModel",
          "model_module_version": "1.5.0",
          "state": {
            "_dom_classes": [],
            "_model_module": "@jupyter-widgets/controls",
            "_model_module_version": "1.5.0",
            "_model_name": "HBoxModel",
            "_view_count": null,
            "_view_module": "@jupyter-widgets/controls",
            "_view_module_version": "1.5.0",
            "_view_name": "HBoxView",
            "box_style": "",
            "children": [
              "IPY_MODEL_ce0248ebd06e414084ac3f576d872664",
              "IPY_MODEL_a3106de234c64337a85fa4b3045c30b5",
              "IPY_MODEL_92427c98d40c44eab9654bff76062544"
            ],
            "layout": "IPY_MODEL_be3231c4f3d947ae93a0c4188568d424"
          }
        },
        "03f3f6f1fbbd413a9cb526a4638a21e0": {
          "model_module": "@jupyter-widgets/base",
          "model_name": "LayoutModel",
          "model_module_version": "1.2.0",
          "state": {
            "_model_module": "@jupyter-widgets/base",
            "_model_module_version": "1.2.0",
            "_model_name": "LayoutModel",
            "_view_count": null,
            "_view_module": "@jupyter-widgets/base",
            "_view_module_version": "1.2.0",
            "_view_name": "LayoutView",
            "align_content": null,
            "align_items": null,
            "align_self": null,
            "border": null,
            "bottom": null,
            "display": null,
            "flex": null,
            "flex_flow": null,
            "grid_area": null,
            "grid_auto_columns": null,
            "grid_auto_flow": null,
            "grid_auto_rows": null,
            "grid_column": null,
            "grid_gap": null,
            "grid_row": null,
            "grid_template_areas": null,
            "grid_template_columns": null,
            "grid_template_rows": null,
            "height": null,
            "justify_content": null,
            "justify_items": null,
            "left": null,
            "margin": null,
            "max_height": null,
            "max_width": null,
            "min_height": null,
            "min_width": null,
            "object_fit": null,
            "object_position": null,
            "order": null,
            "overflow": null,
            "overflow_x": null,
            "overflow_y": null,
            "padding": null,
            "right": null,
            "top": null,
            "visibility": null,
            "width": "20px"
          }
        },
        "6f6bd0350154459eba1de1993a264335": {
          "model_module": "@jupyter-widgets/controls",
          "model_name": "ProgressStyleModel",
          "model_module_version": "1.5.0",
          "state": {
            "_model_module": "@jupyter-widgets/controls",
            "_model_module_version": "1.5.0",
            "_model_name": "ProgressStyleModel",
            "_view_count": null,
            "_view_module": "@jupyter-widgets/base",
            "_view_module_version": "1.2.0",
            "_view_name": "StyleView",
            "bar_color": null,
            "description_width": ""
          }
        },
        "d06b9b0e49d141f180d55aeca7341d02": {
          "model_module": "@jupyter-widgets/base",
          "model_name": "LayoutModel",
          "model_module_version": "1.2.0",
          "state": {
            "_model_module": "@jupyter-widgets/base",
            "_model_module_version": "1.2.0",
            "_model_name": "LayoutModel",
            "_view_count": null,
            "_view_module": "@jupyter-widgets/base",
            "_view_module_version": "1.2.0",
            "_view_name": "LayoutView",
            "align_content": null,
            "align_items": null,
            "align_self": null,
            "border": null,
            "bottom": null,
            "display": null,
            "flex": null,
            "flex_flow": null,
            "grid_area": null,
            "grid_auto_columns": null,
            "grid_auto_flow": null,
            "grid_auto_rows": null,
            "grid_column": null,
            "grid_gap": null,
            "grid_row": null,
            "grid_template_areas": null,
            "grid_template_columns": null,
            "grid_template_rows": null,
            "height": null,
            "justify_content": null,
            "justify_items": null,
            "left": null,
            "margin": null,
            "max_height": null,
            "max_width": null,
            "min_height": null,
            "min_width": null,
            "object_fit": null,
            "object_position": null,
            "order": null,
            "overflow": null,
            "overflow_x": null,
            "overflow_y": null,
            "padding": null,
            "right": null,
            "top": null,
            "visibility": null,
            "width": null
          }
        },
        "b83d5d91dd2e43679af31c8471a37824": {
          "model_module": "@jupyter-widgets/controls",
          "model_name": "DescriptionStyleModel",
          "model_module_version": "1.5.0",
          "state": {
            "_model_module": "@jupyter-widgets/controls",
            "_model_module_version": "1.5.0",
            "_model_name": "DescriptionStyleModel",
            "_view_count": null,
            "_view_module": "@jupyter-widgets/base",
            "_view_module_version": "1.2.0",
            "_view_name": "StyleView",
            "description_width": ""
          }
        },
        "6f498fb2104842809e08b7c1320ea80a": {
          "model_module": "@jupyter-widgets/base",
          "model_name": "LayoutModel",
          "model_module_version": "1.2.0",
          "state": {
            "_model_module": "@jupyter-widgets/base",
            "_model_module_version": "1.2.0",
            "_model_name": "LayoutModel",
            "_view_count": null,
            "_view_module": "@jupyter-widgets/base",
            "_view_module_version": "1.2.0",
            "_view_name": "LayoutView",
            "align_content": null,
            "align_items": null,
            "align_self": null,
            "border": null,
            "bottom": null,
            "display": null,
            "flex": null,
            "flex_flow": null,
            "grid_area": null,
            "grid_auto_columns": null,
            "grid_auto_flow": null,
            "grid_auto_rows": null,
            "grid_column": null,
            "grid_gap": null,
            "grid_row": null,
            "grid_template_areas": null,
            "grid_template_columns": null,
            "grid_template_rows": null,
            "height": null,
            "justify_content": null,
            "justify_items": null,
            "left": null,
            "margin": null,
            "max_height": null,
            "max_width": null,
            "min_height": null,
            "min_width": null,
            "object_fit": null,
            "object_position": null,
            "order": null,
            "overflow": null,
            "overflow_x": null,
            "overflow_y": null,
            "padding": null,
            "right": null,
            "top": null,
            "visibility": null,
            "width": null
          }
        },
        "88e4a478d97d46378d6efb256d459338": {
          "model_module": "@jupyter-widgets/controls",
          "model_name": "DescriptionStyleModel",
          "model_module_version": "1.5.0",
          "state": {
            "_model_module": "@jupyter-widgets/controls",
            "_model_module_version": "1.5.0",
            "_model_name": "DescriptionStyleModel",
            "_view_count": null,
            "_view_module": "@jupyter-widgets/base",
            "_view_module_version": "1.2.0",
            "_view_name": "StyleView",
            "description_width": ""
          }
        },
        "114c3b8d8cf540279e3287f9eb83a4e5": {
          "model_module": "@jupyter-widgets/controls",
          "model_name": "HTMLModel",
          "model_module_version": "1.5.0",
          "state": {
            "_dom_classes": [],
            "_model_module": "@jupyter-widgets/controls",
            "_model_module_version": "1.5.0",
            "_model_name": "HTMLModel",
            "_view_count": null,
            "_view_module": "@jupyter-widgets/controls",
            "_view_module_version": "1.5.0",
            "_view_name": "HTMLView",
            "description": "",
            "description_tooltip": null,
            "layout": "IPY_MODEL_d06b9b0e49d141f180d55aeca7341d02",
            "placeholder": "​",
            "style": "IPY_MODEL_b83d5d91dd2e43679af31c8471a37824",
            "value": "Generating validation split: "
          }
        },
        "50d8549bd7c44def8bd1cf7ea37b9370": {
          "model_module": "@jupyter-widgets/controls",
          "model_name": "FloatProgressModel",
          "model_module_version": "1.5.0",
          "state": {
            "_dom_classes": [],
            "_model_module": "@jupyter-widgets/controls",
            "_model_module_version": "1.5.0",
            "_model_name": "FloatProgressModel",
            "_view_count": null,
            "_view_module": "@jupyter-widgets/controls",
            "_view_module_version": "1.5.0",
            "_view_name": "ProgressView",
            "bar_style": "success",
            "description": "",
            "description_tooltip": null,
            "layout": "IPY_MODEL_03f3f6f1fbbd413a9cb526a4638a21e0",
            "max": 1,
            "min": 0,
            "orientation": "horizontal",
            "style": "IPY_MODEL_6f6bd0350154459eba1de1993a264335",
            "value": 1
          }
        },
        "4cfe080ace5246b78910b056b74a5e15": {
          "model_module": "@jupyter-widgets/controls",
          "model_name": "HTMLModel",
          "model_module_version": "1.5.0",
          "state": {
            "_dom_classes": [],
            "_model_module": "@jupyter-widgets/controls",
            "_model_module_version": "1.5.0",
            "_model_name": "HTMLModel",
            "_view_count": null,
            "_view_module": "@jupyter-widgets/controls",
            "_view_module_version": "1.5.0",
            "_view_name": "HTMLView",
            "description": "",
            "description_tooltip": null,
            "layout": "IPY_MODEL_6f498fb2104842809e08b7c1320ea80a",
            "placeholder": "​",
            "style": "IPY_MODEL_88e4a478d97d46378d6efb256d459338",
            "value": " 50/0 [00:00&lt;00:00, 1500.65 examples/s]"
          }
        },
        "2fb9e0da62c74254ba5a6afcbbc258d4": {
          "model_module": "@jupyter-widgets/base",
          "model_name": "LayoutModel",
          "model_module_version": "1.2.0",
          "state": {
            "_model_module": "@jupyter-widgets/base",
            "_model_module_version": "1.2.0",
            "_model_name": "LayoutModel",
            "_view_count": null,
            "_view_module": "@jupyter-widgets/base",
            "_view_module_version": "1.2.0",
            "_view_name": "LayoutView",
            "align_content": null,
            "align_items": null,
            "align_self": null,
            "border": null,
            "bottom": null,
            "display": null,
            "flex": null,
            "flex_flow": null,
            "grid_area": null,
            "grid_auto_columns": null,
            "grid_auto_flow": null,
            "grid_auto_rows": null,
            "grid_column": null,
            "grid_gap": null,
            "grid_row": null,
            "grid_template_areas": null,
            "grid_template_columns": null,
            "grid_template_rows": null,
            "height": null,
            "justify_content": null,
            "justify_items": null,
            "left": null,
            "margin": null,
            "max_height": null,
            "max_width": null,
            "min_height": null,
            "min_width": null,
            "object_fit": null,
            "object_position": null,
            "order": null,
            "overflow": null,
            "overflow_x": null,
            "overflow_y": null,
            "padding": null,
            "right": null,
            "top": null,
            "visibility": null,
            "width": null
          }
        },
        "6da0b53bb1004bfd81e424b2e7249c6a": {
          "model_module": "@jupyter-widgets/controls",
          "model_name": "HBoxModel",
          "model_module_version": "1.5.0",
          "state": {
            "_dom_classes": [],
            "_model_module": "@jupyter-widgets/controls",
            "_model_module_version": "1.5.0",
            "_model_name": "HBoxModel",
            "_view_count": null,
            "_view_module": "@jupyter-widgets/controls",
            "_view_module_version": "1.5.0",
            "_view_name": "HBoxView",
            "box_style": "",
            "children": [
              "IPY_MODEL_114c3b8d8cf540279e3287f9eb83a4e5",
              "IPY_MODEL_50d8549bd7c44def8bd1cf7ea37b9370",
              "IPY_MODEL_4cfe080ace5246b78910b056b74a5e15"
            ],
            "layout": "IPY_MODEL_2fb9e0da62c74254ba5a6afcbbc258d4"
          }
        }
      }
    }
  },
  "nbformat": 4,
  "nbformat_minor": 0
}