{
  "cells": [
    {
      "cell_type": "code",
      "execution_count": 1,
      "metadata": {
        "id": "0sFmbSenKduv"
      },
      "outputs": [],
      "source": [
        "%pip install -q --disable-pip-version-check \\\n",
        "    evaluate==0.4.0 \\\n",
        "    py7zr==0.20.4 \\\n",
        "    sentencepiece==0.1.99 \\\n",
        "    rouge_score==0.1.2 \\\n",
        "    loralib==0.1.1 \\\n",
        "    peft==0.4.0 \\\n",
        "    trl==0.7.2 \\\n",
        "    bert_score\n",
        "%pip install -q    wandb bitsandbytes accelerate"
      ]
    },
    {
      "cell_type": "markdown",
      "source": [
        "## Set up all random seeds"
      ],
      "metadata": {
        "id": "9OF3KBmiFWaF"
      }
    },
    {
      "cell_type": "code",
      "execution_count": 2,
      "metadata": {
        "colab": {
          "base_uri": "https://localhost:8080/"
        },
        "id": "fD3KwqglKdux",
        "outputId": "59a230cc-fa5e-41ba-931f-f3dc8c81bc4c"
      },
      "outputs": [
        {
          "output_type": "stream",
          "name": "stdout",
          "text": [
            "Drive already mounted at /content/drive; to attempt to forcibly remount, call drive.mount(\"/content/drive\", force_remount=True).\n"
          ]
        }
      ],
      "source": [
        "from google.colab import drive\n",
        "drive.mount('/content/drive')"
      ]
    },
    {
      "cell_type": "code",
      "execution_count": 3,
      "metadata": {
        "colab": {
          "base_uri": "https://localhost:8080/"
        },
        "id": "O5kCTOAoKduy",
        "outputId": "169e521f-ffbf-4eaf-de55-446c5993653e"
      },
      "outputs": [
        {
          "output_type": "stream",
          "name": "stdout",
          "text": [
            "--2024-04-20 07:27:21--  https://github.com/wandb/edu/raw/main/llm-training-course/colab/utils.py\n",
            "Resolving github.com (github.com)... 140.82.113.4\n",
            "Connecting to github.com (github.com)|140.82.113.4|:443... connected.\n",
            "HTTP request sent, awaiting response... 302 Found\n",
            "Location: https://raw.githubusercontent.com/wandb/edu/main/llm-training-course/colab/utils.py [following]\n",
            "--2024-04-20 07:27:21--  https://raw.githubusercontent.com/wandb/edu/main/llm-training-course/colab/utils.py\n",
            "Resolving raw.githubusercontent.com (raw.githubusercontent.com)... 185.199.108.133, 185.199.109.133, 185.199.110.133, ...\n",
            "Connecting to raw.githubusercontent.com (raw.githubusercontent.com)|185.199.108.133|:443... connected.\n",
            "HTTP request sent, awaiting response... 200 OK\n",
            "Length: 8155 (8.0K) [text/plain]\n",
            "Saving to: ‘utils.py.6’\n",
            "\n",
            "utils.py.6          100%[===================>]   7.96K  --.-KB/s    in 0s      \n",
            "\n",
            "2024-04-20 07:27:21 (95.4 MB/s) - ‘utils.py.6’ saved [8155/8155]\n",
            "\n"
          ]
        }
      ],
      "source": [
        "!wget https://github.com/wandb/edu/raw/main/llm-training-course/colab/utils.py"
      ]
    },
    {
      "cell_type": "code",
      "execution_count": 4,
      "metadata": {
        "id": "OpUbz4rDKduy"
      },
      "outputs": [],
      "source": [
        "from google.colab import output\n",
        "output.enable_custom_widget_manager()"
      ]
    },
    {
      "cell_type": "code",
      "execution_count": 5,
      "metadata": {
        "id": "hzipPcXiKduz"
      },
      "outputs": [],
      "source": [
        "PROJECT = \"FlanT5-Lora\"\n",
        "MODEL_NAME = 'google/flan-t5-base'\n",
        "DATASET = \"MeQSum\"\n",
        "WANDB_ID = \"NER_seq2seq_2\""
      ]
    },
    {
      "cell_type": "code",
      "execution_count": 6,
      "metadata": {
        "colab": {
          "base_uri": "https://localhost:8080/",
          "height": 142
        },
        "id": "GWPjJkBrKduz",
        "outputId": "85b25050-d6bc-4857-9638-7a7b852ce518"
      },
      "outputs": [
        {
          "output_type": "stream",
          "name": "stderr",
          "text": [
            "\u001b[34m\u001b[1mwandb\u001b[0m: Currently logged in as: \u001b[33majwadakil\u001b[0m. Use \u001b[1m`wandb login --relogin`\u001b[0m to force relogin\n"
          ]
        },
        {
          "output_type": "display_data",
          "data": {
            "text/plain": [
              "<IPython.core.display.HTML object>"
            ],
            "text/html": [
              "Tracking run with wandb version 0.16.6"
            ]
          },
          "metadata": {}
        },
        {
          "output_type": "display_data",
          "data": {
            "text/plain": [
              "<IPython.core.display.HTML object>"
            ],
            "text/html": [
              "Run data is saved locally in <code>/content/wandb/run-20240420_072723-NER_seq2seq_2</code>"
            ]
          },
          "metadata": {}
        },
        {
          "output_type": "display_data",
          "data": {
            "text/plain": [
              "<IPython.core.display.HTML object>"
            ],
            "text/html": [
              "Syncing run <strong><a href='https://wandb.ai/ajwadakil/FlanT5-Lora/runs/NER_seq2seq_2' target=\"_blank\">NER_seq2seq_2</a></strong> to <a href='https://wandb.ai/ajwadakil/FlanT5-Lora' target=\"_blank\">Weights & Biases</a> (<a href='https://wandb.me/run' target=\"_blank\">docs</a>)<br/>"
            ]
          },
          "metadata": {}
        },
        {
          "output_type": "display_data",
          "data": {
            "text/plain": [
              "<IPython.core.display.HTML object>"
            ],
            "text/html": [
              " View project at <a href='https://wandb.ai/ajwadakil/FlanT5-Lora' target=\"_blank\">https://wandb.ai/ajwadakil/FlanT5-Lora</a>"
            ]
          },
          "metadata": {}
        },
        {
          "output_type": "display_data",
          "data": {
            "text/plain": [
              "<IPython.core.display.HTML object>"
            ],
            "text/html": [
              " View run at <a href='https://wandb.ai/ajwadakil/FlanT5-Lora/runs/NER_seq2seq_2' target=\"_blank\">https://wandb.ai/ajwadakil/FlanT5-Lora/runs/NER_seq2seq_2</a>"
            ]
          },
          "metadata": {}
        },
        {
          "output_type": "execute_result",
          "data": {
            "text/html": [
              "<button onClick=\"this.nextSibling.style.display='block';this.style.display='none';\">Display W&B run</button><iframe src='https://wandb.ai/ajwadakil/FlanT5-Lora/runs/NER_seq2seq_2?jupyter=true' style='border:none;width:100%;height:420px;display:none;'></iframe>"
            ],
            "text/plain": [
              "<wandb.sdk.wandb_run.Run at 0x7919441c4e80>"
            ]
          },
          "metadata": {},
          "execution_count": 6
        }
      ],
      "source": [
        "import wandb\n",
        "wandb.init(project=PROJECT, # the project I am working on\n",
        "           tags=[MODEL_NAME, DATASET],\n",
        "           notes =\"Fine tuning FlanT5 with MeQSum Dataset. Prompt Instruction\",\n",
        "           id=WANDB_ID, resume='allow') # the Hyperparameters I want to keep track of"
      ]
    },
    {
      "cell_type": "code",
      "execution_count": 7,
      "metadata": {
        "id": "kRpwRCrGKduz"
      },
      "outputs": [],
      "source": [
        "from datasets import load_dataset\n",
        "from transformers import AutoModelForSeq2SeqLM, AutoTokenizer, GenerationConfig, TrainingArguments, Trainer\n",
        "import torch\n",
        "import time\n",
        "import evaluate\n",
        "import pandas as pd\n",
        "import numpy as np\n",
        "import random\n",
        "\n",
        "# tqdm library makes the loops show a smart progress meter.\n",
        "from tqdm import tqdm\n",
        "tqdm.pandas()"
      ]
    },
    {
      "cell_type": "code",
      "execution_count": 8,
      "metadata": {
        "id": "qNdKF8qNKduz"
      },
      "outputs": [],
      "source": [
        "import locale\n",
        "locale.getpreferredencoding = lambda: \"UTF-8\""
      ]
    },
    {
      "cell_type": "code",
      "source": [
        "TRAIN_PATH = '/content/drive/MyDrive/cs577_proj_dataset/train_tagged.jsonl'\n",
        "VAL_PATH = '/content/drive/MyDrive/cs577_proj_dataset/validation_tagged.jsonl'\n",
        "TEST_PATH = '/content/drive/MyDrive/cs577_proj_dataset/test_tagged.jsonl'"
      ],
      "metadata": {
        "id": "mn6qqk0RMSAR"
      },
      "execution_count": 9,
      "outputs": []
    },
    {
      "cell_type": "code",
      "source": [
        "random_seed = 0\n",
        "np.random.seed(random_seed)\n",
        "torch.manual_seed(random_seed)\n",
        "random.seed(random_seed)\n",
        "torch.backends.cudnn.deterministic = True\n",
        "torch.backends.cudnn.benchmark = False"
      ],
      "metadata": {
        "id": "Sk_pQA4iG6HO"
      },
      "execution_count": 10,
      "outputs": []
    },
    {
      "cell_type": "code",
      "execution_count": 11,
      "metadata": {
        "colab": {
          "base_uri": "https://localhost:8080/"
        },
        "id": "fitJwWL7Kdu0",
        "outputId": "e4270dcf-c667-499d-c18b-56453fd06e25"
      },
      "outputs": [
        {
          "output_type": "stream",
          "name": "stdout",
          "text": [
            "DatasetDict({\n",
            "    train: Dataset({\n",
            "        features: ['idx', 'inputs', 'target', 'inputs_tagged'],\n",
            "        num_rows: 1000\n",
            "    })\n",
            "    test: Dataset({\n",
            "        features: ['idx', 'inputs', 'target', 'inputs_tagged'],\n",
            "        num_rows: 150\n",
            "    })\n",
            "    validation: Dataset({\n",
            "        features: ['idx', 'inputs', 'target', 'inputs_tagged'],\n",
            "        num_rows: 50\n",
            "    })\n",
            "})\n"
          ]
        }
      ],
      "source": [
        "from datasets import load_dataset\n",
        "\n",
        "# Define the paths to your files\n",
        "\n",
        "def create_hf_dataset(train_path, val_path, test_path):\n",
        "    data_files = {}\n",
        "    data_files[\"train\"] = train_path\n",
        "    data_files[\"test\"]  = test_path\n",
        "    data_files[\"validation\"] = val_path\n",
        "\n",
        "    # Load the datasets\n",
        "    dataset = load_dataset('json', data_files=data_files)\n",
        "\n",
        "    # Print the first example of the training dataset\n",
        "    print(dataset)\n",
        "\n",
        "    return dataset\n",
        "\n",
        "# check the number of examples in each dataset\n",
        "\n",
        "dataset = create_hf_dataset(\n",
        "    TRAIN_PATH,\n",
        "    VAL_PATH,\n",
        "    TEST_PATH\n",
        ")"
      ]
    },
    {
      "cell_type": "code",
      "execution_count": 12,
      "metadata": {
        "colab": {
          "base_uri": "https://localhost:8080/",
          "height": 423
        },
        "id": "LroJzCm8Kdu1",
        "outputId": "ccd2499f-da2b-490e-9187-f4bf7083eb4c"
      },
      "outputs": [
        {
          "output_type": "execute_result",
          "data": {
            "text/plain": [
              "     idx                                             inputs  \\\n",
              "0      0  SUBJECT: who and where to get cetirizine - D M...   \n",
              "1      1  who makes bromocriptine i am wondering what co...   \n",
              "2      2  SUBJECT: nulytely MESSAGE: Hello can you tell ...   \n",
              "3      3  Williams' syndrome I would like to have my dau...   \n",
              "4      4  ClinicalTrials.gov - Question - general inform...   \n",
              "..   ...                                                ...   \n",
              "995  995  SUBJECT: after surgery of ear drum still same ...   \n",
              "996  996  SUBJECT: ClinicalTrials.gov - Question - speci...   \n",
              "997  997  MESSAGE: I have numbness/tingling in my lower ...   \n",
              "998  998  SUBJECT: sleep apnea MESSAGE: I was diagnosed ...   \n",
              "999  999  SUBJECT: Home resources for AMD people MESSAGE...   \n",
              "\n",
              "                                                target  \\\n",
              "0                         Who manufactures cetirizine?   \n",
              "1                      Who manufactures bromocriptine?   \n",
              "2          Who makes nulytely, and where can I buy it?   \n",
              "3    Where can I get genetic testing for william's ...   \n",
              "4    Where can I get genetic testing for multiple m...   \n",
              "..                                                 ...   \n",
              "995    What are the treatments for perforated eardrum?   \n",
              "996  What are the treatments for Glycogen storage d...   \n",
              "997  Where can I find information and treatment for...   \n",
              "998  How long does swelling from sleep apnea take t...   \n",
              "999  What resources are available for elderly with ...   \n",
              "\n",
              "                                         inputs_tagged  \n",
              "0    SUBJECT: who and where to get cetirizine - D M...  \n",
              "1    who makes <DIAGNOSTIC_PROCEDURE> bromocriptine...  \n",
              "2    SUBJECT: nulytely MESSAGE: Hello can you tell ...  \n",
              "3    <DISEASE_DISORDER> williams' syndrome I would ...  \n",
              "4    ClinicalTrials.gov - Question - general inform...  \n",
              "..                                                 ...  \n",
              "995  SUBJECT: after <THERAPEUTIC_PROCEDURE> surgery...  \n",
              "996  SUBJECT: <DIAGNOSTIC_PROCEDURE> clinicaltrials...  \n",
              "997  MESSAGE: I have numbness/tingling in my <BIOLO...  \n",
              "998  SUBJECT: <DISEASE_DISORDER> sleep apnea MESSAG...  \n",
              "999  SUBJECT: <DETAILED_DESCRIPTION> home resources...  \n",
              "\n",
              "[1000 rows x 4 columns]"
            ],
            "text/html": [
              "\n",
              "  <div id=\"df-a8ab2ba1-8396-4320-a577-aaa444f5d517\" class=\"colab-df-container\">\n",
              "    <div>\n",
              "<style scoped>\n",
              "    .dataframe tbody tr th:only-of-type {\n",
              "        vertical-align: middle;\n",
              "    }\n",
              "\n",
              "    .dataframe tbody tr th {\n",
              "        vertical-align: top;\n",
              "    }\n",
              "\n",
              "    .dataframe thead th {\n",
              "        text-align: right;\n",
              "    }\n",
              "</style>\n",
              "<table border=\"1\" class=\"dataframe\">\n",
              "  <thead>\n",
              "    <tr style=\"text-align: right;\">\n",
              "      <th></th>\n",
              "      <th>idx</th>\n",
              "      <th>inputs</th>\n",
              "      <th>target</th>\n",
              "      <th>inputs_tagged</th>\n",
              "    </tr>\n",
              "  </thead>\n",
              "  <tbody>\n",
              "    <tr>\n",
              "      <th>0</th>\n",
              "      <td>0</td>\n",
              "      <td>SUBJECT: who and where to get cetirizine - D M...</td>\n",
              "      <td>Who manufactures cetirizine?</td>\n",
              "      <td>SUBJECT: who and where to get cetirizine - D M...</td>\n",
              "    </tr>\n",
              "    <tr>\n",
              "      <th>1</th>\n",
              "      <td>1</td>\n",
              "      <td>who makes bromocriptine i am wondering what co...</td>\n",
              "      <td>Who manufactures bromocriptine?</td>\n",
              "      <td>who makes &lt;DIAGNOSTIC_PROCEDURE&gt; bromocriptine...</td>\n",
              "    </tr>\n",
              "    <tr>\n",
              "      <th>2</th>\n",
              "      <td>2</td>\n",
              "      <td>SUBJECT: nulytely MESSAGE: Hello can you tell ...</td>\n",
              "      <td>Who makes nulytely, and where can I buy it?</td>\n",
              "      <td>SUBJECT: nulytely MESSAGE: Hello can you tell ...</td>\n",
              "    </tr>\n",
              "    <tr>\n",
              "      <th>3</th>\n",
              "      <td>3</td>\n",
              "      <td>Williams' syndrome I would like to have my dau...</td>\n",
              "      <td>Where can I get genetic testing for william's ...</td>\n",
              "      <td>&lt;DISEASE_DISORDER&gt; williams' syndrome I would ...</td>\n",
              "    </tr>\n",
              "    <tr>\n",
              "      <th>4</th>\n",
              "      <td>4</td>\n",
              "      <td>ClinicalTrials.gov - Question - general inform...</td>\n",
              "      <td>Where can I get genetic testing for multiple m...</td>\n",
              "      <td>ClinicalTrials.gov - Question - general inform...</td>\n",
              "    </tr>\n",
              "    <tr>\n",
              "      <th>...</th>\n",
              "      <td>...</td>\n",
              "      <td>...</td>\n",
              "      <td>...</td>\n",
              "      <td>...</td>\n",
              "    </tr>\n",
              "    <tr>\n",
              "      <th>995</th>\n",
              "      <td>995</td>\n",
              "      <td>SUBJECT: after surgery of ear drum still same ...</td>\n",
              "      <td>What are the treatments for perforated eardrum?</td>\n",
              "      <td>SUBJECT: after &lt;THERAPEUTIC_PROCEDURE&gt; surgery...</td>\n",
              "    </tr>\n",
              "    <tr>\n",
              "      <th>996</th>\n",
              "      <td>996</td>\n",
              "      <td>SUBJECT: ClinicalTrials.gov - Question - speci...</td>\n",
              "      <td>What are the treatments for Glycogen storage d...</td>\n",
              "      <td>SUBJECT: &lt;DIAGNOSTIC_PROCEDURE&gt; clinicaltrials...</td>\n",
              "    </tr>\n",
              "    <tr>\n",
              "      <th>997</th>\n",
              "      <td>997</td>\n",
              "      <td>MESSAGE: I have numbness/tingling in my lower ...</td>\n",
              "      <td>Where can I find information and treatment for...</td>\n",
              "      <td>MESSAGE: I have numbness/tingling in my &lt;BIOLO...</td>\n",
              "    </tr>\n",
              "    <tr>\n",
              "      <th>998</th>\n",
              "      <td>998</td>\n",
              "      <td>SUBJECT: sleep apnea MESSAGE: I was diagnosed ...</td>\n",
              "      <td>How long does swelling from sleep apnea take t...</td>\n",
              "      <td>SUBJECT: &lt;DISEASE_DISORDER&gt; sleep apnea MESSAG...</td>\n",
              "    </tr>\n",
              "    <tr>\n",
              "      <th>999</th>\n",
              "      <td>999</td>\n",
              "      <td>SUBJECT: Home resources for AMD people MESSAGE...</td>\n",
              "      <td>What resources are available for elderly with ...</td>\n",
              "      <td>SUBJECT: &lt;DETAILED_DESCRIPTION&gt; home resources...</td>\n",
              "    </tr>\n",
              "  </tbody>\n",
              "</table>\n",
              "<p>1000 rows × 4 columns</p>\n",
              "</div>\n",
              "    <div class=\"colab-df-buttons\">\n",
              "\n",
              "  <div class=\"colab-df-container\">\n",
              "    <button class=\"colab-df-convert\" onclick=\"convertToInteractive('df-a8ab2ba1-8396-4320-a577-aaa444f5d517')\"\n",
              "            title=\"Convert this dataframe to an interactive table.\"\n",
              "            style=\"display:none;\">\n",
              "\n",
              "  <svg xmlns=\"http://www.w3.org/2000/svg\" height=\"24px\" viewBox=\"0 -960 960 960\">\n",
              "    <path d=\"M120-120v-720h720v720H120Zm60-500h600v-160H180v160Zm220 220h160v-160H400v160Zm0 220h160v-160H400v160ZM180-400h160v-160H180v160Zm440 0h160v-160H620v160ZM180-180h160v-160H180v160Zm440 0h160v-160H620v160Z\"/>\n",
              "  </svg>\n",
              "    </button>\n",
              "\n",
              "  <style>\n",
              "    .colab-df-container {\n",
              "      display:flex;\n",
              "      gap: 12px;\n",
              "    }\n",
              "\n",
              "    .colab-df-convert {\n",
              "      background-color: #E8F0FE;\n",
              "      border: none;\n",
              "      border-radius: 50%;\n",
              "      cursor: pointer;\n",
              "      display: none;\n",
              "      fill: #1967D2;\n",
              "      height: 32px;\n",
              "      padding: 0 0 0 0;\n",
              "      width: 32px;\n",
              "    }\n",
              "\n",
              "    .colab-df-convert:hover {\n",
              "      background-color: #E2EBFA;\n",
              "      box-shadow: 0px 1px 2px rgba(60, 64, 67, 0.3), 0px 1px 3px 1px rgba(60, 64, 67, 0.15);\n",
              "      fill: #174EA6;\n",
              "    }\n",
              "\n",
              "    .colab-df-buttons div {\n",
              "      margin-bottom: 4px;\n",
              "    }\n",
              "\n",
              "    [theme=dark] .colab-df-convert {\n",
              "      background-color: #3B4455;\n",
              "      fill: #D2E3FC;\n",
              "    }\n",
              "\n",
              "    [theme=dark] .colab-df-convert:hover {\n",
              "      background-color: #434B5C;\n",
              "      box-shadow: 0px 1px 3px 1px rgba(0, 0, 0, 0.15);\n",
              "      filter: drop-shadow(0px 1px 2px rgba(0, 0, 0, 0.3));\n",
              "      fill: #FFFFFF;\n",
              "    }\n",
              "  </style>\n",
              "\n",
              "    <script>\n",
              "      const buttonEl =\n",
              "        document.querySelector('#df-a8ab2ba1-8396-4320-a577-aaa444f5d517 button.colab-df-convert');\n",
              "      buttonEl.style.display =\n",
              "        google.colab.kernel.accessAllowed ? 'block' : 'none';\n",
              "\n",
              "      async function convertToInteractive(key) {\n",
              "        const element = document.querySelector('#df-a8ab2ba1-8396-4320-a577-aaa444f5d517');\n",
              "        const dataTable =\n",
              "          await google.colab.kernel.invokeFunction('convertToInteractive',\n",
              "                                                    [key], {});\n",
              "        if (!dataTable) return;\n",
              "\n",
              "        const docLinkHtml = 'Like what you see? Visit the ' +\n",
              "          '<a target=\"_blank\" href=https://colab.research.google.com/notebooks/data_table.ipynb>data table notebook</a>'\n",
              "          + ' to learn more about interactive tables.';\n",
              "        element.innerHTML = '';\n",
              "        dataTable['output_type'] = 'display_data';\n",
              "        await google.colab.output.renderOutput(dataTable, element);\n",
              "        const docLink = document.createElement('div');\n",
              "        docLink.innerHTML = docLinkHtml;\n",
              "        element.appendChild(docLink);\n",
              "      }\n",
              "    </script>\n",
              "  </div>\n",
              "\n",
              "\n",
              "<div id=\"df-eaf55d27-7cb9-4aa5-9dcb-41ead07c264e\">\n",
              "  <button class=\"colab-df-quickchart\" onclick=\"quickchart('df-eaf55d27-7cb9-4aa5-9dcb-41ead07c264e')\"\n",
              "            title=\"Suggest charts\"\n",
              "            style=\"display:none;\">\n",
              "\n",
              "<svg xmlns=\"http://www.w3.org/2000/svg\" height=\"24px\"viewBox=\"0 0 24 24\"\n",
              "     width=\"24px\">\n",
              "    <g>\n",
              "        <path d=\"M19 3H5c-1.1 0-2 .9-2 2v14c0 1.1.9 2 2 2h14c1.1 0 2-.9 2-2V5c0-1.1-.9-2-2-2zM9 17H7v-7h2v7zm4 0h-2V7h2v10zm4 0h-2v-4h2v4z\"/>\n",
              "    </g>\n",
              "</svg>\n",
              "  </button>\n",
              "\n",
              "<style>\n",
              "  .colab-df-quickchart {\n",
              "      --bg-color: #E8F0FE;\n",
              "      --fill-color: #1967D2;\n",
              "      --hover-bg-color: #E2EBFA;\n",
              "      --hover-fill-color: #174EA6;\n",
              "      --disabled-fill-color: #AAA;\n",
              "      --disabled-bg-color: #DDD;\n",
              "  }\n",
              "\n",
              "  [theme=dark] .colab-df-quickchart {\n",
              "      --bg-color: #3B4455;\n",
              "      --fill-color: #D2E3FC;\n",
              "      --hover-bg-color: #434B5C;\n",
              "      --hover-fill-color: #FFFFFF;\n",
              "      --disabled-bg-color: #3B4455;\n",
              "      --disabled-fill-color: #666;\n",
              "  }\n",
              "\n",
              "  .colab-df-quickchart {\n",
              "    background-color: var(--bg-color);\n",
              "    border: none;\n",
              "    border-radius: 50%;\n",
              "    cursor: pointer;\n",
              "    display: none;\n",
              "    fill: var(--fill-color);\n",
              "    height: 32px;\n",
              "    padding: 0;\n",
              "    width: 32px;\n",
              "  }\n",
              "\n",
              "  .colab-df-quickchart:hover {\n",
              "    background-color: var(--hover-bg-color);\n",
              "    box-shadow: 0 1px 2px rgba(60, 64, 67, 0.3), 0 1px 3px 1px rgba(60, 64, 67, 0.15);\n",
              "    fill: var(--button-hover-fill-color);\n",
              "  }\n",
              "\n",
              "  .colab-df-quickchart-complete:disabled,\n",
              "  .colab-df-quickchart-complete:disabled:hover {\n",
              "    background-color: var(--disabled-bg-color);\n",
              "    fill: var(--disabled-fill-color);\n",
              "    box-shadow: none;\n",
              "  }\n",
              "\n",
              "  .colab-df-spinner {\n",
              "    border: 2px solid var(--fill-color);\n",
              "    border-color: transparent;\n",
              "    border-bottom-color: var(--fill-color);\n",
              "    animation:\n",
              "      spin 1s steps(1) infinite;\n",
              "  }\n",
              "\n",
              "  @keyframes spin {\n",
              "    0% {\n",
              "      border-color: transparent;\n",
              "      border-bottom-color: var(--fill-color);\n",
              "      border-left-color: var(--fill-color);\n",
              "    }\n",
              "    20% {\n",
              "      border-color: transparent;\n",
              "      border-left-color: var(--fill-color);\n",
              "      border-top-color: var(--fill-color);\n",
              "    }\n",
              "    30% {\n",
              "      border-color: transparent;\n",
              "      border-left-color: var(--fill-color);\n",
              "      border-top-color: var(--fill-color);\n",
              "      border-right-color: var(--fill-color);\n",
              "    }\n",
              "    40% {\n",
              "      border-color: transparent;\n",
              "      border-right-color: var(--fill-color);\n",
              "      border-top-color: var(--fill-color);\n",
              "    }\n",
              "    60% {\n",
              "      border-color: transparent;\n",
              "      border-right-color: var(--fill-color);\n",
              "    }\n",
              "    80% {\n",
              "      border-color: transparent;\n",
              "      border-right-color: var(--fill-color);\n",
              "      border-bottom-color: var(--fill-color);\n",
              "    }\n",
              "    90% {\n",
              "      border-color: transparent;\n",
              "      border-bottom-color: var(--fill-color);\n",
              "    }\n",
              "  }\n",
              "</style>\n",
              "\n",
              "  <script>\n",
              "    async function quickchart(key) {\n",
              "      const quickchartButtonEl =\n",
              "        document.querySelector('#' + key + ' button');\n",
              "      quickchartButtonEl.disabled = true;  // To prevent multiple clicks.\n",
              "      quickchartButtonEl.classList.add('colab-df-spinner');\n",
              "      try {\n",
              "        const charts = await google.colab.kernel.invokeFunction(\n",
              "            'suggestCharts', [key], {});\n",
              "      } catch (error) {\n",
              "        console.error('Error during call to suggestCharts:', error);\n",
              "      }\n",
              "      quickchartButtonEl.classList.remove('colab-df-spinner');\n",
              "      quickchartButtonEl.classList.add('colab-df-quickchart-complete');\n",
              "    }\n",
              "    (() => {\n",
              "      let quickchartButtonEl =\n",
              "        document.querySelector('#df-eaf55d27-7cb9-4aa5-9dcb-41ead07c264e button');\n",
              "      quickchartButtonEl.style.display =\n",
              "        google.colab.kernel.accessAllowed ? 'block' : 'none';\n",
              "    })();\n",
              "  </script>\n",
              "</div>\n",
              "\n",
              "    </div>\n",
              "  </div>\n"
            ],
            "application/vnd.google.colaboratory.intrinsic+json": {
              "type": "dataframe",
              "summary": "{\n  \"name\": \"dataset['train']\",\n  \"rows\": 1000,\n  \"fields\": [\n    {\n      \"column\": \"idx\",\n      \"properties\": {\n        \"dtype\": \"number\",\n        \"std\": 288,\n        \"min\": 0,\n        \"max\": 999,\n        \"num_unique_values\": 1000,\n        \"samples\": [\n          521,\n          737,\n          740\n        ],\n        \"semantic_type\": \"\",\n        \"description\": \"\"\n      }\n    },\n    {\n      \"column\": \"inputs\",\n      \"properties\": {\n        \"dtype\": \"string\",\n        \"num_unique_values\": 1000,\n        \"samples\": [\n          \"SUBJECT: new treatment for lipoma of forearm MESSAGE: I have had two surgeries on my right forearm.  The last was 2 years ago.  The lipoma has returned.  Are there any new treatments or experimental procedures that might help me?\",\n          \"Beckwith-Wieddeman Syndrome. I would like to request further knowledge on this specific disorder.\",\n          \"SUBJECT: MedlinePlus Service Request MESSAGE: if A PERSON HAS BEEN USING MORPHINE FOR YEARS (10)FOR PAIN RELIEF,AND ARE EXHIBITING THE FLU-LIKE INABILITY TO THINK OR COMMUNICATE, AS A LOVING FRIEND , COULD YOU GUESS/ESTIMATE FOR ME HOW LONG THE HELL THEY'RE EXPERIENCING MAY LAST?1 WEEK, 1 YEAR?\"\n        ],\n        \"semantic_type\": \"\",\n        \"description\": \"\"\n      }\n    },\n    {\n      \"column\": \"target\",\n      \"properties\": {\n        \"dtype\": \"string\",\n        \"num_unique_values\": 994,\n        \"samples\": [\n          \"How is a differential diagnosis made between SLE and adult still's disease?\",\n          \"What are the causes of loss of ear pressure and can it heal itself?\",\n          \"What causes fetal diaphragmatic hernia, and what can be done to prevent it?\"\n        ],\n        \"semantic_type\": \"\",\n        \"description\": \"\"\n      }\n    },\n    {\n      \"column\": \"inputs_tagged\",\n      \"properties\": {\n        \"dtype\": \"string\",\n        \"num_unique_values\": 1000,\n        \"samples\": [\n          \"SUBJECT: new treatment for <DISEASE_DISORDER> lipoma of <BIOLOGICAL_STRUCTURE> forearm MESSAGE: I have had two <THERAPEUTIC_PROCEDURE> surgeries on my <BIOLOGICAL_STRUCTURE> right forearm The last was <DURATION> 2 <DATE> years ago The <DISEASE_DISORDER> lipoma has returned. Are there any new treatments or experimental procedures that might help me?\",\n          \"Beckwith-Wieddeman Syndrome. I would like to request further knowledge on this specific disorder.\",\n          \"SUBJECT: MedlinePlus Service Request MESSAGE: if A PERSON HAS BEEN USING <MEDICATION> morphine FOR YEARS (10)FOR PAIN RELIEF,AND ARE EXHIBITING THE FLU-LIKE <SIGN_SYMPTOM> inability to think OR <SIGN_SYMPTOM> communicate AS A LOVING FRIEND , COULD YOU GUESS/ESTIMATE FOR ME HOW LONG THE HELL THEY'RE EXPERIENCING MAY LAST?1 <DURATION> week 1 YEAR?\"\n        ],\n        \"semantic_type\": \"\",\n        \"description\": \"\"\n      }\n    }\n  ]\n}"
            }
          },
          "metadata": {},
          "execution_count": 12
        }
      ],
      "source": [
        "dataset['train'].to_pandas()"
      ]
    },
    {
      "cell_type": "code",
      "execution_count": 13,
      "metadata": {
        "id": "AK1gHdPIKdu1"
      },
      "outputs": [],
      "source": [
        "# with wandb.init(project=PROJECT, id=\"trial_run_normal_seq2seq\", job_type=\"dataset\", resume=\"allow\"):\n",
        "#    wbtrain = wandb.Table(data=dataset['train'].to_pandas())\n",
        "#    wbvalidation = wandb.Table(data=dataset['validation'].to_pandas())\n",
        "#    wbtest = wandb.Table(data=dataset['test'].to_pandas())\n",
        "#    wandb.log({\"meqsum_train\": wbtrain})\n",
        "#    wandb.log({\"meqsum_validation\": wbvalidation})\n",
        "#    wandb.log({\"meqsum_test\": wbtest})"
      ]
    },
    {
      "cell_type": "code",
      "execution_count": 14,
      "metadata": {
        "id": "ka2-lN2lKdu1",
        "colab": {
          "base_uri": "https://localhost:8080/"
        },
        "outputId": "3e9c4c29-b1af-495d-9632-14f9ac206f79"
      },
      "outputs": [
        {
          "output_type": "stream",
          "name": "stderr",
          "text": [
            "/usr/local/lib/python3.10/dist-packages/huggingface_hub/utils/_token.py:89: UserWarning: \n",
            "The secret `HF_TOKEN` does not exist in your Colab secrets.\n",
            "To authenticate with the Hugging Face Hub, create a token in your settings tab (https://huggingface.co/settings/tokens), set it as secret in your Google Colab and restart your session.\n",
            "You will be able to reuse this secret in all of your notebooks.\n",
            "Please note that authentication is recommended but still optional to access public models or datasets.\n",
            "  warnings.warn(\n"
          ]
        }
      ],
      "source": [
        "model_name='google/flan-t5-base'\n",
        "\n",
        "original_model = AutoModelForSeq2SeqLM.from_pretrained(model_name, torch_dtype=torch.bfloat16)\n",
        "tokenizer = AutoTokenizer.from_pretrained(model_name)"
      ]
    },
    {
      "cell_type": "code",
      "execution_count": 15,
      "metadata": {
        "id": "uou2E6jFKdu2"
      },
      "outputs": [],
      "source": [
        "# def print_number_of_trainable_model_parameters(model, tag=\"original_model\"):\n",
        "#     trainable_model_params = 0\n",
        "#     all_model_params = 0\n",
        "#     for _, param in model.named_parameters():\n",
        "#         all_model_params += param.numel()\n",
        "#         if param.requires_grad:\n",
        "#             trainable_model_params += param.numel()\n",
        "#     with wandb.init(project=PROJECT, job_type=\"log_parameters\", id=WANDB_ID, resume='allow'):\n",
        "#       wandb.log({f'{tag}': {\"trainable_model_params\":trainable_model_params}})\n",
        "#       wandb.log({f'{tag}': {\"all_model_params\":all_model_params}})\n",
        "#       wandb.log({f'{tag}': {\"percentage_of_trainable_model_parameters\": 100 * trainable_model_params}} )\n",
        "\n",
        "#     return f\"trainable model parameters: {trainable_model_params}\\nall model parameters: {all_model_params}\\npercentage of trainable model parameters: {100 * trainable_model_params / all_model_params}%\"\n",
        "\n",
        "# print(print_number_of_trainable_model_parameters(original_model))"
      ]
    },
    {
      "cell_type": "code",
      "execution_count": 16,
      "metadata": {
        "id": "J7jIpqstKdu2"
      },
      "outputs": [],
      "source": [
        "# Define W&B Table to store generations\n",
        "columns = [\"index\", \"medical question\", \"prompt\", \"human_summary\", \"zero_shot_output\"]\n",
        "table = wandb.Table(columns=columns)"
      ]
    },
    {
      "cell_type": "code",
      "execution_count": 17,
      "metadata": {
        "id": "tviy0lsuKdu2"
      },
      "outputs": [],
      "source": [
        "#START_PROMPT = 'Summarize the following medical question using context around it.\\n\\n'\n",
        "#START_PROMPT = 'Read through the whole context and summarize the medical question\\n\\n'\n",
        "#END_PROMPT = '\\n\\nQuestion Summary:'\n",
        "#END_PROMPT = '\\n\\medical question summary:'\n",
        "NER_START_PROMPT_1 = 'Read through the whole context and summarize the medical question focusing on tags supplied within <> brackets.\\n\\n'\n",
        "NER_START_PROMPT_2 = 'Reading the context, shortly summarize the medical question focusing on tags within <>. Focus on <MEDICATION>,<DIAGNOSTIC_PROCEDURE> \\\n",
        "<BIOLOGICAL_ATTRIBUTE>,<SIGN_SYMPTOM>,<BIOLOGICAL_STRUCTURE>,<DISEASE_DISORDER> if present.\\n\\n'\n",
        "NER_END_PROMPT_1= '\\n\\nQuestion Summary:'\n",
        "NER_END_PROMPT_2= '\\n\\nmedical question summary:'"
      ]
    },
    {
      "cell_type": "code",
      "execution_count": 18,
      "metadata": {
        "id": "2PxQTlibKdu2",
        "colab": {
          "base_uri": "https://localhost:8080/",
          "height": 49,
          "referenced_widgets": [
            "5f757a7859b7449cb932970dcc67247d",
            "6373ba11848a48e289f0f330ad9cfba2",
            "ad5281bdc5f54381b40fc1d56ba87fe1",
            "d74549e955b64f0a8275d0cb000c76e3",
            "95a352b5f09b4c92bc80b38ea0e3674f",
            "72146ed10e174216b9e86f4985b2638f",
            "be71c3ac13b3492a9b4ffa8bf9033fe9",
            "f18765bee01b421ea265ff9588ca13cc",
            "18fd2605762e497191c559c73b28fac3",
            "82e8201dba9a4ed38ef7387c3de94ae4",
            "4346ea6251d9400a8665e95e373c572d"
          ]
        },
        "outputId": "5b9e0604-5c50-4260-9f7a-c7fe8651bc44"
      },
      "outputs": [
        {
          "output_type": "display_data",
          "data": {
            "text/plain": [
              "Map:   0%|          | 0/150 [00:00<?, ? examples/s]"
            ],
            "application/vnd.jupyter.widget-view+json": {
              "version_major": 2,
              "version_minor": 0,
              "model_id": "5f757a7859b7449cb932970dcc67247d"
            }
          },
          "metadata": {
            "application/vnd.jupyter.widget-view+json": {
              "colab": {
                "custom_widget_manager": {
                  "url": "https://ssl.gstatic.com/colaboratory-static/widgets/colab-cdn-widget-manager/2b70e893a8ba7c0f/manager.min.js"
                }
              }
            }
          }
        }
      ],
      "source": [
        "def tokenize_function(example):\n",
        "    prompt = [NER_START_PROMPT_2 + question + NER_END_PROMPT_2 for question in example[\"inputs_tagged\"]]\n",
        "    example['input_ids'] = tokenizer(prompt, padding=\"max_length\", truncation=True, return_tensors=\"pt\").input_ids\n",
        "    example['labels'] = tokenizer(example[\"target\"], padding=\"max_length\", truncation=True, return_tensors=\"pt\").input_ids\n",
        "\n",
        "    return example\n",
        "\n",
        "# The dataset actually contains 3 diff splits: train, validation, test.\n",
        "# The tokenize_function code is handling all data across all splits in batches.\n",
        "tokenized_datasets = dataset.map(tokenize_function, batched=True)\n",
        "tokenized_datasets = tokenized_datasets.remove_columns(['idx', 'inputs', 'target',])"
      ]
    },
    {
      "cell_type": "code",
      "execution_count": 19,
      "metadata": {
        "id": "2Ge3Mhv2Kdu3"
      },
      "outputs": [],
      "source": [
        "# tokenized_datasets['train'].to_pandas().head().iloc[0]['input_ids']"
      ]
    },
    {
      "cell_type": "code",
      "execution_count": 20,
      "metadata": {
        "id": "qlyyCpb9Kdu3"
      },
      "outputs": [],
      "source": [
        "# with wandb.init(project=PROJECT, job_type=\"dataset\"):\n",
        "#    wbtrain_tokenized = wandb.Table(data=tokenized_datasets['train'].to_pandas())\n",
        "#    wbvalidation_tokenized = wandb.Table(data=tokenized_datasets['validation'].to_pandas())\n",
        "#    wbtest_tokenized = wandb.Table(data=tokenized_datasets['test'].to_pandas())\n",
        "#    wandb.log({\"MeQSum_train_tokenized\": wbtrain_tokenized})\n",
        "#    wandb.log({\"MeQSum_validation_tokenized\": wbvalidation_tokenized})\n",
        "#    wandb.log({\"MeQSum_test_tokenized\": wbtest_tokenized})"
      ]
    },
    {
      "cell_type": "code",
      "execution_count": 21,
      "metadata": {
        "id": "8TQ4z9vDKdu3",
        "colab": {
          "base_uri": "https://localhost:8080/"
        },
        "outputId": "fae27574-646e-4c94-c3c1-d8d4820f5fe0"
      },
      "outputs": [
        {
          "output_type": "stream",
          "name": "stdout",
          "text": [
            "Shapes of the datasets:\n",
            "Training: (1000, 3)\n",
            "Validation: (50, 3)\n",
            "Test: (150, 3)\n",
            "DatasetDict({\n",
            "    train: Dataset({\n",
            "        features: ['inputs_tagged', 'input_ids', 'labels'],\n",
            "        num_rows: 1000\n",
            "    })\n",
            "    test: Dataset({\n",
            "        features: ['inputs_tagged', 'input_ids', 'labels'],\n",
            "        num_rows: 150\n",
            "    })\n",
            "    validation: Dataset({\n",
            "        features: ['inputs_tagged', 'input_ids', 'labels'],\n",
            "        num_rows: 50\n",
            "    })\n",
            "})\n"
          ]
        }
      ],
      "source": [
        "print(f\"Shapes of the datasets:\")\n",
        "print(f\"Training: {tokenized_datasets['train'].shape}\")\n",
        "print(f\"Validation: {tokenized_datasets['validation'].shape}\")\n",
        "print(f\"Test: {tokenized_datasets['test'].shape}\")\n",
        "\n",
        "print(tokenized_datasets)"
      ]
    },
    {
      "cell_type": "code",
      "execution_count": 22,
      "metadata": {
        "id": "0hMVCuAjKdu3"
      },
      "outputs": [],
      "source": [
        "from types import SimpleNamespace\n",
        "from pathlib import Path\n",
        "from tqdm.notebook import tqdm\n",
        "from datetime import datetime\n",
        "import nltk"
      ]
    },
    {
      "cell_type": "code",
      "execution_count": 23,
      "metadata": {
        "id": "GemAGTOxKdu4"
      },
      "outputs": [],
      "source": [
        "# from datasets import load_metric\n",
        "# from bert_score import score\n",
        "\n",
        "\n",
        "# # bert_score is not a part of the datasets library, so we'll use the bert_score package directly\n",
        "\n",
        "# rouge = evaluate.load('rouge')\n",
        "# bleu = evaluate.load(\"bleu\")\n",
        "\n",
        "# def compute_metrics(eval_pred):\n",
        "#     predictions, labels = eval_pred\n",
        "#     print(predictions[0].shape)\n",
        "#     print(labels.shape)\n",
        "#     print('Starting to batch decode: ')\n",
        "#     decoded_preds = tokenizer.batch_decode(predictions, skip_special_tokens=True)\n",
        "#     # Replace -100 in the labels as we can't decode them.\n",
        "#     labels = np.where(labels != -100, labels, tokenizer.pad_token_id)\n",
        "#     decoded_labels = tokenizer.batch_decode(labels, skip_special_tokens=True)\n",
        "\n",
        "#     print('Batch Decoding finished: ')\n",
        "#     # Split the predictions and labels into individual sentences\n",
        "#     decoded_preds = [pred.strip() for pred in decoded_preds]\n",
        "#     decoded_labels = [label.strip() for label in decoded_labels]\n",
        "\n",
        "#     # print(decoded_preds)\n",
        "#     # print(decoded_labels)\n",
        "\n",
        "#     #print(type(inference_df['finetuned_model_summaries'].tolist()))\n",
        "\n",
        "#     references_questions = [[target] for target in decoded_labels]\n",
        "#     #prediction_questions = [[target] for target in inference_df['finetuned_model_summaries'].tolist()]\n",
        "#     #print(references_questions)\n",
        "#     # Compute BLEU score\n",
        "#     bleu_results = bleu.compute(\n",
        "#         predictions=decoded_preds,\n",
        "#         references=references_questions\n",
        "#     )\n",
        "\n",
        "#     result = rouge.compute(predictions=decoded_preds, references=decoded_labels)[\"rougeL\"]\n",
        "#     bleu_result = bleu.compute(predictions=decoded_preds, references=decoded_labels)\n",
        "#     P, R, F1 = score(decoded_preds, decoded_labels, lang=\"en\")\n",
        "\n",
        "#     return {\n",
        "#         \"rougel_fmeasure\": result,\n",
        "#         \"bleu\": bleu_result[\"bleu\"],\n",
        "#         \"bert_score_f1\": F1.mean().item(),\n",
        "#     }"
      ]
    },
    {
      "cell_type": "code",
      "execution_count": 24,
      "metadata": {
        "id": "GOLmcReoKdu4"
      },
      "outputs": [],
      "source": [
        "DEVICE = \"cuda\" if torch.cuda.is_available() else \"cpu\"\n",
        "\n",
        "# config = SimpleNamespace(\n",
        "#     # hyperparameters\n",
        "#     learning_rate=1e-3,\n",
        "#     per_device_train_batch_size=16,\n",
        "#     per_device_eval_batch_size=16,\n",
        "#     gradient_accumulation_steps=4,\n",
        "#     num_train_epochs=100,\n",
        "#     save_steps=5,\n",
        "#     save_strategy='epoch', # we cannot set it to \"no\". Otherwise, the model cannot guess the best checkpoint.\n",
        "#     eval_steps=5,\n",
        "#     logging_steps=5,\n",
        "#     evaluation_strategy='epoch',\n",
        "#     warmup_steps=500,\n",
        "#     save_total_limit=3,\n",
        "#     load_best_model_at_end = True,\n",
        "#     output_dir = f'./MeQSum-training-{str(int(time.time()))}'\n",
        "# )\n",
        "\n",
        "\n",
        "config = SimpleNamespace(\n",
        "    # hyperparameters\n",
        "    learning_rate=1e-4,\n",
        "    per_device_train_batch_size=16,\n",
        "    per_device_eval_batch_size=16,\n",
        "    gradient_accumulation_steps=4,\n",
        "    num_train_epochs=30,\n",
        "    save_steps=5,\n",
        "    save_strategy='epoch', # we cannot set it to \"no\". Otherwise, the model cannot guess the best checkpoint.\n",
        "    eval_steps=5,\n",
        "    logging_steps=5,\n",
        "    evaluation_strategy='epoch',\n",
        "    warmup_steps=500,\n",
        "    save_total_limit=2,\n",
        "    load_best_model_at_end = True,\n",
        "    output_dir = f'./MeQSum-training-{str(int(time.time()))}'\n",
        ")"
      ]
    },
    {
      "cell_type": "code",
      "execution_count": 25,
      "metadata": {
        "id": "iHOcUy0eKdu4",
        "colab": {
          "base_uri": "https://localhost:8080/"
        },
        "outputId": "20ba4ca6-4b3b-48c8-d292-a4f42234e4cd"
      },
      "outputs": [
        {
          "output_type": "stream",
          "name": "stderr",
          "text": [
            "/usr/local/lib/python3.10/dist-packages/accelerate/accelerator.py:436: FutureWarning: Passing the following arguments to `Accelerator` is deprecated and will be removed in version 1.0 of Accelerate: dict_keys(['dispatch_batches', 'split_batches', 'even_batches', 'use_seedable_sampler']). Please pass an `accelerate.DataLoaderConfiguration` instead: \n",
            "dataloader_config = DataLoaderConfiguration(dispatch_batches=None, split_batches=False, even_batches=True, use_seedable_sampler=True)\n",
            "  warnings.warn(\n"
          ]
        }
      ],
      "source": [
        "training_args = TrainingArguments(\n",
        "    output_dir=config.output_dir,\n",
        "    learning_rate=config.learning_rate,\n",
        "    gradient_accumulation_steps=config.gradient_accumulation_steps,\n",
        "   num_train_epochs=config.num_train_epochs,\n",
        "    save_steps=config.save_steps,\n",
        "    save_strategy=config.save_strategy, # we cannot set it to \"no\". Otherwise, the model cannot guess the best checkpoint.\n",
        "    eval_steps=config.eval_steps,\n",
        "    logging_steps=config.logging_steps,\n",
        "    evaluation_strategy=config.evaluation_strategy,\n",
        "    warmup_steps=config.warmup_steps,\n",
        "    save_total_limit=config.save_total_limit,\n",
        "    load_best_model_at_end = config.load_best_model_at_end,\n",
        "    report_to=\"wandb\",\n",
        "    run_name=f\"Prompt_tuning_original_model-{datetime.now().strftime('%Y-%m-%d-%H-%M')}\"\n",
        ")\n",
        "\n",
        "trainer = Trainer(\n",
        "    model=original_model,\n",
        "    args=training_args,\n",
        "    train_dataset=tokenized_datasets['train'],\n",
        "    eval_dataset=tokenized_datasets['validation']\n",
        ")"
      ]
    },
    {
      "cell_type": "code",
      "source": [
        "# free up GPU Memory\n",
        "torch.cuda.empty_cache()"
      ],
      "metadata": {
        "id": "tERm0IiOO3n5"
      },
      "execution_count": 26,
      "outputs": []
    },
    {
      "cell_type": "code",
      "source": [
        "with wandb.init(project=PROJECT, id=WANDB_ID, resume='allow'):\n",
        "  trainer.train()"
      ],
      "metadata": {
        "id": "3vG40v4lRRee",
        "colab": {
          "base_uri": "https://localhost:8080/",
          "height": 1000,
          "referenced_widgets": [
            "f78932d6a1ba4beea8344b5d1bc95de9",
            "8e4ab5f39a394f3d86a06f0fe54b5d5d",
            "ecaaa21409114a5aa3b7fe6fddad617b",
            "d25d4a3d7e8949f7bd4a4eede88a5522",
            "6f63e8d20404457eaabc842700763f1f",
            "51bf40918bdd4db099a1dfc01dfc2ef4",
            "fd8f08ff94f0494da51b9e6f0b50b3d0",
            "e25df225ea02461eb69d491a9cd88c05",
            "48976af6dc2c4edb9d0574674d98920c",
            "12e0bdf20f794eab96f27a3f3175d8b6",
            "efd2bc927d874046b4534cf71809d4ca",
            "4a2821e4028c4cac8cdd8512b907fb97",
            "16021a08e7f54340b6e5d8f82d8304c3",
            "2898c68d8cbf49d4885abcacd4662600",
            "263f71f610f54b6dbdf4373ffbfa88cd",
            "95e8a8d5ae2145c4b475ed92f4aa51e1"
          ]
        },
        "outputId": "2f8224ba-4781-4eb2-c761-d0e5069babe3"
      },
      "execution_count": 27,
      "outputs": [
        {
          "output_type": "display_data",
          "data": {
            "text/plain": [
              "<IPython.core.display.HTML object>"
            ],
            "text/html": [
              "Finishing last run (ID:NER_seq2seq_2) before initializing another..."
            ]
          },
          "metadata": {}
        },
        {
          "output_type": "display_data",
          "data": {
            "text/plain": [
              "VBox(children=(Label(value='0.003 MB of 0.012 MB uploaded\\r'), FloatProgress(value=0.20508461479020168, max=1.…"
            ],
            "application/vnd.jupyter.widget-view+json": {
              "version_major": 2,
              "version_minor": 0,
              "model_id": "f78932d6a1ba4beea8344b5d1bc95de9"
            }
          },
          "metadata": {
            "application/vnd.jupyter.widget-view+json": {
              "colab": {
                "custom_widget_manager": {
                  "url": "https://ssl.gstatic.com/colaboratory-static/widgets/colab-cdn-widget-manager/2b70e893a8ba7c0f/manager.min.js"
                }
              }
            }
          }
        },
        {
          "output_type": "display_data",
          "data": {
            "text/plain": [
              "<IPython.core.display.HTML object>"
            ],
            "text/html": [
              " View run <strong style=\"color:#cdcd00\">NER_seq2seq_2</strong> at: <a href='https://wandb.ai/ajwadakil/FlanT5-Lora/runs/NER_seq2seq_2' target=\"_blank\">https://wandb.ai/ajwadakil/FlanT5-Lora/runs/NER_seq2seq_2</a><br/> View project at: <a href='https://wandb.ai/ajwadakil/FlanT5-Lora' target=\"_blank\">https://wandb.ai/ajwadakil/FlanT5-Lora</a><br/>Synced 5 W&B file(s), 0 media file(s), 0 artifact file(s) and 0 other file(s)"
            ]
          },
          "metadata": {}
        },
        {
          "output_type": "display_data",
          "data": {
            "text/plain": [
              "<IPython.core.display.HTML object>"
            ],
            "text/html": [
              "Find logs at: <code>./wandb/run-20240420_072723-NER_seq2seq_2/logs</code>"
            ]
          },
          "metadata": {}
        },
        {
          "output_type": "display_data",
          "data": {
            "text/plain": [
              "<IPython.core.display.HTML object>"
            ],
            "text/html": [
              "Successfully finished last run (ID:NER_seq2seq_2). Initializing new run:<br/>"
            ]
          },
          "metadata": {}
        },
        {
          "output_type": "display_data",
          "data": {
            "text/plain": [
              "<IPython.core.display.HTML object>"
            ],
            "text/html": [
              "Tracking run with wandb version 0.16.6"
            ]
          },
          "metadata": {}
        },
        {
          "output_type": "display_data",
          "data": {
            "text/plain": [
              "<IPython.core.display.HTML object>"
            ],
            "text/html": [
              "Run data is saved locally in <code>/content/wandb/run-20240420_072737-NER_seq2seq_2</code>"
            ]
          },
          "metadata": {}
        },
        {
          "output_type": "display_data",
          "data": {
            "text/plain": [
              "<IPython.core.display.HTML object>"
            ],
            "text/html": [
              "Resuming run <strong><a href='https://wandb.ai/ajwadakil/FlanT5-Lora/runs/NER_seq2seq_2' target=\"_blank\">NER_seq2seq_2</a></strong> to <a href='https://wandb.ai/ajwadakil/FlanT5-Lora' target=\"_blank\">Weights & Biases</a> (<a href='https://wandb.me/run' target=\"_blank\">docs</a>)<br/>"
            ]
          },
          "metadata": {}
        },
        {
          "output_type": "display_data",
          "data": {
            "text/plain": [
              "<IPython.core.display.HTML object>"
            ],
            "text/html": [
              " View project at <a href='https://wandb.ai/ajwadakil/FlanT5-Lora' target=\"_blank\">https://wandb.ai/ajwadakil/FlanT5-Lora</a>"
            ]
          },
          "metadata": {}
        },
        {
          "output_type": "display_data",
          "data": {
            "text/plain": [
              "<IPython.core.display.HTML object>"
            ],
            "text/html": [
              " View run at <a href='https://wandb.ai/ajwadakil/FlanT5-Lora/runs/NER_seq2seq_2' target=\"_blank\">https://wandb.ai/ajwadakil/FlanT5-Lora/runs/NER_seq2seq_2</a>"
            ]
          },
          "metadata": {}
        },
        {
          "output_type": "display_data",
          "data": {
            "text/plain": [
              "<IPython.core.display.HTML object>"
            ],
            "text/html": [
              "\n",
              "    <div>\n",
              "      \n",
              "      <progress value='930' max='930' style='width:300px; height:20px; vertical-align: middle;'></progress>\n",
              "      [930/930 41:57, Epoch 29/30]\n",
              "    </div>\n",
              "    <table border=\"1\" class=\"dataframe\">\n",
              "  <thead>\n",
              " <tr style=\"text-align: left;\">\n",
              "      <th>Epoch</th>\n",
              "      <th>Training Loss</th>\n",
              "      <th>Validation Loss</th>\n",
              "    </tr>\n",
              "  </thead>\n",
              "  <tbody>\n",
              "    <tr>\n",
              "      <td>0</td>\n",
              "      <td>45.725000</td>\n",
              "      <td>46.380001</td>\n",
              "    </tr>\n",
              "    <tr>\n",
              "      <td>1</td>\n",
              "      <td>43.862500</td>\n",
              "      <td>44.209999</td>\n",
              "    </tr>\n",
              "    <tr>\n",
              "      <td>2</td>\n",
              "      <td>40.250000</td>\n",
              "      <td>39.709999</td>\n",
              "    </tr>\n",
              "    <tr>\n",
              "      <td>4</td>\n",
              "      <td>26.937500</td>\n",
              "      <td>26.325001</td>\n",
              "    </tr>\n",
              "    <tr>\n",
              "      <td>5</td>\n",
              "      <td>15.200000</td>\n",
              "      <td>8.356250</td>\n",
              "    </tr>\n",
              "    <tr>\n",
              "      <td>6</td>\n",
              "      <td>4.704700</td>\n",
              "      <td>4.353750</td>\n",
              "    </tr>\n",
              "    <tr>\n",
              "      <td>8</td>\n",
              "      <td>2.996900</td>\n",
              "      <td>1.873438</td>\n",
              "    </tr>\n",
              "    <tr>\n",
              "      <td>9</td>\n",
              "      <td>2.285200</td>\n",
              "      <td>1.101250</td>\n",
              "    </tr>\n",
              "    <tr>\n",
              "      <td>10</td>\n",
              "      <td>1.715600</td>\n",
              "      <td>0.551875</td>\n",
              "    </tr>\n",
              "    <tr>\n",
              "      <td>12</td>\n",
              "      <td>0.755900</td>\n",
              "      <td>0.224570</td>\n",
              "    </tr>\n",
              "    <tr>\n",
              "      <td>13</td>\n",
              "      <td>0.514000</td>\n",
              "      <td>0.162422</td>\n",
              "    </tr>\n",
              "    <tr>\n",
              "      <td>14</td>\n",
              "      <td>0.355000</td>\n",
              "      <td>0.122402</td>\n",
              "    </tr>\n",
              "    <tr>\n",
              "      <td>16</td>\n",
              "      <td>0.188900</td>\n",
              "      <td>0.085918</td>\n",
              "    </tr>\n",
              "    <tr>\n",
              "      <td>17</td>\n",
              "      <td>0.149100</td>\n",
              "      <td>0.079756</td>\n",
              "    </tr>\n",
              "    <tr>\n",
              "      <td>18</td>\n",
              "      <td>0.122000</td>\n",
              "      <td>0.075322</td>\n",
              "    </tr>\n",
              "    <tr>\n",
              "      <td>20</td>\n",
              "      <td>0.094600</td>\n",
              "      <td>0.070566</td>\n",
              "    </tr>\n",
              "    <tr>\n",
              "      <td>21</td>\n",
              "      <td>0.096700</td>\n",
              "      <td>0.069570</td>\n",
              "    </tr>\n",
              "    <tr>\n",
              "      <td>22</td>\n",
              "      <td>0.087900</td>\n",
              "      <td>0.068438</td>\n",
              "    </tr>\n",
              "    <tr>\n",
              "      <td>24</td>\n",
              "      <td>0.088400</td>\n",
              "      <td>0.067930</td>\n",
              "    </tr>\n",
              "    <tr>\n",
              "      <td>25</td>\n",
              "      <td>0.084800</td>\n",
              "      <td>0.067676</td>\n",
              "    </tr>\n",
              "    <tr>\n",
              "      <td>26</td>\n",
              "      <td>0.088100</td>\n",
              "      <td>0.067676</td>\n",
              "    </tr>\n",
              "    <tr>\n",
              "      <td>28</td>\n",
              "      <td>0.085000</td>\n",
              "      <td>0.067598</td>\n",
              "    </tr>\n",
              "    <tr>\n",
              "      <td>29</td>\n",
              "      <td>0.086300</td>\n",
              "      <td>0.067607</td>\n",
              "    </tr>\n",
              "  </tbody>\n",
              "</table><p>"
            ]
          },
          "metadata": {}
        },
        {
          "output_type": "stream",
          "name": "stderr",
          "text": [
            "There were missing keys in the checkpoint model loaded: ['encoder.embed_tokens.weight', 'decoder.embed_tokens.weight'].\n"
          ]
        },
        {
          "output_type": "display_data",
          "data": {
            "text/plain": [
              "VBox(children=(Label(value='0.000 MB of 0.000 MB uploaded\\r'), FloatProgress(value=1.0, max=1.0)))"
            ],
            "application/vnd.jupyter.widget-view+json": {
              "version_major": 2,
              "version_minor": 0,
              "model_id": "95e8a8d5ae2145c4b475ed92f4aa51e1"
            }
          },
          "metadata": {
            "application/vnd.jupyter.widget-view+json": {
              "colab": {
                "custom_widget_manager": {
                  "url": "https://ssl.gstatic.com/colaboratory-static/widgets/colab-cdn-widget-manager/2b70e893a8ba7c0f/manager.min.js"
                }
              }
            }
          }
        },
        {
          "output_type": "display_data",
          "data": {
            "text/plain": [
              "<IPython.core.display.HTML object>"
            ],
            "text/html": [
              "<style>\n",
              "    table.wandb td:nth-child(1) { padding: 0 10px; text-align: left ; width: auto;} td:nth-child(2) {text-align: left ; width: 100%}\n",
              "    .wandb-row { display: flex; flex-direction: row; flex-wrap: wrap; justify-content: flex-start; width: 100% }\n",
              "    .wandb-col { display: flex; flex-direction: column; flex-basis: 100%; flex: 1; padding: 10px; }\n",
              "    </style>\n",
              "<div class=\"wandb-row\"><div class=\"wandb-col\"><h3>Run history:</h3><br/><table class=\"wandb\"><tr><td>eval/loss</td><td>██▇▆▅▂▂▁▁▁▁▁▁▁▁▁▁▁▁▁▁▁▁▁▁▁▁▁▁▁</td></tr><tr><td>eval/runtime</td><td>▁▅▇▁█▅▄▅▄▄▆▃▄▅▄▅█▅▆▃█▅▅▁█▅▅▅▆▂</td></tr><tr><td>eval/samples_per_second</td><td>█▄▂█▁▄▅▄▅▅▃▆▅▄▅▄▁▄▃▆▁▄▄█▁▄▄▄▃▇</td></tr><tr><td>eval/steps_per_second</td><td>█▄▂█▁▄▅▄▅▅▃▆▅▄▅▅▁▄▃▆▁▄▄█▁▄▄▄▃▇</td></tr><tr><td>train/epoch</td><td>▁▁▁▂▂▂▂▂▂▃▃▃▃▃▄▄▄▄▄▄▅▅▅▅▅▅▆▆▆▆▆▇▇▇▇▇▇███</td></tr><tr><td>train/global_step</td><td>▁▁▁▂▂▂▂▂▂▃▃▃▃▃▄▄▄▄▄▄▅▅▅▅▅▅▆▆▆▆▆▇▇▇▇▇▇███</td></tr><tr><td>train/grad_norm</td><td>█▇█▆▅▄▃▃▂▁▁▁▁▁▁▁▁▁▁▁▁▁▁▁▁▁▁▁▁▁▁▁▁▁▁▁▁▁▁▁</td></tr><tr><td>train/learning_rate</td><td>▁▁▂▂▂▃▃▃▄▄▄▅▅▅▆▆▆▇▇▇███▇▇▇▆▆▅▅▅▄▄▃▃▃▂▂▁▁</td></tr><tr><td>train/loss</td><td>███▇▇▆▅▄▃▂▂▂▁▁▁▁▁▁▁▁▁▁▁▁▁▁▁▁▁▁▁▁▁▁▁▁▁▁▁▁</td></tr><tr><td>train/total_flos</td><td>▁</td></tr><tr><td>train/train_loss</td><td>▁</td></tr><tr><td>train/train_runtime</td><td>▁</td></tr><tr><td>train/train_samples_per_second</td><td>▁</td></tr><tr><td>train/train_steps_per_second</td><td>▁</td></tr></table><br/></div><div class=\"wandb-col\"><h3>Run summary:</h3><br/><table class=\"wandb\"><tr><td>eval/loss</td><td>0.06761</td></tr><tr><td>eval/runtime</td><td>1.2332</td></tr><tr><td>eval/samples_per_second</td><td>40.545</td></tr><tr><td>eval/steps_per_second</td><td>5.676</td></tr><tr><td>train/epoch</td><td>29.76</td></tr><tr><td>train/global_step</td><td>930</td></tr><tr><td>train/grad_norm</td><td>0.75781</td></tr><tr><td>train/learning_rate</td><td>0.0</td></tr><tr><td>train/loss</td><td>0.0863</td></tr><tr><td>train/total_flos</td><td>2.037837880885248e+16</td></tr><tr><td>train/train_loss</td><td>8.10915</td></tr><tr><td>train/train_runtime</td><td>2521.0542</td></tr><tr><td>train/train_samples_per_second</td><td>11.9</td></tr><tr><td>train/train_steps_per_second</td><td>0.369</td></tr></table><br/></div></div>"
            ]
          },
          "metadata": {}
        },
        {
          "output_type": "display_data",
          "data": {
            "text/plain": [
              "<IPython.core.display.HTML object>"
            ],
            "text/html": [
              " View run <strong style=\"color:#cdcd00\">NER_seq2seq_2</strong> at: <a href='https://wandb.ai/ajwadakil/FlanT5-Lora/runs/NER_seq2seq_2' target=\"_blank\">https://wandb.ai/ajwadakil/FlanT5-Lora/runs/NER_seq2seq_2</a><br/> View project at: <a href='https://wandb.ai/ajwadakil/FlanT5-Lora' target=\"_blank\">https://wandb.ai/ajwadakil/FlanT5-Lora</a><br/>Synced 4 W&B file(s), 0 media file(s), 0 artifact file(s) and 0 other file(s)"
            ]
          },
          "metadata": {}
        },
        {
          "output_type": "display_data",
          "data": {
            "text/plain": [
              "<IPython.core.display.HTML object>"
            ],
            "text/html": [
              "Find logs at: <code>./wandb/run-20240420_072737-NER_seq2seq_2/logs</code>"
            ]
          },
          "metadata": {}
        }
      ]
    },
    {
      "cell_type": "code",
      "execution_count": 28,
      "metadata": {
        "id": "qpMV0fCqKdu5",
        "colab": {
          "base_uri": "https://localhost:8080/",
          "height": 36
        },
        "outputId": "385f2bdb-8f29-4c9c-f8f2-ad65ff66b9e3"
      },
      "outputs": [
        {
          "output_type": "execute_result",
          "data": {
            "text/plain": [
              "'./MeQSum-training-1713598056/checkpoint-906'"
            ],
            "application/vnd.google.colaboratory.intrinsic+json": {
              "type": "string"
            }
          },
          "metadata": {},
          "execution_count": 28
        }
      ],
      "source": [
        "trainer.state.best_model_checkpoint"
      ]
    },
    {
      "cell_type": "code",
      "execution_count": 29,
      "metadata": {
        "id": "RPIeItunKdu5",
        "colab": {
          "base_uri": "https://localhost:8080/"
        },
        "outputId": "7d5a0674-39e3-4805-c9dc-c7bdaca559e6"
      },
      "outputs": [
        {
          "output_type": "stream",
          "name": "stdout",
          "text": [
            "mkdir: cannot create directory ‘flan-dialogue-summary-checkpoint’: File exists\n"
          ]
        }
      ],
      "source": [
        "trainer.state.best_model_checkpoint\n",
        "!mkdir flan-dialogue-summary-checkpoint\n",
        "custom_path = \"/content/drive/MyDrive/cs577_proj_dataset/MODELS/flan-MeQSum-normal_train-checkpoint_lr_1e_4_NER_2/\"\n",
        "trainer.save_model(output_dir=custom_path)"
      ]
    },
    {
      "cell_type": "code",
      "execution_count": 30,
      "metadata": {
        "id": "kfDH6V1HKdu5"
      },
      "outputs": [],
      "source": [
        "# with wandb.init(project=PROJECT, job_type=\"models\"):\n",
        "#   artifact = wandb.Artifact(\"instruct_model\", type=\"model\")\n",
        "#   artifact.add_dir(custom_path)\n",
        "#   wandb.save(custom_path)\n",
        "#   wandb.log_artifact(artifact)"
      ]
    },
    {
      "cell_type": "code",
      "execution_count": 31,
      "metadata": {
        "id": "BiqJe1ZvKdu5"
      },
      "outputs": [],
      "source": [
        "instruct_model = AutoModelForSeq2SeqLM.from_pretrained(custom_path, torch_dtype=torch.bfloat16)"
      ]
    },
    {
      "cell_type": "code",
      "execution_count": 32,
      "metadata": {
        "id": "SM4oFmU6Kdu6"
      },
      "outputs": [],
      "source": [
        "instruct_model = instruct_model.to(\"cuda\")"
      ]
    },
    {
      "cell_type": "markdown",
      "metadata": {
        "id": "EUVycoNaKdu6"
      },
      "source": [
        "## Evaluation of the model"
      ]
    },
    {
      "cell_type": "code",
      "source": [
        "from bert_score import score"
      ],
      "metadata": {
        "id": "mnj1aysTkcI6"
      },
      "execution_count": 33,
      "outputs": []
    },
    {
      "cell_type": "code",
      "source": [
        "def compute_rogue_metric(inference_df):\n",
        "  rouge = evaluate.load('rouge')\n",
        "\n",
        "  finetuned_model_results = rouge.compute(\n",
        "    predictions=inference_df['finetuned_model_summaries'].tolist(),\n",
        "    references=inference_df['human_baseline_summaries'].tolist(),\n",
        "    use_aggregator=True,\n",
        "    use_stemmer=True,\n",
        "  )\n",
        "\n",
        "  return finetuned_model_results\n",
        "\n",
        "def compute_bleu_metric(inference_df):\n",
        "  # Load the BLEU metric\n",
        "  bleu = evaluate.load(\"bleu\")\n",
        "  #print(type(inference_df['finetuned_model_summaries'].tolist()))\n",
        "\n",
        "  references_questions = [[target] for target in inference_df['human_baseline_summaries'].tolist()]\n",
        "  #prediction_questions = [[target] for target in inference_df['finetuned_model_summaries'].tolist()]\n",
        "  #print(references_questions)\n",
        "  # Compute BLEU score\n",
        "  bleu_results = bleu.compute(\n",
        "      predictions=inference_df['finetuned_model_summaries'].tolist(),\n",
        "      references=references_questions\n",
        "  )\n",
        "\n",
        "  # print('BLEU SCORE:')\n",
        "  # print(bleu_results['score'])\n",
        "  return bleu_results['bleu']\n",
        "\n",
        "def compute_bert_score(inference_df):\n",
        "  # Compute BERTScore\n",
        "  P, R, F1 = score(\n",
        "      inference_df['finetuned_model_summaries'].tolist(),\n",
        "      inference_df['human_baseline_summaries'].tolist(), lang=\"en\")\n",
        "\n",
        "  # print('BERT SCORE:')\n",
        "  # print('Precision:', P.mean().item())\n",
        "  # print('Recall:', R.mean().item())\n",
        "  # print('F1 Score:', F1.mean().item())\n",
        "\n",
        "  return P.mean().item(), R.mean().item(), F1.mean().item()\n"
      ],
      "metadata": {
        "id": "MS1iCmu0mCs1"
      },
      "execution_count": 34,
      "outputs": []
    },
    {
      "cell_type": "code",
      "source": [
        "def generate_test_set_inference(dataset, instruct_model, START_PROMPT, END_PROMPT):\n",
        "  questions = dataset['test'][0:]['inputs']\n",
        "  human_baseline_summaries = dataset['test'][0:]['target']\n",
        "\n",
        "  finetuned_model_summaries = []\n",
        "\n",
        "  for _, question in enumerate(tqdm(questions)):\n",
        "      prompt = START_PROMPT + question + END_PROMPT\n",
        "      input_ids = tokenizer(prompt, return_tensors=\"pt\").input_ids\n",
        "      input_ids = input_ids.to(\"cuda\")\n",
        "\n",
        "      instruct_model_outputs = instruct_model.generate(input_ids=input_ids, generation_config=GenerationConfig(max_new_tokens=200))\n",
        "      original_model_text_output = tokenizer.decode(instruct_model_outputs[0], skip_special_tokens=True)\n",
        "      finetuned_model_summaries.append(original_model_text_output)\n",
        "\n",
        "  zipped_summaries = list(zip(human_baseline_summaries,finetuned_model_summaries))\n",
        "\n",
        "  df = pd.DataFrame(zipped_summaries, columns = ['human_baseline_summaries','finetuned_model_summaries'])\n",
        "\n",
        "  print(df.head())\n",
        "\n",
        "  return df\n"
      ],
      "metadata": {
        "id": "nXViAi3QledA"
      },
      "execution_count": 35,
      "outputs": []
    },
    {
      "cell_type": "code",
      "source": [
        "inference_df = generate_test_set_inference(dataset, instruct_model, NER_START_PROMPT_2, NER_END_PROMPT_2)"
      ],
      "metadata": {
        "id": "Q99I9hHsnm1Y",
        "colab": {
          "base_uri": "https://localhost:8080/",
          "height": 275,
          "referenced_widgets": [
            "54a18dbc007848cf9812512562761adf",
            "9c2ea6ec90464f81aeef86ba1df47e8f",
            "034e63b4337a4404834420a783f824da",
            "4b9c975c746f428db07ca9a30691a5fe",
            "4ce179d0dba84b44b34f915c0bbaa995",
            "ad290dc6c54c4f60b97cf50c4e7f67b5",
            "25384769846448d6889b1934df4e4af6",
            "62cc0f3fd17e4ee6961b6d5a4e3539fe",
            "dda9201e6bc948e688b3503c2c2f5da2",
            "d77991f47b9046f587ea09ff3268a8da",
            "45591ed9ea264034831223f57cbf9528"
          ]
        },
        "outputId": "ef7a3dfb-c343-4677-9d20-f5eb99cdc0dd"
      },
      "execution_count": 36,
      "outputs": [
        {
          "output_type": "display_data",
          "data": {
            "text/plain": [
              "  0%|          | 0/150 [00:00<?, ?it/s]"
            ],
            "application/vnd.jupyter.widget-view+json": {
              "version_major": 2,
              "version_minor": 0,
              "model_id": "54a18dbc007848cf9812512562761adf"
            }
          },
          "metadata": {
            "application/vnd.jupyter.widget-view+json": {
              "colab": {
                "custom_widget_manager": {
                  "url": "https://ssl.gstatic.com/colaboratory-static/widgets/colab-cdn-widget-manager/2b70e893a8ba7c0f/manager.min.js"
                }
              }
            }
          }
        },
        {
          "output_type": "stream",
          "name": "stdout",
          "text": [
            "                            human_baseline_summaries  \\\n",
            "0  How can i get rid of a lower lip birthmark per...   \n",
            "1       Is Magnesium Silicofluoride safe for people?   \n",
            "2                      Could RhoGAM damage the baby?   \n",
            "3  Could hydroxychloroquine and methotrexate make...   \n",
            "4  Is there a relationship between Gadolinium and...   \n",
            "\n",
            "                           finetuned_model_summaries  \n",
            "0   What are the treatments for lower lip birthmark?  \n",
            "1  What are the treatments for moth infestation o...  \n",
            "2  What are the causes of RH-related mental illne...  \n",
            "3  What are the treatments for rheumatoid arthritis?  \n",
            "4  What are the symptoms of Multiple Chemical Sen...  \n"
          ]
        }
      ]
    },
    {
      "cell_type": "code",
      "source": [
        "inference_df.head()"
      ],
      "metadata": {
        "id": "Jez3kcnhkpQ5",
        "colab": {
          "base_uri": "https://localhost:8080/",
          "height": 206
        },
        "outputId": "d3c17205-f534-4fbb-a51e-2b723442c85f"
      },
      "execution_count": 37,
      "outputs": [
        {
          "output_type": "execute_result",
          "data": {
            "text/plain": [
              "                            human_baseline_summaries  \\\n",
              "0  How can i get rid of a lower lip birthmark per...   \n",
              "1       Is Magnesium Silicofluoride safe for people?   \n",
              "2                      Could RhoGAM damage the baby?   \n",
              "3  Could hydroxychloroquine and methotrexate make...   \n",
              "4  Is there a relationship between Gadolinium and...   \n",
              "\n",
              "                           finetuned_model_summaries  \n",
              "0   What are the treatments for lower lip birthmark?  \n",
              "1  What are the treatments for moth infestation o...  \n",
              "2  What are the causes of RH-related mental illne...  \n",
              "3  What are the treatments for rheumatoid arthritis?  \n",
              "4  What are the symptoms of Multiple Chemical Sen...  "
            ],
            "text/html": [
              "\n",
              "  <div id=\"df-17c38877-99fc-4332-acd2-fc1bddd526b7\" class=\"colab-df-container\">\n",
              "    <div>\n",
              "<style scoped>\n",
              "    .dataframe tbody tr th:only-of-type {\n",
              "        vertical-align: middle;\n",
              "    }\n",
              "\n",
              "    .dataframe tbody tr th {\n",
              "        vertical-align: top;\n",
              "    }\n",
              "\n",
              "    .dataframe thead th {\n",
              "        text-align: right;\n",
              "    }\n",
              "</style>\n",
              "<table border=\"1\" class=\"dataframe\">\n",
              "  <thead>\n",
              "    <tr style=\"text-align: right;\">\n",
              "      <th></th>\n",
              "      <th>human_baseline_summaries</th>\n",
              "      <th>finetuned_model_summaries</th>\n",
              "    </tr>\n",
              "  </thead>\n",
              "  <tbody>\n",
              "    <tr>\n",
              "      <th>0</th>\n",
              "      <td>How can i get rid of a lower lip birthmark per...</td>\n",
              "      <td>What are the treatments for lower lip birthmark?</td>\n",
              "    </tr>\n",
              "    <tr>\n",
              "      <th>1</th>\n",
              "      <td>Is Magnesium Silicofluoride safe for people?</td>\n",
              "      <td>What are the treatments for moth infestation o...</td>\n",
              "    </tr>\n",
              "    <tr>\n",
              "      <th>2</th>\n",
              "      <td>Could RhoGAM damage the baby?</td>\n",
              "      <td>What are the causes of RH-related mental illne...</td>\n",
              "    </tr>\n",
              "    <tr>\n",
              "      <th>3</th>\n",
              "      <td>Could hydroxychloroquine and methotrexate make...</td>\n",
              "      <td>What are the treatments for rheumatoid arthritis?</td>\n",
              "    </tr>\n",
              "    <tr>\n",
              "      <th>4</th>\n",
              "      <td>Is there a relationship between Gadolinium and...</td>\n",
              "      <td>What are the symptoms of Multiple Chemical Sen...</td>\n",
              "    </tr>\n",
              "  </tbody>\n",
              "</table>\n",
              "</div>\n",
              "    <div class=\"colab-df-buttons\">\n",
              "\n",
              "  <div class=\"colab-df-container\">\n",
              "    <button class=\"colab-df-convert\" onclick=\"convertToInteractive('df-17c38877-99fc-4332-acd2-fc1bddd526b7')\"\n",
              "            title=\"Convert this dataframe to an interactive table.\"\n",
              "            style=\"display:none;\">\n",
              "\n",
              "  <svg xmlns=\"http://www.w3.org/2000/svg\" height=\"24px\" viewBox=\"0 -960 960 960\">\n",
              "    <path d=\"M120-120v-720h720v720H120Zm60-500h600v-160H180v160Zm220 220h160v-160H400v160Zm0 220h160v-160H400v160ZM180-400h160v-160H180v160Zm440 0h160v-160H620v160ZM180-180h160v-160H180v160Zm440 0h160v-160H620v160Z\"/>\n",
              "  </svg>\n",
              "    </button>\n",
              "\n",
              "  <style>\n",
              "    .colab-df-container {\n",
              "      display:flex;\n",
              "      gap: 12px;\n",
              "    }\n",
              "\n",
              "    .colab-df-convert {\n",
              "      background-color: #E8F0FE;\n",
              "      border: none;\n",
              "      border-radius: 50%;\n",
              "      cursor: pointer;\n",
              "      display: none;\n",
              "      fill: #1967D2;\n",
              "      height: 32px;\n",
              "      padding: 0 0 0 0;\n",
              "      width: 32px;\n",
              "    }\n",
              "\n",
              "    .colab-df-convert:hover {\n",
              "      background-color: #E2EBFA;\n",
              "      box-shadow: 0px 1px 2px rgba(60, 64, 67, 0.3), 0px 1px 3px 1px rgba(60, 64, 67, 0.15);\n",
              "      fill: #174EA6;\n",
              "    }\n",
              "\n",
              "    .colab-df-buttons div {\n",
              "      margin-bottom: 4px;\n",
              "    }\n",
              "\n",
              "    [theme=dark] .colab-df-convert {\n",
              "      background-color: #3B4455;\n",
              "      fill: #D2E3FC;\n",
              "    }\n",
              "\n",
              "    [theme=dark] .colab-df-convert:hover {\n",
              "      background-color: #434B5C;\n",
              "      box-shadow: 0px 1px 3px 1px rgba(0, 0, 0, 0.15);\n",
              "      filter: drop-shadow(0px 1px 2px rgba(0, 0, 0, 0.3));\n",
              "      fill: #FFFFFF;\n",
              "    }\n",
              "  </style>\n",
              "\n",
              "    <script>\n",
              "      const buttonEl =\n",
              "        document.querySelector('#df-17c38877-99fc-4332-acd2-fc1bddd526b7 button.colab-df-convert');\n",
              "      buttonEl.style.display =\n",
              "        google.colab.kernel.accessAllowed ? 'block' : 'none';\n",
              "\n",
              "      async function convertToInteractive(key) {\n",
              "        const element = document.querySelector('#df-17c38877-99fc-4332-acd2-fc1bddd526b7');\n",
              "        const dataTable =\n",
              "          await google.colab.kernel.invokeFunction('convertToInteractive',\n",
              "                                                    [key], {});\n",
              "        if (!dataTable) return;\n",
              "\n",
              "        const docLinkHtml = 'Like what you see? Visit the ' +\n",
              "          '<a target=\"_blank\" href=https://colab.research.google.com/notebooks/data_table.ipynb>data table notebook</a>'\n",
              "          + ' to learn more about interactive tables.';\n",
              "        element.innerHTML = '';\n",
              "        dataTable['output_type'] = 'display_data';\n",
              "        await google.colab.output.renderOutput(dataTable, element);\n",
              "        const docLink = document.createElement('div');\n",
              "        docLink.innerHTML = docLinkHtml;\n",
              "        element.appendChild(docLink);\n",
              "      }\n",
              "    </script>\n",
              "  </div>\n",
              "\n",
              "\n",
              "<div id=\"df-c1a2c333-8fa1-4e45-af85-0b31db5d0284\">\n",
              "  <button class=\"colab-df-quickchart\" onclick=\"quickchart('df-c1a2c333-8fa1-4e45-af85-0b31db5d0284')\"\n",
              "            title=\"Suggest charts\"\n",
              "            style=\"display:none;\">\n",
              "\n",
              "<svg xmlns=\"http://www.w3.org/2000/svg\" height=\"24px\"viewBox=\"0 0 24 24\"\n",
              "     width=\"24px\">\n",
              "    <g>\n",
              "        <path d=\"M19 3H5c-1.1 0-2 .9-2 2v14c0 1.1.9 2 2 2h14c1.1 0 2-.9 2-2V5c0-1.1-.9-2-2-2zM9 17H7v-7h2v7zm4 0h-2V7h2v10zm4 0h-2v-4h2v4z\"/>\n",
              "    </g>\n",
              "</svg>\n",
              "  </button>\n",
              "\n",
              "<style>\n",
              "  .colab-df-quickchart {\n",
              "      --bg-color: #E8F0FE;\n",
              "      --fill-color: #1967D2;\n",
              "      --hover-bg-color: #E2EBFA;\n",
              "      --hover-fill-color: #174EA6;\n",
              "      --disabled-fill-color: #AAA;\n",
              "      --disabled-bg-color: #DDD;\n",
              "  }\n",
              "\n",
              "  [theme=dark] .colab-df-quickchart {\n",
              "      --bg-color: #3B4455;\n",
              "      --fill-color: #D2E3FC;\n",
              "      --hover-bg-color: #434B5C;\n",
              "      --hover-fill-color: #FFFFFF;\n",
              "      --disabled-bg-color: #3B4455;\n",
              "      --disabled-fill-color: #666;\n",
              "  }\n",
              "\n",
              "  .colab-df-quickchart {\n",
              "    background-color: var(--bg-color);\n",
              "    border: none;\n",
              "    border-radius: 50%;\n",
              "    cursor: pointer;\n",
              "    display: none;\n",
              "    fill: var(--fill-color);\n",
              "    height: 32px;\n",
              "    padding: 0;\n",
              "    width: 32px;\n",
              "  }\n",
              "\n",
              "  .colab-df-quickchart:hover {\n",
              "    background-color: var(--hover-bg-color);\n",
              "    box-shadow: 0 1px 2px rgba(60, 64, 67, 0.3), 0 1px 3px 1px rgba(60, 64, 67, 0.15);\n",
              "    fill: var(--button-hover-fill-color);\n",
              "  }\n",
              "\n",
              "  .colab-df-quickchart-complete:disabled,\n",
              "  .colab-df-quickchart-complete:disabled:hover {\n",
              "    background-color: var(--disabled-bg-color);\n",
              "    fill: var(--disabled-fill-color);\n",
              "    box-shadow: none;\n",
              "  }\n",
              "\n",
              "  .colab-df-spinner {\n",
              "    border: 2px solid var(--fill-color);\n",
              "    border-color: transparent;\n",
              "    border-bottom-color: var(--fill-color);\n",
              "    animation:\n",
              "      spin 1s steps(1) infinite;\n",
              "  }\n",
              "\n",
              "  @keyframes spin {\n",
              "    0% {\n",
              "      border-color: transparent;\n",
              "      border-bottom-color: var(--fill-color);\n",
              "      border-left-color: var(--fill-color);\n",
              "    }\n",
              "    20% {\n",
              "      border-color: transparent;\n",
              "      border-left-color: var(--fill-color);\n",
              "      border-top-color: var(--fill-color);\n",
              "    }\n",
              "    30% {\n",
              "      border-color: transparent;\n",
              "      border-left-color: var(--fill-color);\n",
              "      border-top-color: var(--fill-color);\n",
              "      border-right-color: var(--fill-color);\n",
              "    }\n",
              "    40% {\n",
              "      border-color: transparent;\n",
              "      border-right-color: var(--fill-color);\n",
              "      border-top-color: var(--fill-color);\n",
              "    }\n",
              "    60% {\n",
              "      border-color: transparent;\n",
              "      border-right-color: var(--fill-color);\n",
              "    }\n",
              "    80% {\n",
              "      border-color: transparent;\n",
              "      border-right-color: var(--fill-color);\n",
              "      border-bottom-color: var(--fill-color);\n",
              "    }\n",
              "    90% {\n",
              "      border-color: transparent;\n",
              "      border-bottom-color: var(--fill-color);\n",
              "    }\n",
              "  }\n",
              "</style>\n",
              "\n",
              "  <script>\n",
              "    async function quickchart(key) {\n",
              "      const quickchartButtonEl =\n",
              "        document.querySelector('#' + key + ' button');\n",
              "      quickchartButtonEl.disabled = true;  // To prevent multiple clicks.\n",
              "      quickchartButtonEl.classList.add('colab-df-spinner');\n",
              "      try {\n",
              "        const charts = await google.colab.kernel.invokeFunction(\n",
              "            'suggestCharts', [key], {});\n",
              "      } catch (error) {\n",
              "        console.error('Error during call to suggestCharts:', error);\n",
              "      }\n",
              "      quickchartButtonEl.classList.remove('colab-df-spinner');\n",
              "      quickchartButtonEl.classList.add('colab-df-quickchart-complete');\n",
              "    }\n",
              "    (() => {\n",
              "      let quickchartButtonEl =\n",
              "        document.querySelector('#df-c1a2c333-8fa1-4e45-af85-0b31db5d0284 button');\n",
              "      quickchartButtonEl.style.display =\n",
              "        google.colab.kernel.accessAllowed ? 'block' : 'none';\n",
              "    })();\n",
              "  </script>\n",
              "</div>\n",
              "\n",
              "    </div>\n",
              "  </div>\n"
            ],
            "application/vnd.google.colaboratory.intrinsic+json": {
              "type": "dataframe",
              "variable_name": "inference_df",
              "summary": "{\n  \"name\": \"inference_df\",\n  \"rows\": 150,\n  \"fields\": [\n    {\n      \"column\": \"human_baseline_summaries\",\n      \"properties\": {\n        \"dtype\": \"string\",\n        \"num_unique_values\": 150,\n        \"samples\": [\n          \"What could cause fatigue, vomiting and low blood pressure in a 65 year old man with history of heart disease who is taking coumadin, beta-blockers, diuretics, ACE inhibitors and supplements? \",\n          \"Can a heart stent alleviate knee pain?\",\n          \"Is there a cure for fish odor syndrome?\"\n        ],\n        \"semantic_type\": \"\",\n        \"description\": \"\"\n      }\n    },\n    {\n      \"column\": \"finetuned_model_summaries\",\n      \"properties\": {\n        \"dtype\": \"string\",\n        \"num_unique_values\": 148,\n        \"samples\": [\n          \"What are the causes of kidney failure?\",\n          \"What are the treatments for a weakened colon?\",\n          \"What are the treatments for Hirschsprung's Disease?\"\n        ],\n        \"semantic_type\": \"\",\n        \"description\": \"\"\n      }\n    }\n  ]\n}"
            }
          },
          "metadata": {},
          "execution_count": 37
        }
      ]
    },
    {
      "cell_type": "code",
      "source": [
        "rogue_score = compute_rogue_metric(inference_df)\n",
        "bleu_score = compute_bleu_metric(inference_df)\n",
        "bert_score_precision, bert_score_recall, bert_score_f1  = compute_bert_score(inference_df)"
      ],
      "metadata": {
        "id": "aDzxAhqtopZx",
        "colab": {
          "base_uri": "https://localhost:8080/"
        },
        "outputId": "657b1155-9920-4b38-b18d-6bcb955fc334"
      },
      "execution_count": 38,
      "outputs": [
        {
          "output_type": "stream",
          "name": "stderr",
          "text": [
            "Some weights of RobertaModel were not initialized from the model checkpoint at roberta-large and are newly initialized: ['roberta.pooler.dense.bias', 'roberta.pooler.dense.weight']\n",
            "You should probably TRAIN this model on a down-stream task to be able to use it for predictions and inference.\n"
          ]
        }
      ]
    },
    {
      "cell_type": "code",
      "source": [
        "print(f'ROGUE SCORE: {rogue_score}')\n",
        "print(f'BLEU SCORE: {bleu_score}')\n",
        "print(f'BERT SCORE: PRECISION: {bert_score_precision}, RECALL: {bert_score_recall}, F1: {bert_score_f1}')"
      ],
      "metadata": {
        "id": "kryAFZ5Lom0T",
        "colab": {
          "base_uri": "https://localhost:8080/"
        },
        "outputId": "2fa85adb-0fed-4993-ce33-0f59ece16e87"
      },
      "execution_count": 39,
      "outputs": [
        {
          "output_type": "stream",
          "name": "stdout",
          "text": [
            "ROGUE SCORE: {'rouge1': 0.27600856079934744, 'rouge2': 0.10741795275255708, 'rougeL': 0.26235237645503284, 'rougeLsum': 0.26230764932797956}\n",
            "BLEU SCORE: 0.07061317883905567\n",
            "BERT SCORE: PRECISION: 0.9067013263702393, RECALL: 0.8911650776863098, F1: 0.8986525535583496\n"
          ]
        }
      ]
    },
    {
      "cell_type": "code",
      "source": [
        "with wandb.init(project=PROJECT, id=WANDB_ID, resume=\"allow\"):\n",
        "  wandb.log({\"rogue_score\": rogue_score})\n",
        "  wandb.log({\"bleu_score\": bleu_score})\n",
        "  wandb.log({\"bert_score_precision\": bert_score_precision})\n",
        "  wandb.log({\"bert_score_recall\": bert_score_recall})\n",
        "  wandb.log({\"bert_score_f1\": bert_score_f1})\n"
      ],
      "metadata": {
        "id": "4TdF-lzJlRiQ",
        "colab": {
          "base_uri": "https://localhost:8080/",
          "height": 647,
          "referenced_widgets": [
            "d161a18e1d134b199aa6ddf021e81007",
            "e4f3c6d1d30d490fb9705739b3fb0511",
            "78c70af4a5574e7990e4369732789d71",
            "f83949bed63a488d8a57e104d0419176",
            "c83476ceed40475aa2ac8265d71fc024",
            "280d181262094c1ca2bdef36b06338eb",
            "c084a77344e143d2b227d9cf8644808f",
            "d166e9ec19664f7a9cafea24222a2a0b"
          ]
        },
        "outputId": "effb3f47-b7b2-44ce-b642-6ec194e7168e"
      },
      "execution_count": 40,
      "outputs": [
        {
          "output_type": "display_data",
          "data": {
            "text/plain": [
              "<IPython.core.display.HTML object>"
            ],
            "text/html": [
              "Tracking run with wandb version 0.16.6"
            ]
          },
          "metadata": {}
        },
        {
          "output_type": "display_data",
          "data": {
            "text/plain": [
              "<IPython.core.display.HTML object>"
            ],
            "text/html": [
              "Run data is saved locally in <code>/content/wandb/run-20240420_081046-NER_seq2seq_2</code>"
            ]
          },
          "metadata": {}
        },
        {
          "output_type": "display_data",
          "data": {
            "text/plain": [
              "<IPython.core.display.HTML object>"
            ],
            "text/html": [
              "Resuming run <strong><a href='https://wandb.ai/ajwadakil/FlanT5-Lora/runs/NER_seq2seq_2' target=\"_blank\">NER_seq2seq_2</a></strong> to <a href='https://wandb.ai/ajwadakil/FlanT5-Lora' target=\"_blank\">Weights & Biases</a> (<a href='https://wandb.me/run' target=\"_blank\">docs</a>)<br/>"
            ]
          },
          "metadata": {}
        },
        {
          "output_type": "display_data",
          "data": {
            "text/plain": [
              "<IPython.core.display.HTML object>"
            ],
            "text/html": [
              " View project at <a href='https://wandb.ai/ajwadakil/FlanT5-Lora' target=\"_blank\">https://wandb.ai/ajwadakil/FlanT5-Lora</a>"
            ]
          },
          "metadata": {}
        },
        {
          "output_type": "display_data",
          "data": {
            "text/plain": [
              "<IPython.core.display.HTML object>"
            ],
            "text/html": [
              " View run at <a href='https://wandb.ai/ajwadakil/FlanT5-Lora/runs/NER_seq2seq_2' target=\"_blank\">https://wandb.ai/ajwadakil/FlanT5-Lora/runs/NER_seq2seq_2</a>"
            ]
          },
          "metadata": {}
        },
        {
          "output_type": "display_data",
          "data": {
            "text/plain": [
              "VBox(children=(Label(value='0.020 MB of 0.020 MB uploaded\\r'), FloatProgress(value=1.0, max=1.0)))"
            ],
            "application/vnd.jupyter.widget-view+json": {
              "version_major": 2,
              "version_minor": 0,
              "model_id": "d161a18e1d134b199aa6ddf021e81007"
            }
          },
          "metadata": {
            "application/vnd.jupyter.widget-view+json": {
              "colab": {
                "custom_widget_manager": {
                  "url": "https://ssl.gstatic.com/colaboratory-static/widgets/colab-cdn-widget-manager/2b70e893a8ba7c0f/manager.min.js"
                }
              }
            }
          }
        },
        {
          "output_type": "display_data",
          "data": {
            "text/plain": [
              "<IPython.core.display.HTML object>"
            ],
            "text/html": [
              "<style>\n",
              "    table.wandb td:nth-child(1) { padding: 0 10px; text-align: left ; width: auto;} td:nth-child(2) {text-align: left ; width: 100%}\n",
              "    .wandb-row { display: flex; flex-direction: row; flex-wrap: wrap; justify-content: flex-start; width: 100% }\n",
              "    .wandb-col { display: flex; flex-direction: column; flex-basis: 100%; flex: 1; padding: 10px; }\n",
              "    </style>\n",
              "<div class=\"wandb-row\"><div class=\"wandb-col\"><h3>Run history:</h3><br/><table class=\"wandb\"><tr><td>bert_score_f1</td><td>▁</td></tr><tr><td>bert_score_precision</td><td>▁</td></tr><tr><td>bert_score_recall</td><td>▁</td></tr><tr><td>bleu_score</td><td>▁</td></tr></table><br/></div><div class=\"wandb-col\"><h3>Run summary:</h3><br/><table class=\"wandb\"><tr><td>bert_score_f1</td><td>0.89865</td></tr><tr><td>bert_score_precision</td><td>0.9067</td></tr><tr><td>bert_score_recall</td><td>0.89117</td></tr><tr><td>bleu_score</td><td>0.07061</td></tr><tr><td>eval/loss</td><td>0.06761</td></tr><tr><td>eval/runtime</td><td>1.2332</td></tr><tr><td>eval/samples_per_second</td><td>40.545</td></tr><tr><td>eval/steps_per_second</td><td>5.676</td></tr><tr><td>train/epoch</td><td>29.76</td></tr><tr><td>train/global_step</td><td>930</td></tr><tr><td>train/grad_norm</td><td>0.75781</td></tr><tr><td>train/learning_rate</td><td>0</td></tr><tr><td>train/loss</td><td>0.0863</td></tr><tr><td>train/total_flos</td><td>2.037837880885248e+16</td></tr><tr><td>train/train_loss</td><td>8.10915</td></tr><tr><td>train/train_runtime</td><td>2521.0542</td></tr><tr><td>train/train_samples_per_second</td><td>11.9</td></tr><tr><td>train/train_steps_per_second</td><td>0.369</td></tr></table><br/></div></div>"
            ]
          },
          "metadata": {}
        },
        {
          "output_type": "display_data",
          "data": {
            "text/plain": [
              "<IPython.core.display.HTML object>"
            ],
            "text/html": [
              " View run <strong style=\"color:#cdcd00\">NER_seq2seq_2</strong> at: <a href='https://wandb.ai/ajwadakil/FlanT5-Lora/runs/NER_seq2seq_2' target=\"_blank\">https://wandb.ai/ajwadakil/FlanT5-Lora/runs/NER_seq2seq_2</a><br/> View project at: <a href='https://wandb.ai/ajwadakil/FlanT5-Lora' target=\"_blank\">https://wandb.ai/ajwadakil/FlanT5-Lora</a><br/>Synced 3 W&B file(s), 0 media file(s), 0 artifact file(s) and 0 other file(s)"
            ]
          },
          "metadata": {}
        },
        {
          "output_type": "display_data",
          "data": {
            "text/plain": [
              "<IPython.core.display.HTML object>"
            ],
            "text/html": [
              "Find logs at: <code>./wandb/run-20240420_081046-NER_seq2seq_2/logs</code>"
            ]
          },
          "metadata": {}
        }
      ]
    },
    {
      "cell_type": "markdown",
      "source": [
        "## Logging Test Set scores and inference to wandb"
      ],
      "metadata": {
        "id": "pbJQUK72hvvQ"
      }
    },
    {
      "cell_type": "code",
      "source": [
        "with wandb.init(project=PROJECT, id=WANDB_ID, job_type=\"dataset\", resume=\"allow\"):\n",
        "   wbtest_inference = wandb.Table(data=inference_df)\n",
        "   wandb.log({\"meqsum_test_inference\": wbtest_inference})"
      ],
      "metadata": {
        "id": "LNf49uW7hy4c",
        "colab": {
          "base_uri": "https://localhost:8080/",
          "height": 647,
          "referenced_widgets": [
            "33ec795fa5944d7bb606781659dae5ca",
            "9087ae1715cc4738acdabdfad6f95af9",
            "b12fd7b599384334b48b52ca342932ed",
            "5b72edaa80ef419f9ba08ca275317c46",
            "eb98d138012d4acab8822328c450ece7",
            "4d37c894d3a34a45808bea703a39492c",
            "57cab219be5449618db4f41cf88e1a45",
            "a0fac307006c4d7fa721c87b77593d44"
          ]
        },
        "outputId": "1670d251-5ebd-4c91-dd53-4851e190ef34"
      },
      "execution_count": 41,
      "outputs": [
        {
          "output_type": "display_data",
          "data": {
            "text/plain": [
              "<IPython.core.display.HTML object>"
            ],
            "text/html": [
              "Tracking run with wandb version 0.16.6"
            ]
          },
          "metadata": {}
        },
        {
          "output_type": "display_data",
          "data": {
            "text/plain": [
              "<IPython.core.display.HTML object>"
            ],
            "text/html": [
              "Run data is saved locally in <code>/content/wandb/run-20240420_081050-NER_seq2seq_2</code>"
            ]
          },
          "metadata": {}
        },
        {
          "output_type": "display_data",
          "data": {
            "text/plain": [
              "<IPython.core.display.HTML object>"
            ],
            "text/html": [
              "Resuming run <strong><a href='https://wandb.ai/ajwadakil/FlanT5-Lora/runs/NER_seq2seq_2' target=\"_blank\">NER_seq2seq_2</a></strong> to <a href='https://wandb.ai/ajwadakil/FlanT5-Lora' target=\"_blank\">Weights & Biases</a> (<a href='https://wandb.me/run' target=\"_blank\">docs</a>)<br/>"
            ]
          },
          "metadata": {}
        },
        {
          "output_type": "display_data",
          "data": {
            "text/plain": [
              "<IPython.core.display.HTML object>"
            ],
            "text/html": [
              " View project at <a href='https://wandb.ai/ajwadakil/FlanT5-Lora' target=\"_blank\">https://wandb.ai/ajwadakil/FlanT5-Lora</a>"
            ]
          },
          "metadata": {}
        },
        {
          "output_type": "display_data",
          "data": {
            "text/plain": [
              "<IPython.core.display.HTML object>"
            ],
            "text/html": [
              " View run at <a href='https://wandb.ai/ajwadakil/FlanT5-Lora/runs/NER_seq2seq_2' target=\"_blank\">https://wandb.ai/ajwadakil/FlanT5-Lora/runs/NER_seq2seq_2</a>"
            ]
          },
          "metadata": {}
        },
        {
          "output_type": "display_data",
          "data": {
            "text/plain": [
              "VBox(children=(Label(value='0.037 MB of 0.037 MB uploaded\\r'), FloatProgress(value=1.0, max=1.0)))"
            ],
            "application/vnd.jupyter.widget-view+json": {
              "version_major": 2,
              "version_minor": 0,
              "model_id": "33ec795fa5944d7bb606781659dae5ca"
            }
          },
          "metadata": {
            "application/vnd.jupyter.widget-view+json": {
              "colab": {
                "custom_widget_manager": {
                  "url": "https://ssl.gstatic.com/colaboratory-static/widgets/colab-cdn-widget-manager/2b70e893a8ba7c0f/manager.min.js"
                }
              }
            }
          }
        },
        {
          "output_type": "display_data",
          "data": {
            "text/plain": [
              "<IPython.core.display.HTML object>"
            ],
            "text/html": [
              "<style>\n",
              "    table.wandb td:nth-child(1) { padding: 0 10px; text-align: left ; width: auto;} td:nth-child(2) {text-align: left ; width: 100%}\n",
              "    .wandb-row { display: flex; flex-direction: row; flex-wrap: wrap; justify-content: flex-start; width: 100% }\n",
              "    .wandb-col { display: flex; flex-direction: column; flex-basis: 100%; flex: 1; padding: 10px; }\n",
              "    </style>\n",
              "<div class=\"wandb-row\"><div class=\"wandb-col\"><h3>Run summary:</h3><br/><table class=\"wandb\"><tr><td>bert_score_f1</td><td>0.89865</td></tr><tr><td>bert_score_precision</td><td>0.9067</td></tr><tr><td>bert_score_recall</td><td>0.89117</td></tr><tr><td>bleu_score</td><td>0.07061</td></tr><tr><td>eval/loss</td><td>0.06761</td></tr><tr><td>eval/runtime</td><td>1.2332</td></tr><tr><td>eval/samples_per_second</td><td>40.545</td></tr><tr><td>eval/steps_per_second</td><td>5.676</td></tr><tr><td>train/epoch</td><td>29.76</td></tr><tr><td>train/global_step</td><td>930</td></tr><tr><td>train/grad_norm</td><td>0.75781</td></tr><tr><td>train/learning_rate</td><td>0</td></tr><tr><td>train/loss</td><td>0.0863</td></tr><tr><td>train/total_flos</td><td>2.037837880885248e+16</td></tr><tr><td>train/train_loss</td><td>8.10915</td></tr><tr><td>train/train_runtime</td><td>2521.0542</td></tr><tr><td>train/train_samples_per_second</td><td>11.9</td></tr><tr><td>train/train_steps_per_second</td><td>0.369</td></tr></table><br/></div></div>"
            ]
          },
          "metadata": {}
        },
        {
          "output_type": "display_data",
          "data": {
            "text/plain": [
              "<IPython.core.display.HTML object>"
            ],
            "text/html": [
              " View run <strong style=\"color:#cdcd00\">NER_seq2seq_2</strong> at: <a href='https://wandb.ai/ajwadakil/FlanT5-Lora/runs/NER_seq2seq_2' target=\"_blank\">https://wandb.ai/ajwadakil/FlanT5-Lora/runs/NER_seq2seq_2</a><br/> View project at: <a href='https://wandb.ai/ajwadakil/FlanT5-Lora' target=\"_blank\">https://wandb.ai/ajwadakil/FlanT5-Lora</a><br/>Synced 3 W&B file(s), 1 media file(s), 1 artifact file(s) and 0 other file(s)"
            ]
          },
          "metadata": {}
        },
        {
          "output_type": "display_data",
          "data": {
            "text/plain": [
              "<IPython.core.display.HTML object>"
            ],
            "text/html": [
              "Find logs at: <code>./wandb/run-20240420_081050-NER_seq2seq_2/logs</code>"
            ]
          },
          "metadata": {}
        }
      ]
    },
    {
      "cell_type": "code",
      "source": [],
      "metadata": {
        "id": "GaiBOz36mCOW"
      },
      "execution_count": 41,
      "outputs": []
    }
  ],
  "metadata": {
    "language_info": {
      "name": "python"
    },
    "colab": {
      "provenance": [],
      "gpuType": "L4",
      "machine_shape": "hm"
    },
    "kernelspec": {
      "name": "python3",
      "display_name": "Python 3"
    },
    "accelerator": "GPU",
    "widgets": {
      "application/vnd.jupyter.widget-state+json": {
        "5f757a7859b7449cb932970dcc67247d": {
          "model_module": "@jupyter-widgets/controls",
          "model_name": "HBoxModel",
          "model_module_version": "1.5.0",
          "state": {
            "_dom_classes": [],
            "_model_module": "@jupyter-widgets/controls",
            "_model_module_version": "1.5.0",
            "_model_name": "HBoxModel",
            "_view_count": null,
            "_view_module": "@jupyter-widgets/controls",
            "_view_module_version": "1.5.0",
            "_view_name": "HBoxView",
            "box_style": "",
            "children": [
              "IPY_MODEL_6373ba11848a48e289f0f330ad9cfba2",
              "IPY_MODEL_ad5281bdc5f54381b40fc1d56ba87fe1",
              "IPY_MODEL_d74549e955b64f0a8275d0cb000c76e3"
            ],
            "layout": "IPY_MODEL_95a352b5f09b4c92bc80b38ea0e3674f"
          }
        },
        "6373ba11848a48e289f0f330ad9cfba2": {
          "model_module": "@jupyter-widgets/controls",
          "model_name": "HTMLModel",
          "model_module_version": "1.5.0",
          "state": {
            "_dom_classes": [],
            "_model_module": "@jupyter-widgets/controls",
            "_model_module_version": "1.5.0",
            "_model_name": "HTMLModel",
            "_view_count": null,
            "_view_module": "@jupyter-widgets/controls",
            "_view_module_version": "1.5.0",
            "_view_name": "HTMLView",
            "description": "",
            "description_tooltip": null,
            "layout": "IPY_MODEL_72146ed10e174216b9e86f4985b2638f",
            "placeholder": "​",
            "style": "IPY_MODEL_be71c3ac13b3492a9b4ffa8bf9033fe9",
            "value": "Map: 100%"
          }
        },
        "ad5281bdc5f54381b40fc1d56ba87fe1": {
          "model_module": "@jupyter-widgets/controls",
          "model_name": "FloatProgressModel",
          "model_module_version": "1.5.0",
          "state": {
            "_dom_classes": [],
            "_model_module": "@jupyter-widgets/controls",
            "_model_module_version": "1.5.0",
            "_model_name": "FloatProgressModel",
            "_view_count": null,
            "_view_module": "@jupyter-widgets/controls",
            "_view_module_version": "1.5.0",
            "_view_name": "ProgressView",
            "bar_style": "success",
            "description": "",
            "description_tooltip": null,
            "layout": "IPY_MODEL_f18765bee01b421ea265ff9588ca13cc",
            "max": 150,
            "min": 0,
            "orientation": "horizontal",
            "style": "IPY_MODEL_18fd2605762e497191c559c73b28fac3",
            "value": 150
          }
        },
        "d74549e955b64f0a8275d0cb000c76e3": {
          "model_module": "@jupyter-widgets/controls",
          "model_name": "HTMLModel",
          "model_module_version": "1.5.0",
          "state": {
            "_dom_classes": [],
            "_model_module": "@jupyter-widgets/controls",
            "_model_module_version": "1.5.0",
            "_model_name": "HTMLModel",
            "_view_count": null,
            "_view_module": "@jupyter-widgets/controls",
            "_view_module_version": "1.5.0",
            "_view_name": "HTMLView",
            "description": "",
            "description_tooltip": null,
            "layout": "IPY_MODEL_82e8201dba9a4ed38ef7387c3de94ae4",
            "placeholder": "​",
            "style": "IPY_MODEL_4346ea6251d9400a8665e95e373c572d",
            "value": " 150/150 [00:00&lt;00:00, 1317.34 examples/s]"
          }
        },
        "95a352b5f09b4c92bc80b38ea0e3674f": {
          "model_module": "@jupyter-widgets/base",
          "model_name": "LayoutModel",
          "model_module_version": "1.2.0",
          "state": {
            "_model_module": "@jupyter-widgets/base",
            "_model_module_version": "1.2.0",
            "_model_name": "LayoutModel",
            "_view_count": null,
            "_view_module": "@jupyter-widgets/base",
            "_view_module_version": "1.2.0",
            "_view_name": "LayoutView",
            "align_content": null,
            "align_items": null,
            "align_self": null,
            "border": null,
            "bottom": null,
            "display": null,
            "flex": null,
            "flex_flow": null,
            "grid_area": null,
            "grid_auto_columns": null,
            "grid_auto_flow": null,
            "grid_auto_rows": null,
            "grid_column": null,
            "grid_gap": null,
            "grid_row": null,
            "grid_template_areas": null,
            "grid_template_columns": null,
            "grid_template_rows": null,
            "height": null,
            "justify_content": null,
            "justify_items": null,
            "left": null,
            "margin": null,
            "max_height": null,
            "max_width": null,
            "min_height": null,
            "min_width": null,
            "object_fit": null,
            "object_position": null,
            "order": null,
            "overflow": null,
            "overflow_x": null,
            "overflow_y": null,
            "padding": null,
            "right": null,
            "top": null,
            "visibility": null,
            "width": null
          }
        },
        "72146ed10e174216b9e86f4985b2638f": {
          "model_module": "@jupyter-widgets/base",
          "model_name": "LayoutModel",
          "model_module_version": "1.2.0",
          "state": {
            "_model_module": "@jupyter-widgets/base",
            "_model_module_version": "1.2.0",
            "_model_name": "LayoutModel",
            "_view_count": null,
            "_view_module": "@jupyter-widgets/base",
            "_view_module_version": "1.2.0",
            "_view_name": "LayoutView",
            "align_content": null,
            "align_items": null,
            "align_self": null,
            "border": null,
            "bottom": null,
            "display": null,
            "flex": null,
            "flex_flow": null,
            "grid_area": null,
            "grid_auto_columns": null,
            "grid_auto_flow": null,
            "grid_auto_rows": null,
            "grid_column": null,
            "grid_gap": null,
            "grid_row": null,
            "grid_template_areas": null,
            "grid_template_columns": null,
            "grid_template_rows": null,
            "height": null,
            "justify_content": null,
            "justify_items": null,
            "left": null,
            "margin": null,
            "max_height": null,
            "max_width": null,
            "min_height": null,
            "min_width": null,
            "object_fit": null,
            "object_position": null,
            "order": null,
            "overflow": null,
            "overflow_x": null,
            "overflow_y": null,
            "padding": null,
            "right": null,
            "top": null,
            "visibility": null,
            "width": null
          }
        },
        "be71c3ac13b3492a9b4ffa8bf9033fe9": {
          "model_module": "@jupyter-widgets/controls",
          "model_name": "DescriptionStyleModel",
          "model_module_version": "1.5.0",
          "state": {
            "_model_module": "@jupyter-widgets/controls",
            "_model_module_version": "1.5.0",
            "_model_name": "DescriptionStyleModel",
            "_view_count": null,
            "_view_module": "@jupyter-widgets/base",
            "_view_module_version": "1.2.0",
            "_view_name": "StyleView",
            "description_width": ""
          }
        },
        "f18765bee01b421ea265ff9588ca13cc": {
          "model_module": "@jupyter-widgets/base",
          "model_name": "LayoutModel",
          "model_module_version": "1.2.0",
          "state": {
            "_model_module": "@jupyter-widgets/base",
            "_model_module_version": "1.2.0",
            "_model_name": "LayoutModel",
            "_view_count": null,
            "_view_module": "@jupyter-widgets/base",
            "_view_module_version": "1.2.0",
            "_view_name": "LayoutView",
            "align_content": null,
            "align_items": null,
            "align_self": null,
            "border": null,
            "bottom": null,
            "display": null,
            "flex": null,
            "flex_flow": null,
            "grid_area": null,
            "grid_auto_columns": null,
            "grid_auto_flow": null,
            "grid_auto_rows": null,
            "grid_column": null,
            "grid_gap": null,
            "grid_row": null,
            "grid_template_areas": null,
            "grid_template_columns": null,
            "grid_template_rows": null,
            "height": null,
            "justify_content": null,
            "justify_items": null,
            "left": null,
            "margin": null,
            "max_height": null,
            "max_width": null,
            "min_height": null,
            "min_width": null,
            "object_fit": null,
            "object_position": null,
            "order": null,
            "overflow": null,
            "overflow_x": null,
            "overflow_y": null,
            "padding": null,
            "right": null,
            "top": null,
            "visibility": null,
            "width": null
          }
        },
        "18fd2605762e497191c559c73b28fac3": {
          "model_module": "@jupyter-widgets/controls",
          "model_name": "ProgressStyleModel",
          "model_module_version": "1.5.0",
          "state": {
            "_model_module": "@jupyter-widgets/controls",
            "_model_module_version": "1.5.0",
            "_model_name": "ProgressStyleModel",
            "_view_count": null,
            "_view_module": "@jupyter-widgets/base",
            "_view_module_version": "1.2.0",
            "_view_name": "StyleView",
            "bar_color": null,
            "description_width": ""
          }
        },
        "82e8201dba9a4ed38ef7387c3de94ae4": {
          "model_module": "@jupyter-widgets/base",
          "model_name": "LayoutModel",
          "model_module_version": "1.2.0",
          "state": {
            "_model_module": "@jupyter-widgets/base",
            "_model_module_version": "1.2.0",
            "_model_name": "LayoutModel",
            "_view_count": null,
            "_view_module": "@jupyter-widgets/base",
            "_view_module_version": "1.2.0",
            "_view_name": "LayoutView",
            "align_content": null,
            "align_items": null,
            "align_self": null,
            "border": null,
            "bottom": null,
            "display": null,
            "flex": null,
            "flex_flow": null,
            "grid_area": null,
            "grid_auto_columns": null,
            "grid_auto_flow": null,
            "grid_auto_rows": null,
            "grid_column": null,
            "grid_gap": null,
            "grid_row": null,
            "grid_template_areas": null,
            "grid_template_columns": null,
            "grid_template_rows": null,
            "height": null,
            "justify_content": null,
            "justify_items": null,
            "left": null,
            "margin": null,
            "max_height": null,
            "max_width": null,
            "min_height": null,
            "min_width": null,
            "object_fit": null,
            "object_position": null,
            "order": null,
            "overflow": null,
            "overflow_x": null,
            "overflow_y": null,
            "padding": null,
            "right": null,
            "top": null,
            "visibility": null,
            "width": null
          }
        },
        "4346ea6251d9400a8665e95e373c572d": {
          "model_module": "@jupyter-widgets/controls",
          "model_name": "DescriptionStyleModel",
          "model_module_version": "1.5.0",
          "state": {
            "_model_module": "@jupyter-widgets/controls",
            "_model_module_version": "1.5.0",
            "_model_name": "DescriptionStyleModel",
            "_view_count": null,
            "_view_module": "@jupyter-widgets/base",
            "_view_module_version": "1.2.0",
            "_view_name": "StyleView",
            "description_width": ""
          }
        },
        "f78932d6a1ba4beea8344b5d1bc95de9": {
          "model_module": "@jupyter-widgets/controls",
          "model_name": "VBoxModel",
          "model_module_version": "1.5.0",
          "state": {
            "_dom_classes": [],
            "_model_module": "@jupyter-widgets/controls",
            "_model_module_version": "1.5.0",
            "_model_name": "VBoxModel",
            "_view_count": null,
            "_view_module": "@jupyter-widgets/controls",
            "_view_module_version": "1.5.0",
            "_view_name": "VBoxView",
            "box_style": "",
            "children": [
              "IPY_MODEL_8e4ab5f39a394f3d86a06f0fe54b5d5d",
              "IPY_MODEL_ecaaa21409114a5aa3b7fe6fddad617b"
            ],
            "layout": "IPY_MODEL_d25d4a3d7e8949f7bd4a4eede88a5522"
          }
        },
        "8e4ab5f39a394f3d86a06f0fe54b5d5d": {
          "model_module": "@jupyter-widgets/controls",
          "model_name": "LabelModel",
          "model_module_version": "1.5.0",
          "state": {
            "_dom_classes": [],
            "_model_module": "@jupyter-widgets/controls",
            "_model_module_version": "1.5.0",
            "_model_name": "LabelModel",
            "_view_count": null,
            "_view_module": "@jupyter-widgets/controls",
            "_view_module_version": "1.5.0",
            "_view_name": "LabelView",
            "description": "",
            "description_tooltip": null,
            "layout": "IPY_MODEL_6f63e8d20404457eaabc842700763f1f",
            "placeholder": "​",
            "style": "IPY_MODEL_51bf40918bdd4db099a1dfc01dfc2ef4",
            "value": "0.014 MB of 0.014 MB uploaded\r"
          }
        },
        "ecaaa21409114a5aa3b7fe6fddad617b": {
          "model_module": "@jupyter-widgets/controls",
          "model_name": "FloatProgressModel",
          "model_module_version": "1.5.0",
          "state": {
            "_dom_classes": [],
            "_model_module": "@jupyter-widgets/controls",
            "_model_module_version": "1.5.0",
            "_model_name": "FloatProgressModel",
            "_view_count": null,
            "_view_module": "@jupyter-widgets/controls",
            "_view_module_version": "1.5.0",
            "_view_name": "ProgressView",
            "bar_style": "",
            "description": "",
            "description_tooltip": null,
            "layout": "IPY_MODEL_fd8f08ff94f0494da51b9e6f0b50b3d0",
            "max": 1,
            "min": 0,
            "orientation": "horizontal",
            "style": "IPY_MODEL_e25df225ea02461eb69d491a9cd88c05",
            "value": 1
          }
        },
        "d25d4a3d7e8949f7bd4a4eede88a5522": {
          "model_module": "@jupyter-widgets/base",
          "model_name": "LayoutModel",
          "model_module_version": "1.2.0",
          "state": {
            "_model_module": "@jupyter-widgets/base",
            "_model_module_version": "1.2.0",
            "_model_name": "LayoutModel",
            "_view_count": null,
            "_view_module": "@jupyter-widgets/base",
            "_view_module_version": "1.2.0",
            "_view_name": "LayoutView",
            "align_content": null,
            "align_items": null,
            "align_self": null,
            "border": null,
            "bottom": null,
            "display": null,
            "flex": null,
            "flex_flow": null,
            "grid_area": null,
            "grid_auto_columns": null,
            "grid_auto_flow": null,
            "grid_auto_rows": null,
            "grid_column": null,
            "grid_gap": null,
            "grid_row": null,
            "grid_template_areas": null,
            "grid_template_columns": null,
            "grid_template_rows": null,
            "height": null,
            "justify_content": null,
            "justify_items": null,
            "left": null,
            "margin": null,
            "max_height": null,
            "max_width": null,
            "min_height": null,
            "min_width": null,
            "object_fit": null,
            "object_position": null,
            "order": null,
            "overflow": null,
            "overflow_x": null,
            "overflow_y": null,
            "padding": null,
            "right": null,
            "top": null,
            "visibility": null,
            "width": null
          }
        },
        "6f63e8d20404457eaabc842700763f1f": {
          "model_module": "@jupyter-widgets/base",
          "model_name": "LayoutModel",
          "model_module_version": "1.2.0",
          "state": {
            "_model_module": "@jupyter-widgets/base",
            "_model_module_version": "1.2.0",
            "_model_name": "LayoutModel",
            "_view_count": null,
            "_view_module": "@jupyter-widgets/base",
            "_view_module_version": "1.2.0",
            "_view_name": "LayoutView",
            "align_content": null,
            "align_items": null,
            "align_self": null,
            "border": null,
            "bottom": null,
            "display": null,
            "flex": null,
            "flex_flow": null,
            "grid_area": null,
            "grid_auto_columns": null,
            "grid_auto_flow": null,
            "grid_auto_rows": null,
            "grid_column": null,
            "grid_gap": null,
            "grid_row": null,
            "grid_template_areas": null,
            "grid_template_columns": null,
            "grid_template_rows": null,
            "height": null,
            "justify_content": null,
            "justify_items": null,
            "left": null,
            "margin": null,
            "max_height": null,
            "max_width": null,
            "min_height": null,
            "min_width": null,
            "object_fit": null,
            "object_position": null,
            "order": null,
            "overflow": null,
            "overflow_x": null,
            "overflow_y": null,
            "padding": null,
            "right": null,
            "top": null,
            "visibility": null,
            "width": null
          }
        },
        "51bf40918bdd4db099a1dfc01dfc2ef4": {
          "model_module": "@jupyter-widgets/controls",
          "model_name": "DescriptionStyleModel",
          "model_module_version": "1.5.0",
          "state": {
            "_model_module": "@jupyter-widgets/controls",
            "_model_module_version": "1.5.0",
            "_model_name": "DescriptionStyleModel",
            "_view_count": null,
            "_view_module": "@jupyter-widgets/base",
            "_view_module_version": "1.2.0",
            "_view_name": "StyleView",
            "description_width": ""
          }
        },
        "fd8f08ff94f0494da51b9e6f0b50b3d0": {
          "model_module": "@jupyter-widgets/base",
          "model_name": "LayoutModel",
          "model_module_version": "1.2.0",
          "state": {
            "_model_module": "@jupyter-widgets/base",
            "_model_module_version": "1.2.0",
            "_model_name": "LayoutModel",
            "_view_count": null,
            "_view_module": "@jupyter-widgets/base",
            "_view_module_version": "1.2.0",
            "_view_name": "LayoutView",
            "align_content": null,
            "align_items": null,
            "align_self": null,
            "border": null,
            "bottom": null,
            "display": null,
            "flex": null,
            "flex_flow": null,
            "grid_area": null,
            "grid_auto_columns": null,
            "grid_auto_flow": null,
            "grid_auto_rows": null,
            "grid_column": null,
            "grid_gap": null,
            "grid_row": null,
            "grid_template_areas": null,
            "grid_template_columns": null,
            "grid_template_rows": null,
            "height": null,
            "justify_content": null,
            "justify_items": null,
            "left": null,
            "margin": null,
            "max_height": null,
            "max_width": null,
            "min_height": null,
            "min_width": null,
            "object_fit": null,
            "object_position": null,
            "order": null,
            "overflow": null,
            "overflow_x": null,
            "overflow_y": null,
            "padding": null,
            "right": null,
            "top": null,
            "visibility": null,
            "width": null
          }
        },
        "e25df225ea02461eb69d491a9cd88c05": {
          "model_module": "@jupyter-widgets/controls",
          "model_name": "ProgressStyleModel",
          "model_module_version": "1.5.0",
          "state": {
            "_model_module": "@jupyter-widgets/controls",
            "_model_module_version": "1.5.0",
            "_model_name": "ProgressStyleModel",
            "_view_count": null,
            "_view_module": "@jupyter-widgets/base",
            "_view_module_version": "1.2.0",
            "_view_name": "StyleView",
            "bar_color": null,
            "description_width": ""
          }
        },
        "48976af6dc2c4edb9d0574674d98920c": {
          "model_module": "@jupyter-widgets/base",
          "model_name": "LayoutModel",
          "model_module_version": "1.2.0",
          "state": {
            "_model_module": "@jupyter-widgets/base",
            "_model_module_version": "1.2.0",
            "_model_name": "LayoutModel",
            "_view_count": null,
            "_view_module": "@jupyter-widgets/base",
            "_view_module_version": "1.2.0",
            "_view_name": "LayoutView",
            "align_content": null,
            "align_items": null,
            "align_self": null,
            "border": null,
            "bottom": null,
            "display": null,
            "flex": null,
            "flex_flow": null,
            "grid_area": null,
            "grid_auto_columns": null,
            "grid_auto_flow": null,
            "grid_auto_rows": null,
            "grid_column": null,
            "grid_gap": null,
            "grid_row": null,
            "grid_template_areas": null,
            "grid_template_columns": null,
            "grid_template_rows": null,
            "height": null,
            "justify_content": null,
            "justify_items": null,
            "left": null,
            "margin": null,
            "max_height": null,
            "max_width": null,
            "min_height": null,
            "min_width": null,
            "object_fit": null,
            "object_position": null,
            "order": null,
            "overflow": null,
            "overflow_x": null,
            "overflow_y": null,
            "padding": null,
            "right": null,
            "top": null,
            "visibility": null,
            "width": null
          }
        },
        "12e0bdf20f794eab96f27a3f3175d8b6": {
          "model_module": "@jupyter-widgets/controls",
          "model_name": "ProgressStyleModel",
          "model_module_version": "1.5.0",
          "state": {
            "_model_module": "@jupyter-widgets/controls",
            "_model_module_version": "1.5.0",
            "_model_name": "ProgressStyleModel",
            "_view_count": null,
            "_view_module": "@jupyter-widgets/base",
            "_view_module_version": "1.2.0",
            "_view_name": "StyleView",
            "bar_color": null,
            "description_width": ""
          }
        },
        "efd2bc927d874046b4534cf71809d4ca": {
          "model_module": "@jupyter-widgets/base",
          "model_name": "LayoutModel",
          "model_module_version": "1.2.0",
          "state": {
            "_model_module": "@jupyter-widgets/base",
            "_model_module_version": "1.2.0",
            "_model_name": "LayoutModel",
            "_view_count": null,
            "_view_module": "@jupyter-widgets/base",
            "_view_module_version": "1.2.0",
            "_view_name": "LayoutView",
            "align_content": null,
            "align_items": null,
            "align_self": null,
            "border": null,
            "bottom": null,
            "display": null,
            "flex": null,
            "flex_flow": null,
            "grid_area": null,
            "grid_auto_columns": null,
            "grid_auto_flow": null,
            "grid_auto_rows": null,
            "grid_column": null,
            "grid_gap": null,
            "grid_row": null,
            "grid_template_areas": null,
            "grid_template_columns": null,
            "grid_template_rows": null,
            "height": null,
            "justify_content": null,
            "justify_items": null,
            "left": null,
            "margin": null,
            "max_height": null,
            "max_width": null,
            "min_height": null,
            "min_width": null,
            "object_fit": null,
            "object_position": null,
            "order": null,
            "overflow": null,
            "overflow_x": null,
            "overflow_y": null,
            "padding": null,
            "right": null,
            "top": null,
            "visibility": null,
            "width": null
          }
        },
        "4a2821e4028c4cac8cdd8512b907fb97": {
          "model_module": "@jupyter-widgets/controls",
          "model_name": "DescriptionStyleModel",
          "model_module_version": "1.5.0",
          "state": {
            "_model_module": "@jupyter-widgets/controls",
            "_model_module_version": "1.5.0",
            "_model_name": "DescriptionStyleModel",
            "_view_count": null,
            "_view_module": "@jupyter-widgets/base",
            "_view_module_version": "1.2.0",
            "_view_name": "StyleView",
            "description_width": ""
          }
        },
        "16021a08e7f54340b6e5d8f82d8304c3": {
          "model_module": "@jupyter-widgets/controls",
          "model_name": "LabelModel",
          "model_module_version": "1.5.0",
          "state": {
            "_dom_classes": [],
            "_model_module": "@jupyter-widgets/controls",
            "_model_module_version": "1.5.0",
            "_model_name": "LabelModel",
            "_view_count": null,
            "_view_module": "@jupyter-widgets/controls",
            "_view_module_version": "1.5.0",
            "_view_name": "LabelView",
            "description": "",
            "description_tooltip": null,
            "layout": "IPY_MODEL_efd2bc927d874046b4534cf71809d4ca",
            "placeholder": "​",
            "style": "IPY_MODEL_4a2821e4028c4cac8cdd8512b907fb97",
            "value": "0.021 MB of 0.021 MB uploaded\r"
          }
        },
        "2898c68d8cbf49d4885abcacd4662600": {
          "model_module": "@jupyter-widgets/controls",
          "model_name": "FloatProgressModel",
          "model_module_version": "1.5.0",
          "state": {
            "_dom_classes": [],
            "_model_module": "@jupyter-widgets/controls",
            "_model_module_version": "1.5.0",
            "_model_name": "FloatProgressModel",
            "_view_count": null,
            "_view_module": "@jupyter-widgets/controls",
            "_view_module_version": "1.5.0",
            "_view_name": "ProgressView",
            "bar_style": "",
            "description": "",
            "description_tooltip": null,
            "layout": "IPY_MODEL_48976af6dc2c4edb9d0574674d98920c",
            "max": 1,
            "min": 0,
            "orientation": "horizontal",
            "style": "IPY_MODEL_12e0bdf20f794eab96f27a3f3175d8b6",
            "value": 1
          }
        },
        "263f71f610f54b6dbdf4373ffbfa88cd": {
          "model_module": "@jupyter-widgets/base",
          "model_name": "LayoutModel",
          "model_module_version": "1.2.0",
          "state": {
            "_model_module": "@jupyter-widgets/base",
            "_model_module_version": "1.2.0",
            "_model_name": "LayoutModel",
            "_view_count": null,
            "_view_module": "@jupyter-widgets/base",
            "_view_module_version": "1.2.0",
            "_view_name": "LayoutView",
            "align_content": null,
            "align_items": null,
            "align_self": null,
            "border": null,
            "bottom": null,
            "display": null,
            "flex": null,
            "flex_flow": null,
            "grid_area": null,
            "grid_auto_columns": null,
            "grid_auto_flow": null,
            "grid_auto_rows": null,
            "grid_column": null,
            "grid_gap": null,
            "grid_row": null,
            "grid_template_areas": null,
            "grid_template_columns": null,
            "grid_template_rows": null,
            "height": null,
            "justify_content": null,
            "justify_items": null,
            "left": null,
            "margin": null,
            "max_height": null,
            "max_width": null,
            "min_height": null,
            "min_width": null,
            "object_fit": null,
            "object_position": null,
            "order": null,
            "overflow": null,
            "overflow_x": null,
            "overflow_y": null,
            "padding": null,
            "right": null,
            "top": null,
            "visibility": null,
            "width": null
          }
        },
        "95e8a8d5ae2145c4b475ed92f4aa51e1": {
          "model_module": "@jupyter-widgets/controls",
          "model_name": "VBoxModel",
          "model_module_version": "1.5.0",
          "state": {
            "_dom_classes": [],
            "_model_module": "@jupyter-widgets/controls",
            "_model_module_version": "1.5.0",
            "_model_name": "VBoxModel",
            "_view_count": null,
            "_view_module": "@jupyter-widgets/controls",
            "_view_module_version": "1.5.0",
            "_view_name": "VBoxView",
            "box_style": "",
            "children": [
              "IPY_MODEL_16021a08e7f54340b6e5d8f82d8304c3",
              "IPY_MODEL_2898c68d8cbf49d4885abcacd4662600"
            ],
            "layout": "IPY_MODEL_263f71f610f54b6dbdf4373ffbfa88cd"
          }
        },
        "54a18dbc007848cf9812512562761adf": {
          "model_module": "@jupyter-widgets/controls",
          "model_name": "HBoxModel",
          "model_module_version": "1.5.0",
          "state": {
            "_dom_classes": [],
            "_model_module": "@jupyter-widgets/controls",
            "_model_module_version": "1.5.0",
            "_model_name": "HBoxModel",
            "_view_count": null,
            "_view_module": "@jupyter-widgets/controls",
            "_view_module_version": "1.5.0",
            "_view_name": "HBoxView",
            "box_style": "",
            "children": [
              "IPY_MODEL_9c2ea6ec90464f81aeef86ba1df47e8f",
              "IPY_MODEL_034e63b4337a4404834420a783f824da",
              "IPY_MODEL_4b9c975c746f428db07ca9a30691a5fe"
            ],
            "layout": "IPY_MODEL_4ce179d0dba84b44b34f915c0bbaa995"
          }
        },
        "9c2ea6ec90464f81aeef86ba1df47e8f": {
          "model_module": "@jupyter-widgets/controls",
          "model_name": "HTMLModel",
          "model_module_version": "1.5.0",
          "state": {
            "_dom_classes": [],
            "_model_module": "@jupyter-widgets/controls",
            "_model_module_version": "1.5.0",
            "_model_name": "HTMLModel",
            "_view_count": null,
            "_view_module": "@jupyter-widgets/controls",
            "_view_module_version": "1.5.0",
            "_view_name": "HTMLView",
            "description": "",
            "description_tooltip": null,
            "layout": "IPY_MODEL_ad290dc6c54c4f60b97cf50c4e7f67b5",
            "placeholder": "​",
            "style": "IPY_MODEL_25384769846448d6889b1934df4e4af6",
            "value": "100%"
          }
        },
        "034e63b4337a4404834420a783f824da": {
          "model_module": "@jupyter-widgets/controls",
          "model_name": "FloatProgressModel",
          "model_module_version": "1.5.0",
          "state": {
            "_dom_classes": [],
            "_model_module": "@jupyter-widgets/controls",
            "_model_module_version": "1.5.0",
            "_model_name": "FloatProgressModel",
            "_view_count": null,
            "_view_module": "@jupyter-widgets/controls",
            "_view_module_version": "1.5.0",
            "_view_name": "ProgressView",
            "bar_style": "success",
            "description": "",
            "description_tooltip": null,
            "layout": "IPY_MODEL_62cc0f3fd17e4ee6961b6d5a4e3539fe",
            "max": 150,
            "min": 0,
            "orientation": "horizontal",
            "style": "IPY_MODEL_dda9201e6bc948e688b3503c2c2f5da2",
            "value": 150
          }
        },
        "4b9c975c746f428db07ca9a30691a5fe": {
          "model_module": "@jupyter-widgets/controls",
          "model_name": "HTMLModel",
          "model_module_version": "1.5.0",
          "state": {
            "_dom_classes": [],
            "_model_module": "@jupyter-widgets/controls",
            "_model_module_version": "1.5.0",
            "_model_name": "HTMLModel",
            "_view_count": null,
            "_view_module": "@jupyter-widgets/controls",
            "_view_module_version": "1.5.0",
            "_view_name": "HTMLView",
            "description": "",
            "description_tooltip": null,
            "layout": "IPY_MODEL_d77991f47b9046f587ea09ff3268a8da",
            "placeholder": "​",
            "style": "IPY_MODEL_45591ed9ea264034831223f57cbf9528",
            "value": " 150/150 [00:47&lt;00:00,  3.34it/s]"
          }
        },
        "4ce179d0dba84b44b34f915c0bbaa995": {
          "model_module": "@jupyter-widgets/base",
          "model_name": "LayoutModel",
          "model_module_version": "1.2.0",
          "state": {
            "_model_module": "@jupyter-widgets/base",
            "_model_module_version": "1.2.0",
            "_model_name": "LayoutModel",
            "_view_count": null,
            "_view_module": "@jupyter-widgets/base",
            "_view_module_version": "1.2.0",
            "_view_name": "LayoutView",
            "align_content": null,
            "align_items": null,
            "align_self": null,
            "border": null,
            "bottom": null,
            "display": null,
            "flex": null,
            "flex_flow": null,
            "grid_area": null,
            "grid_auto_columns": null,
            "grid_auto_flow": null,
            "grid_auto_rows": null,
            "grid_column": null,
            "grid_gap": null,
            "grid_row": null,
            "grid_template_areas": null,
            "grid_template_columns": null,
            "grid_template_rows": null,
            "height": null,
            "justify_content": null,
            "justify_items": null,
            "left": null,
            "margin": null,
            "max_height": null,
            "max_width": null,
            "min_height": null,
            "min_width": null,
            "object_fit": null,
            "object_position": null,
            "order": null,
            "overflow": null,
            "overflow_x": null,
            "overflow_y": null,
            "padding": null,
            "right": null,
            "top": null,
            "visibility": null,
            "width": null
          }
        },
        "ad290dc6c54c4f60b97cf50c4e7f67b5": {
          "model_module": "@jupyter-widgets/base",
          "model_name": "LayoutModel",
          "model_module_version": "1.2.0",
          "state": {
            "_model_module": "@jupyter-widgets/base",
            "_model_module_version": "1.2.0",
            "_model_name": "LayoutModel",
            "_view_count": null,
            "_view_module": "@jupyter-widgets/base",
            "_view_module_version": "1.2.0",
            "_view_name": "LayoutView",
            "align_content": null,
            "align_items": null,
            "align_self": null,
            "border": null,
            "bottom": null,
            "display": null,
            "flex": null,
            "flex_flow": null,
            "grid_area": null,
            "grid_auto_columns": null,
            "grid_auto_flow": null,
            "grid_auto_rows": null,
            "grid_column": null,
            "grid_gap": null,
            "grid_row": null,
            "grid_template_areas": null,
            "grid_template_columns": null,
            "grid_template_rows": null,
            "height": null,
            "justify_content": null,
            "justify_items": null,
            "left": null,
            "margin": null,
            "max_height": null,
            "max_width": null,
            "min_height": null,
            "min_width": null,
            "object_fit": null,
            "object_position": null,
            "order": null,
            "overflow": null,
            "overflow_x": null,
            "overflow_y": null,
            "padding": null,
            "right": null,
            "top": null,
            "visibility": null,
            "width": null
          }
        },
        "25384769846448d6889b1934df4e4af6": {
          "model_module": "@jupyter-widgets/controls",
          "model_name": "DescriptionStyleModel",
          "model_module_version": "1.5.0",
          "state": {
            "_model_module": "@jupyter-widgets/controls",
            "_model_module_version": "1.5.0",
            "_model_name": "DescriptionStyleModel",
            "_view_count": null,
            "_view_module": "@jupyter-widgets/base",
            "_view_module_version": "1.2.0",
            "_view_name": "StyleView",
            "description_width": ""
          }
        },
        "62cc0f3fd17e4ee6961b6d5a4e3539fe": {
          "model_module": "@jupyter-widgets/base",
          "model_name": "LayoutModel",
          "model_module_version": "1.2.0",
          "state": {
            "_model_module": "@jupyter-widgets/base",
            "_model_module_version": "1.2.0",
            "_model_name": "LayoutModel",
            "_view_count": null,
            "_view_module": "@jupyter-widgets/base",
            "_view_module_version": "1.2.0",
            "_view_name": "LayoutView",
            "align_content": null,
            "align_items": null,
            "align_self": null,
            "border": null,
            "bottom": null,
            "display": null,
            "flex": null,
            "flex_flow": null,
            "grid_area": null,
            "grid_auto_columns": null,
            "grid_auto_flow": null,
            "grid_auto_rows": null,
            "grid_column": null,
            "grid_gap": null,
            "grid_row": null,
            "grid_template_areas": null,
            "grid_template_columns": null,
            "grid_template_rows": null,
            "height": null,
            "justify_content": null,
            "justify_items": null,
            "left": null,
            "margin": null,
            "max_height": null,
            "max_width": null,
            "min_height": null,
            "min_width": null,
            "object_fit": null,
            "object_position": null,
            "order": null,
            "overflow": null,
            "overflow_x": null,
            "overflow_y": null,
            "padding": null,
            "right": null,
            "top": null,
            "visibility": null,
            "width": null
          }
        },
        "dda9201e6bc948e688b3503c2c2f5da2": {
          "model_module": "@jupyter-widgets/controls",
          "model_name": "ProgressStyleModel",
          "model_module_version": "1.5.0",
          "state": {
            "_model_module": "@jupyter-widgets/controls",
            "_model_module_version": "1.5.0",
            "_model_name": "ProgressStyleModel",
            "_view_count": null,
            "_view_module": "@jupyter-widgets/base",
            "_view_module_version": "1.2.0",
            "_view_name": "StyleView",
            "bar_color": null,
            "description_width": ""
          }
        },
        "d77991f47b9046f587ea09ff3268a8da": {
          "model_module": "@jupyter-widgets/base",
          "model_name": "LayoutModel",
          "model_module_version": "1.2.0",
          "state": {
            "_model_module": "@jupyter-widgets/base",
            "_model_module_version": "1.2.0",
            "_model_name": "LayoutModel",
            "_view_count": null,
            "_view_module": "@jupyter-widgets/base",
            "_view_module_version": "1.2.0",
            "_view_name": "LayoutView",
            "align_content": null,
            "align_items": null,
            "align_self": null,
            "border": null,
            "bottom": null,
            "display": null,
            "flex": null,
            "flex_flow": null,
            "grid_area": null,
            "grid_auto_columns": null,
            "grid_auto_flow": null,
            "grid_auto_rows": null,
            "grid_column": null,
            "grid_gap": null,
            "grid_row": null,
            "grid_template_areas": null,
            "grid_template_columns": null,
            "grid_template_rows": null,
            "height": null,
            "justify_content": null,
            "justify_items": null,
            "left": null,
            "margin": null,
            "max_height": null,
            "max_width": null,
            "min_height": null,
            "min_width": null,
            "object_fit": null,
            "object_position": null,
            "order": null,
            "overflow": null,
            "overflow_x": null,
            "overflow_y": null,
            "padding": null,
            "right": null,
            "top": null,
            "visibility": null,
            "width": null
          }
        },
        "45591ed9ea264034831223f57cbf9528": {
          "model_module": "@jupyter-widgets/controls",
          "model_name": "DescriptionStyleModel",
          "model_module_version": "1.5.0",
          "state": {
            "_model_module": "@jupyter-widgets/controls",
            "_model_module_version": "1.5.0",
            "_model_name": "DescriptionStyleModel",
            "_view_count": null,
            "_view_module": "@jupyter-widgets/base",
            "_view_module_version": "1.2.0",
            "_view_name": "StyleView",
            "description_width": ""
          }
        },
        "d161a18e1d134b199aa6ddf021e81007": {
          "model_module": "@jupyter-widgets/controls",
          "model_name": "VBoxModel",
          "model_module_version": "1.5.0",
          "state": {
            "_dom_classes": [],
            "_model_module": "@jupyter-widgets/controls",
            "_model_module_version": "1.5.0",
            "_model_name": "VBoxModel",
            "_view_count": null,
            "_view_module": "@jupyter-widgets/controls",
            "_view_module_version": "1.5.0",
            "_view_name": "VBoxView",
            "box_style": "",
            "children": [
              "IPY_MODEL_e4f3c6d1d30d490fb9705739b3fb0511",
              "IPY_MODEL_78c70af4a5574e7990e4369732789d71"
            ],
            "layout": "IPY_MODEL_f83949bed63a488d8a57e104d0419176"
          }
        },
        "e4f3c6d1d30d490fb9705739b3fb0511": {
          "model_module": "@jupyter-widgets/controls",
          "model_name": "LabelModel",
          "model_module_version": "1.5.0",
          "state": {
            "_dom_classes": [],
            "_model_module": "@jupyter-widgets/controls",
            "_model_module_version": "1.5.0",
            "_model_name": "LabelModel",
            "_view_count": null,
            "_view_module": "@jupyter-widgets/controls",
            "_view_module_version": "1.5.0",
            "_view_name": "LabelView",
            "description": "",
            "description_tooltip": null,
            "layout": "IPY_MODEL_c83476ceed40475aa2ac8265d71fc024",
            "placeholder": "​",
            "style": "IPY_MODEL_280d181262094c1ca2bdef36b06338eb",
            "value": "0.020 MB of 0.020 MB uploaded\r"
          }
        },
        "78c70af4a5574e7990e4369732789d71": {
          "model_module": "@jupyter-widgets/controls",
          "model_name": "FloatProgressModel",
          "model_module_version": "1.5.0",
          "state": {
            "_dom_classes": [],
            "_model_module": "@jupyter-widgets/controls",
            "_model_module_version": "1.5.0",
            "_model_name": "FloatProgressModel",
            "_view_count": null,
            "_view_module": "@jupyter-widgets/controls",
            "_view_module_version": "1.5.0",
            "_view_name": "ProgressView",
            "bar_style": "",
            "description": "",
            "description_tooltip": null,
            "layout": "IPY_MODEL_c084a77344e143d2b227d9cf8644808f",
            "max": 1,
            "min": 0,
            "orientation": "horizontal",
            "style": "IPY_MODEL_d166e9ec19664f7a9cafea24222a2a0b",
            "value": 1
          }
        },
        "f83949bed63a488d8a57e104d0419176": {
          "model_module": "@jupyter-widgets/base",
          "model_name": "LayoutModel",
          "model_module_version": "1.2.0",
          "state": {
            "_model_module": "@jupyter-widgets/base",
            "_model_module_version": "1.2.0",
            "_model_name": "LayoutModel",
            "_view_count": null,
            "_view_module": "@jupyter-widgets/base",
            "_view_module_version": "1.2.0",
            "_view_name": "LayoutView",
            "align_content": null,
            "align_items": null,
            "align_self": null,
            "border": null,
            "bottom": null,
            "display": null,
            "flex": null,
            "flex_flow": null,
            "grid_area": null,
            "grid_auto_columns": null,
            "grid_auto_flow": null,
            "grid_auto_rows": null,
            "grid_column": null,
            "grid_gap": null,
            "grid_row": null,
            "grid_template_areas": null,
            "grid_template_columns": null,
            "grid_template_rows": null,
            "height": null,
            "justify_content": null,
            "justify_items": null,
            "left": null,
            "margin": null,
            "max_height": null,
            "max_width": null,
            "min_height": null,
            "min_width": null,
            "object_fit": null,
            "object_position": null,
            "order": null,
            "overflow": null,
            "overflow_x": null,
            "overflow_y": null,
            "padding": null,
            "right": null,
            "top": null,
            "visibility": null,
            "width": null
          }
        },
        "c83476ceed40475aa2ac8265d71fc024": {
          "model_module": "@jupyter-widgets/base",
          "model_name": "LayoutModel",
          "model_module_version": "1.2.0",
          "state": {
            "_model_module": "@jupyter-widgets/base",
            "_model_module_version": "1.2.0",
            "_model_name": "LayoutModel",
            "_view_count": null,
            "_view_module": "@jupyter-widgets/base",
            "_view_module_version": "1.2.0",
            "_view_name": "LayoutView",
            "align_content": null,
            "align_items": null,
            "align_self": null,
            "border": null,
            "bottom": null,
            "display": null,
            "flex": null,
            "flex_flow": null,
            "grid_area": null,
            "grid_auto_columns": null,
            "grid_auto_flow": null,
            "grid_auto_rows": null,
            "grid_column": null,
            "grid_gap": null,
            "grid_row": null,
            "grid_template_areas": null,
            "grid_template_columns": null,
            "grid_template_rows": null,
            "height": null,
            "justify_content": null,
            "justify_items": null,
            "left": null,
            "margin": null,
            "max_height": null,
            "max_width": null,
            "min_height": null,
            "min_width": null,
            "object_fit": null,
            "object_position": null,
            "order": null,
            "overflow": null,
            "overflow_x": null,
            "overflow_y": null,
            "padding": null,
            "right": null,
            "top": null,
            "visibility": null,
            "width": null
          }
        },
        "280d181262094c1ca2bdef36b06338eb": {
          "model_module": "@jupyter-widgets/controls",
          "model_name": "DescriptionStyleModel",
          "model_module_version": "1.5.0",
          "state": {
            "_model_module": "@jupyter-widgets/controls",
            "_model_module_version": "1.5.0",
            "_model_name": "DescriptionStyleModel",
            "_view_count": null,
            "_view_module": "@jupyter-widgets/base",
            "_view_module_version": "1.2.0",
            "_view_name": "StyleView",
            "description_width": ""
          }
        },
        "c084a77344e143d2b227d9cf8644808f": {
          "model_module": "@jupyter-widgets/base",
          "model_name": "LayoutModel",
          "model_module_version": "1.2.0",
          "state": {
            "_model_module": "@jupyter-widgets/base",
            "_model_module_version": "1.2.0",
            "_model_name": "LayoutModel",
            "_view_count": null,
            "_view_module": "@jupyter-widgets/base",
            "_view_module_version": "1.2.0",
            "_view_name": "LayoutView",
            "align_content": null,
            "align_items": null,
            "align_self": null,
            "border": null,
            "bottom": null,
            "display": null,
            "flex": null,
            "flex_flow": null,
            "grid_area": null,
            "grid_auto_columns": null,
            "grid_auto_flow": null,
            "grid_auto_rows": null,
            "grid_column": null,
            "grid_gap": null,
            "grid_row": null,
            "grid_template_areas": null,
            "grid_template_columns": null,
            "grid_template_rows": null,
            "height": null,
            "justify_content": null,
            "justify_items": null,
            "left": null,
            "margin": null,
            "max_height": null,
            "max_width": null,
            "min_height": null,
            "min_width": null,
            "object_fit": null,
            "object_position": null,
            "order": null,
            "overflow": null,
            "overflow_x": null,
            "overflow_y": null,
            "padding": null,
            "right": null,
            "top": null,
            "visibility": null,
            "width": null
          }
        },
        "d166e9ec19664f7a9cafea24222a2a0b": {
          "model_module": "@jupyter-widgets/controls",
          "model_name": "ProgressStyleModel",
          "model_module_version": "1.5.0",
          "state": {
            "_model_module": "@jupyter-widgets/controls",
            "_model_module_version": "1.5.0",
            "_model_name": "ProgressStyleModel",
            "_view_count": null,
            "_view_module": "@jupyter-widgets/base",
            "_view_module_version": "1.2.0",
            "_view_name": "StyleView",
            "bar_color": null,
            "description_width": ""
          }
        },
        "33ec795fa5944d7bb606781659dae5ca": {
          "model_module": "@jupyter-widgets/controls",
          "model_name": "VBoxModel",
          "model_module_version": "1.5.0",
          "state": {
            "_dom_classes": [],
            "_model_module": "@jupyter-widgets/controls",
            "_model_module_version": "1.5.0",
            "_model_name": "VBoxModel",
            "_view_count": null,
            "_view_module": "@jupyter-widgets/controls",
            "_view_module_version": "1.5.0",
            "_view_name": "VBoxView",
            "box_style": "",
            "children": [
              "IPY_MODEL_9087ae1715cc4738acdabdfad6f95af9",
              "IPY_MODEL_b12fd7b599384334b48b52ca342932ed"
            ],
            "layout": "IPY_MODEL_5b72edaa80ef419f9ba08ca275317c46"
          }
        },
        "9087ae1715cc4738acdabdfad6f95af9": {
          "model_module": "@jupyter-widgets/controls",
          "model_name": "LabelModel",
          "model_module_version": "1.5.0",
          "state": {
            "_dom_classes": [],
            "_model_module": "@jupyter-widgets/controls",
            "_model_module_version": "1.5.0",
            "_model_name": "LabelModel",
            "_view_count": null,
            "_view_module": "@jupyter-widgets/controls",
            "_view_module_version": "1.5.0",
            "_view_name": "LabelView",
            "description": "",
            "description_tooltip": null,
            "layout": "IPY_MODEL_eb98d138012d4acab8822328c450ece7",
            "placeholder": "​",
            "style": "IPY_MODEL_4d37c894d3a34a45808bea703a39492c",
            "value": "0.058 MB of 0.058 MB uploaded\r"
          }
        },
        "b12fd7b599384334b48b52ca342932ed": {
          "model_module": "@jupyter-widgets/controls",
          "model_name": "FloatProgressModel",
          "model_module_version": "1.5.0",
          "state": {
            "_dom_classes": [],
            "_model_module": "@jupyter-widgets/controls",
            "_model_module_version": "1.5.0",
            "_model_name": "FloatProgressModel",
            "_view_count": null,
            "_view_module": "@jupyter-widgets/controls",
            "_view_module_version": "1.5.0",
            "_view_name": "ProgressView",
            "bar_style": "",
            "description": "",
            "description_tooltip": null,
            "layout": "IPY_MODEL_57cab219be5449618db4f41cf88e1a45",
            "max": 1,
            "min": 0,
            "orientation": "horizontal",
            "style": "IPY_MODEL_a0fac307006c4d7fa721c87b77593d44",
            "value": 1
          }
        },
        "5b72edaa80ef419f9ba08ca275317c46": {
          "model_module": "@jupyter-widgets/base",
          "model_name": "LayoutModel",
          "model_module_version": "1.2.0",
          "state": {
            "_model_module": "@jupyter-widgets/base",
            "_model_module_version": "1.2.0",
            "_model_name": "LayoutModel",
            "_view_count": null,
            "_view_module": "@jupyter-widgets/base",
            "_view_module_version": "1.2.0",
            "_view_name": "LayoutView",
            "align_content": null,
            "align_items": null,
            "align_self": null,
            "border": null,
            "bottom": null,
            "display": null,
            "flex": null,
            "flex_flow": null,
            "grid_area": null,
            "grid_auto_columns": null,
            "grid_auto_flow": null,
            "grid_auto_rows": null,
            "grid_column": null,
            "grid_gap": null,
            "grid_row": null,
            "grid_template_areas": null,
            "grid_template_columns": null,
            "grid_template_rows": null,
            "height": null,
            "justify_content": null,
            "justify_items": null,
            "left": null,
            "margin": null,
            "max_height": null,
            "max_width": null,
            "min_height": null,
            "min_width": null,
            "object_fit": null,
            "object_position": null,
            "order": null,
            "overflow": null,
            "overflow_x": null,
            "overflow_y": null,
            "padding": null,
            "right": null,
            "top": null,
            "visibility": null,
            "width": null
          }
        },
        "eb98d138012d4acab8822328c450ece7": {
          "model_module": "@jupyter-widgets/base",
          "model_name": "LayoutModel",
          "model_module_version": "1.2.0",
          "state": {
            "_model_module": "@jupyter-widgets/base",
            "_model_module_version": "1.2.0",
            "_model_name": "LayoutModel",
            "_view_count": null,
            "_view_module": "@jupyter-widgets/base",
            "_view_module_version": "1.2.0",
            "_view_name": "LayoutView",
            "align_content": null,
            "align_items": null,
            "align_self": null,
            "border": null,
            "bottom": null,
            "display": null,
            "flex": null,
            "flex_flow": null,
            "grid_area": null,
            "grid_auto_columns": null,
            "grid_auto_flow": null,
            "grid_auto_rows": null,
            "grid_column": null,
            "grid_gap": null,
            "grid_row": null,
            "grid_template_areas": null,
            "grid_template_columns": null,
            "grid_template_rows": null,
            "height": null,
            "justify_content": null,
            "justify_items": null,
            "left": null,
            "margin": null,
            "max_height": null,
            "max_width": null,
            "min_height": null,
            "min_width": null,
            "object_fit": null,
            "object_position": null,
            "order": null,
            "overflow": null,
            "overflow_x": null,
            "overflow_y": null,
            "padding": null,
            "right": null,
            "top": null,
            "visibility": null,
            "width": null
          }
        },
        "4d37c894d3a34a45808bea703a39492c": {
          "model_module": "@jupyter-widgets/controls",
          "model_name": "DescriptionStyleModel",
          "model_module_version": "1.5.0",
          "state": {
            "_model_module": "@jupyter-widgets/controls",
            "_model_module_version": "1.5.0",
            "_model_name": "DescriptionStyleModel",
            "_view_count": null,
            "_view_module": "@jupyter-widgets/base",
            "_view_module_version": "1.2.0",
            "_view_name": "StyleView",
            "description_width": ""
          }
        },
        "57cab219be5449618db4f41cf88e1a45": {
          "model_module": "@jupyter-widgets/base",
          "model_name": "LayoutModel",
          "model_module_version": "1.2.0",
          "state": {
            "_model_module": "@jupyter-widgets/base",
            "_model_module_version": "1.2.0",
            "_model_name": "LayoutModel",
            "_view_count": null,
            "_view_module": "@jupyter-widgets/base",
            "_view_module_version": "1.2.0",
            "_view_name": "LayoutView",
            "align_content": null,
            "align_items": null,
            "align_self": null,
            "border": null,
            "bottom": null,
            "display": null,
            "flex": null,
            "flex_flow": null,
            "grid_area": null,
            "grid_auto_columns": null,
            "grid_auto_flow": null,
            "grid_auto_rows": null,
            "grid_column": null,
            "grid_gap": null,
            "grid_row": null,
            "grid_template_areas": null,
            "grid_template_columns": null,
            "grid_template_rows": null,
            "height": null,
            "justify_content": null,
            "justify_items": null,
            "left": null,
            "margin": null,
            "max_height": null,
            "max_width": null,
            "min_height": null,
            "min_width": null,
            "object_fit": null,
            "object_position": null,
            "order": null,
            "overflow": null,
            "overflow_x": null,
            "overflow_y": null,
            "padding": null,
            "right": null,
            "top": null,
            "visibility": null,
            "width": null
          }
        },
        "a0fac307006c4d7fa721c87b77593d44": {
          "model_module": "@jupyter-widgets/controls",
          "model_name": "ProgressStyleModel",
          "model_module_version": "1.5.0",
          "state": {
            "_model_module": "@jupyter-widgets/controls",
            "_model_module_version": "1.5.0",
            "_model_name": "ProgressStyleModel",
            "_view_count": null,
            "_view_module": "@jupyter-widgets/base",
            "_view_module_version": "1.2.0",
            "_view_name": "StyleView",
            "bar_color": null,
            "description_width": ""
          }
        }
      }
    }
  },
  "nbformat": 4,
  "nbformat_minor": 0
}